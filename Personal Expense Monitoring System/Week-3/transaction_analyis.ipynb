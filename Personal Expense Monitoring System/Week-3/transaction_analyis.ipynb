{
  "nbformat": 4,
  "nbformat_minor": 0,
  "metadata": {
    "colab": {
      "provenance": []
    },
    "kernelspec": {
      "name": "python3",
      "display_name": "Python 3"
    },
    "language_info": {
      "name": "python"
    }
  },
  "cells": [
    {
      "cell_type": "code",
      "source": [
        "from pyspark.sql import SparkSession\n",
        "from pyspark.sql.functions import (\n",
        "    col, to_date, month, year, sum as _sum, avg, stddev, collect_list\n",
        ")"
      ],
      "metadata": {
        "id": "tsFVCbElA2f_",
        "collapsed": true
      },
      "execution_count": 1,
      "outputs": []
    },
    {
      "cell_type": "markdown",
      "source": [
        "# 1. Create Spark session"
      ],
      "metadata": {
        "id": "40RBx5ln0p-a"
      }
    },
    {
      "cell_type": "code",
      "source": [
        "spark = SparkSession.builder.appName(\"ExpenseAnalysis\").getOrCreate()"
      ],
      "metadata": {
        "id": "JRFPe8w30q6W"
      },
      "execution_count": 2,
      "outputs": []
    },
    {
      "cell_type": "markdown",
      "source": [
        "# 2. Load CSV"
      ],
      "metadata": {
        "id": "ZFgJTCOz0pvX"
      }
    },
    {
      "cell_type": "code",
      "source": [
        "df = spark.read.option(\"header\", True).option(\"inferSchema\", True).csv(\"/content/cleaned_expenses (1).csv\")\n",
        "print(\"=== Original Data ===\")\n",
        "df.show()"
      ],
      "metadata": {
        "colab": {
          "base_uri": "https://localhost:8080/"
        },
        "id": "8Io6pURP0w8u",
        "outputId": "6bcd6705-9edd-4a03-fe4e-46cc5eb84f9f"
      },
      "execution_count": 3,
      "outputs": [
        {
          "output_type": "stream",
          "name": "stdout",
          "text": [
            "=== Original Data ===\n",
            "+----------+------+----------+------+-----------+--------------------+-------------+-------------------+\n",
            "|expense_id|UserID|CategoryID|Amount|ExpenseDate|         Description|     Category|              Month|\n",
            "+----------+------+----------+------+-----------+--------------------+-------------+-------------------+\n",
            "|         1|     1|         1|  1200| 01-07-2025|Monthly grocery s...|    Groceries|2025-07-01 00:00:00|\n",
            "|         2|     1|         2|   300| 02-07-2025|            Bus pass|    Transport|2025-07-01 00:00:00|\n",
            "|         3|     1|         3|   500| 10-07-2025|         Movie night|Entertainment|2025-07-01 00:00:00|\n",
            "|         4|     2|         1|   900| 03-07-2025|             Grocery|    Groceries|2025-07-01 00:00:00|\n",
            "|         5|     2|         4|  1100| 05-07-2025|    Electricity bill|    Utilities|2025-07-01 00:00:00|\n",
            "|         7|     3|         2|  4490| 12-07-2025|    Clothes purchase|     Shopping|2025-07-01 00:00:00|\n",
            "|         8|     4|        10|  4078| 24-07-2025|    Clothes purchase|     Shopping|2025-07-01 00:00:00|\n",
            "|         9|     5|        10|  3143| 08-07-2025|  Doctor appointment|   Healthcare|2025-07-01 00:00:00|\n",
            "|        10|     5|         7|   111| 12-07-2025|       Flight ticket|       Travel|2025-07-01 00:00:00|\n",
            "|        11|     5|         4|  1242| 13-07-2025|       Online course|    Education|2025-07-01 00:00:00|\n",
            "|        12|     4|         7|  3273| 20-07-2025|    Electricity bill|    Utilities|2025-07-01 00:00:00|\n",
            "|        13|     4|         9|  1537| 27-07-2025|    Electricity bill|    Utilities|2025-07-01 00:00:00|\n",
            "|        14|     4|         1|  3351| 12-07-2025|    Clothes purchase|     Shopping|2025-07-01 00:00:00|\n",
            "|        15|     5|         9|  1690| 31-07-2025|    Electricity bill|    Utilities|2025-07-01 00:00:00|\n",
            "|        16|     5|         9|  2028| 28-07-2025|    Clothes purchase|     Shopping|2025-07-01 00:00:00|\n",
            "|        17|     4|         5|   788| 31-07-2025|       Online course|    Education|2025-07-01 00:00:00|\n",
            "|        18|     1|         7|   262| 13-07-2025|      Gym membership|      Fitness|2025-07-01 00:00:00|\n",
            "|        19|     3|        10|   154| 23-07-2025|            Bus pass|    Transport|2025-07-01 00:00:00|\n",
            "|        20|     5|         8|  1942| 19-07-2025|       Online course|    Education|2025-07-01 00:00:00|\n",
            "|        21|     5|         3|  1055| 23-07-2025|    Clothes purchase|     Shopping|2025-07-01 00:00:00|\n",
            "+----------+------+----------+------+-----------+--------------------+-------------+-------------------+\n",
            "only showing top 20 rows\n",
            "\n"
          ]
        }
      ]
    },
    {
      "cell_type": "markdown",
      "source": [
        "# 3. Convert ExpenseDate to proper date format"
      ],
      "metadata": {
        "id": "JDDQ1N5_04OW"
      }
    },
    {
      "cell_type": "code",
      "source": [
        "df = df.withColumn(\"date\", to_date(\"ExpenseDate\", \"yyyy-MM-dd\"))"
      ],
      "metadata": {
        "id": "HrFJgRFK0013"
      },
      "execution_count": 4,
      "outputs": []
    },
    {
      "cell_type": "markdown",
      "source": [
        "# 4. Extract month and year"
      ],
      "metadata": {
        "id": "7lddFIC107Zn"
      }
    },
    {
      "cell_type": "code",
      "source": [
        "from pyspark.sql.functions import to_date, col, month, year, dayofmonth\n",
        "\n",
        "# Convert string to proper DateType\n",
        "df = df.withColumn(\"ExpenseDate\", to_date(col(\"ExpenseDate\"), \"dd-MM-yyyy\"))\n",
        "\n",
        "# Extract month, date, and year\n",
        "df = df.withColumn(\"month\", month(col(\"ExpenseDate\"))) \\\n",
        "       .withColumn(\"date\", dayofmonth(col(\"ExpenseDate\"))) \\\n",
        "       .withColumn(\"year\", year(col(\"ExpenseDate\")))\n",
        "\n",
        "df.show()\n"
      ],
      "metadata": {
        "colab": {
          "base_uri": "https://localhost:8080/"
        },
        "id": "Cjy44dJm07tR",
        "outputId": "e1d69945-ceb8-4774-f282-9ecea87a18b6"
      },
      "execution_count": 6,
      "outputs": [
        {
          "output_type": "stream",
          "name": "stdout",
          "text": [
            "+----------+------+----------+------+-----------+--------------------+-------------+-----+----+----+\n",
            "|expense_id|UserID|CategoryID|Amount|ExpenseDate|         Description|     Category|month|date|year|\n",
            "+----------+------+----------+------+-----------+--------------------+-------------+-----+----+----+\n",
            "|         1|     1|         1|  1200| 2025-07-01|Monthly grocery s...|    Groceries|    7|   1|2025|\n",
            "|         2|     1|         2|   300| 2025-07-02|            Bus pass|    Transport|    7|   2|2025|\n",
            "|         3|     1|         3|   500| 2025-07-10|         Movie night|Entertainment|    7|  10|2025|\n",
            "|         4|     2|         1|   900| 2025-07-03|             Grocery|    Groceries|    7|   3|2025|\n",
            "|         5|     2|         4|  1100| 2025-07-05|    Electricity bill|    Utilities|    7|   5|2025|\n",
            "|         7|     3|         2|  4490| 2025-07-12|    Clothes purchase|     Shopping|    7|  12|2025|\n",
            "|         8|     4|        10|  4078| 2025-07-24|    Clothes purchase|     Shopping|    7|  24|2025|\n",
            "|         9|     5|        10|  3143| 2025-07-08|  Doctor appointment|   Healthcare|    7|   8|2025|\n",
            "|        10|     5|         7|   111| 2025-07-12|       Flight ticket|       Travel|    7|  12|2025|\n",
            "|        11|     5|         4|  1242| 2025-07-13|       Online course|    Education|    7|  13|2025|\n",
            "|        12|     4|         7|  3273| 2025-07-20|    Electricity bill|    Utilities|    7|  20|2025|\n",
            "|        13|     4|         9|  1537| 2025-07-27|    Electricity bill|    Utilities|    7|  27|2025|\n",
            "|        14|     4|         1|  3351| 2025-07-12|    Clothes purchase|     Shopping|    7|  12|2025|\n",
            "|        15|     5|         9|  1690| 2025-07-31|    Electricity bill|    Utilities|    7|  31|2025|\n",
            "|        16|     5|         9|  2028| 2025-07-28|    Clothes purchase|     Shopping|    7|  28|2025|\n",
            "|        17|     4|         5|   788| 2025-07-31|       Online course|    Education|    7|  31|2025|\n",
            "|        18|     1|         7|   262| 2025-07-13|      Gym membership|      Fitness|    7|  13|2025|\n",
            "|        19|     3|        10|   154| 2025-07-23|            Bus pass|    Transport|    7|  23|2025|\n",
            "|        20|     5|         8|  1942| 2025-07-19|       Online course|    Education|    7|  19|2025|\n",
            "|        21|     5|         3|  1055| 2025-07-23|    Clothes purchase|     Shopping|    7|  23|2025|\n",
            "+----------+------+----------+------+-----------+--------------------+-------------+-----+----+----+\n",
            "only showing top 20 rows\n",
            "\n"
          ]
        }
      ]
    },
    {
      "cell_type": "markdown",
      "source": [
        "# 5. Monthly spend per user"
      ],
      "metadata": {
        "id": "41oWZTqk1Il2"
      }
    },
    {
      "cell_type": "code",
      "source": [
        "\n",
        "monthly_spend = df.groupBy(\"UserID\", \"year\", \"month\") \\\n",
        "                  .agg(_sum(\"Amount\").alias(\"monthly_total\"))\n",
        "print(\"=== Monthly Spend by User ===\")\n",
        "monthly_spend.orderBy(\"UserID\", \"year\", \"month\").show()"
      ],
      "metadata": {
        "colab": {
          "base_uri": "https://localhost:8080/"
        },
        "id": "x0evg7Th1FB4",
        "outputId": "7b53d3a0-adf6-4bde-a96d-5875df670bfa"
      },
      "execution_count": 7,
      "outputs": [
        {
          "output_type": "stream",
          "name": "stdout",
          "text": [
            "=== Monthly Spend by User ===\n",
            "+------+----+-----+-------------+\n",
            "|UserID|year|month|monthly_total|\n",
            "+------+----+-----+-------------+\n",
            "|     1|2025|    7|         6639|\n",
            "|     2|2025|    7|         4149|\n",
            "|     3|2025|    7|         4644|\n",
            "|     4|2025|    7|        13027|\n",
            "|     5|2025|    7|        14859|\n",
            "+------+----+-----+-------------+\n",
            "\n"
          ]
        }
      ]
    },
    {
      "cell_type": "markdown",
      "source": [
        "# 6. Average and std deviation per user"
      ],
      "metadata": {
        "id": "9UooPHlH1Ouf"
      }
    },
    {
      "cell_type": "code",
      "source": [
        "\n",
        "stats = df.groupBy(\"UserID\").agg(\n",
        "    avg(\"Amount\").alias(\"avg_spend\"),\n",
        "    stddev(\"Amount\").alias(\"std_spend\")\n",
        ")\n",
        "print(\"=== Average & Std Dev Spend per User ===\")\n",
        "stats.show()"
      ],
      "metadata": {
        "colab": {
          "base_uri": "https://localhost:8080/"
        },
        "id": "MGbp__iV1Jjo",
        "outputId": "6c983074-1bf9-4f9b-a67e-54945c557b43"
      },
      "execution_count": 8,
      "outputs": [
        {
          "output_type": "stream",
          "name": "stdout",
          "text": [
            "=== Average & Std Dev Spend per User ===\n",
            "+------+---------+------------------+\n",
            "|UserID|avg_spend|         std_spend|\n",
            "+------+---------+------------------+\n",
            "|     1|   1327.8|1745.8170579989187|\n",
            "|     3|   2322.0|3066.0150032248703|\n",
            "|     5|   1485.9|   939.61664168603|\n",
            "|     4|   2605.4|1379.7265308748688|\n",
            "|     2|   1383.0| 670.8703302427377|\n",
            "+------+---------+------------------+\n",
            "\n"
          ]
        }
      ]
    },
    {
      "cell_type": "markdown",
      "source": [
        "# 7. Join stats with original data"
      ],
      "metadata": {
        "id": "N5-dchOw1Q7P"
      }
    },
    {
      "cell_type": "code",
      "source": [
        "df_with_stats = df.join(stats, on=\"UserID\")"
      ],
      "metadata": {
        "id": "5q0ipBP_1R1o"
      },
      "execution_count": 9,
      "outputs": []
    },
    {
      "cell_type": "markdown",
      "source": [
        "# 8. Detect anomalies: amount > avg + 2*std"
      ],
      "metadata": {
        "id": "rnDUTQQa1YeY"
      }
    },
    {
      "cell_type": "code",
      "source": [
        "anomalies = df_with_stats.filter(col(\"Amount\") > (col(\"avg_spend\") + 2 * col(\"std_spend\")))\n",
        "print(\"=== Unusual High Expenses Detected ===\")\n",
        "anomalies.select(\"UserID\", \"date\", \"Amount\", \"Category\", \"avg_spend\", \"std_spend\").show()"
      ],
      "metadata": {
        "colab": {
          "base_uri": "https://localhost:8080/"
        },
        "id": "DJqvJl191Zgw",
        "outputId": "617b2824-1e1b-4f6e-914f-357e05ee45c4"
      },
      "execution_count": 10,
      "outputs": [
        {
          "output_type": "stream",
          "name": "stdout",
          "text": [
            "=== Unusual High Expenses Detected ===\n",
            "+------+----+------+--------+---------+---------+\n",
            "|UserID|date|Amount|Category|avg_spend|std_spend|\n",
            "+------+----+------+--------+---------+---------+\n",
            "+------+----+------+--------+---------+---------+\n",
            "\n"
          ]
        }
      ]
    },
    {
      "cell_type": "markdown",
      "source": [
        "# 9. Total spend per user"
      ],
      "metadata": {
        "id": "cEb_OvKi1fUC"
      }
    },
    {
      "cell_type": "code",
      "source": [
        "user_total_spend = df.groupBy(\"UserID\").agg(_sum(\"Amount\").alias(\"total_spend\"))\n",
        "print(\"=== Total Spend by User ===\")\n",
        "user_total_spend.orderBy(\"total_spend\", ascending=False).show()"
      ],
      "metadata": {
        "colab": {
          "base_uri": "https://localhost:8080/"
        },
        "id": "56ZYQx8p1jcx",
        "outputId": "d15a5b74-c455-41d9-974a-ab34a2bac669"
      },
      "execution_count": 11,
      "outputs": [
        {
          "output_type": "stream",
          "name": "stdout",
          "text": [
            "=== Total Spend by User ===\n",
            "+------+-----------+\n",
            "|UserID|total_spend|\n",
            "+------+-----------+\n",
            "|     5|      14859|\n",
            "|     4|      13027|\n",
            "|     1|       6639|\n",
            "|     3|       4644|\n",
            "|     2|       4149|\n",
            "+------+-----------+\n",
            "\n"
          ]
        }
      ]
    },
    {
      "cell_type": "markdown",
      "source": [
        "# 10. Pivot: Spend by category per user"
      ],
      "metadata": {
        "id": "VTHF08Lx1l8f"
      }
    },
    {
      "cell_type": "code",
      "source": [
        "pivot_df = df.groupBy(\"UserID\").pivot(\"Category\").agg(_sum(\"Amount\"))\n",
        "print(\"=== Spend by Category per User ===\")\n",
        "pivot_df.show()"
      ],
      "metadata": {
        "colab": {
          "base_uri": "https://localhost:8080/"
        },
        "id": "V8KdPzXc1mmA",
        "outputId": "00f47ade-f7a7-4547-ffcf-2fec170b42d5"
      },
      "execution_count": 12,
      "outputs": [
        {
          "output_type": "stream",
          "name": "stdout",
          "text": [
            "=== Spend by Category per User ===\n",
            "+------+------+---------+-------------+-------+---------+----------+--------+---------+------+---------+\n",
            "|UserID|Dining|Education|Entertainment|Fitness|Groceries|Healthcare|Shopping|Transport|Travel|Utilities|\n",
            "+------+------+---------+-------------+-------+---------+----------+--------+---------+------+---------+\n",
            "|     1|  4377|     NULL|          500|    262|     1200|      NULL|    NULL|      300|  NULL|     NULL|\n",
            "|     3|  NULL|     NULL|         NULL|   NULL|     NULL|      NULL|    4490|      154|  NULL|     NULL|\n",
            "|     5|  2454|     3184|         NULL|   NULL|     NULL|      3143|    4277|     NULL|   111|     1690|\n",
            "|     4|  NULL|      788|         NULL|   NULL|     NULL|      NULL|    7429|     NULL|  NULL|     4810|\n",
            "|     2|  NULL|     2149|         NULL|   NULL|      900|      NULL|    NULL|     NULL|  NULL|     1100|\n",
            "+------+------+---------+-------------+-------+---------+----------+--------+---------+------+---------+\n",
            "\n"
          ]
        }
      ]
    },
    {
      "cell_type": "markdown",
      "source": [
        "# 11. Average monthly spend by category"
      ],
      "metadata": {
        "id": "MKVOoQ521xBB"
      }
    },
    {
      "cell_type": "code",
      "source": [
        "from pyspark.sql.functions import round, avg\n",
        "\n",
        "avg_monthly_category = df.groupBy(\"year\", \"month\", \"Category\") \\\n",
        "                         .agg(round(avg(\"Amount\"),2).alias(\"avg_spend\"))\n",
        "print(\"=== Average Monthly Spend per Category ===\")\n",
        "avg_monthly_category.orderBy(\"year\", \"month\", \"Category\").show()"
      ],
      "metadata": {
        "colab": {
          "base_uri": "https://localhost:8080/"
        },
        "id": "REbxCUug1tDx",
        "outputId": "f7c9582e-9c54-499a-f7e6-223f72fb3d94"
      },
      "execution_count": 16,
      "outputs": [
        {
          "output_type": "stream",
          "name": "stdout",
          "text": [
            "=== Average Monthly Spend per Category ===\n",
            "+----+-----+-------------+---------+\n",
            "|year|month|     Category|avg_spend|\n",
            "+----+-----+-------------+---------+\n",
            "|2025|    7|       Dining|   3415.5|\n",
            "|2025|    7|    Education|  1530.25|\n",
            "|2025|    7|Entertainment|    500.0|\n",
            "|2025|    7|      Fitness|    262.0|\n",
            "|2025|    7|    Groceries|   1050.0|\n",
            "|2025|    7|   Healthcare|   3143.0|\n",
            "|2025|    7|     Shopping|  2313.71|\n",
            "|2025|    7|    Transport|    227.0|\n",
            "|2025|    7|       Travel|    111.0|\n",
            "|2025|    7|    Utilities|   1900.0|\n",
            "+----+-----+-------------+---------+\n",
            "\n"
          ]
        }
      ]
    },
    {
      "cell_type": "markdown",
      "source": [
        "# 12. Detect missing months for each user"
      ],
      "metadata": {
        "id": "j8aA5u6511RA"
      }
    },
    {
      "cell_type": "code",
      "source": [
        "all_months = set(range(1, 13))\n",
        "user_months = df.select(\"UserID\", \"month\").distinct() \\\n",
        "                .groupBy(\"UserID\") \\\n",
        "                .agg(collect_list(\"month\").alias(\"months_present\"))"
      ],
      "metadata": {
        "id": "Y66rAA2l1xuJ"
      },
      "execution_count": 17,
      "outputs": []
    },
    {
      "cell_type": "markdown",
      "source": [
        "# Calculate missing months"
      ],
      "metadata": {
        "id": "aNGFrq3b1-E5"
      }
    },
    {
      "cell_type": "code",
      "source": [
        "user_month_data = user_months.collect()\n",
        "missing_months_data = [\n",
        "    (row[\"UserID\"], sorted(list(all_months - set(row[\"months_present\"]))))\n",
        "    for row in user_month_data\n",
        "]\n",
        "missing_months_df = spark.createDataFrame(missing_months_data, [\"UserID\", \"missing_months\"])\n",
        "\n",
        "print(\"=== Missing Months per User ===\")\n",
        "missing_months_df.orderBy(\"UserID\").show(truncate=False)\n"
      ],
      "metadata": {
        "colab": {
          "base_uri": "https://localhost:8080/"
        },
        "id": "jGmT__g912YB",
        "outputId": "98a1e3d4-5740-4b93-dc2d-23cfd4d51e87"
      },
      "execution_count": 18,
      "outputs": [
        {
          "output_type": "stream",
          "name": "stdout",
          "text": [
            "=== Missing Months per User ===\n",
            "+------+------------------------------------+\n",
            "|UserID|missing_months                      |\n",
            "+------+------------------------------------+\n",
            "|1     |[1, 2, 3, 4, 5, 6, 8, 9, 10, 11, 12]|\n",
            "|2     |[1, 2, 3, 4, 5, 6, 8, 9, 10, 11, 12]|\n",
            "|3     |[1, 2, 3, 4, 5, 6, 8, 9, 10, 11, 12]|\n",
            "|4     |[1, 2, 3, 4, 5, 6, 8, 9, 10, 11, 12]|\n",
            "|5     |[1, 2, 3, 4, 5, 6, 8, 9, 10, 11, 12]|\n",
            "+------+------------------------------------+\n",
            "\n"
          ]
        }
      ]
    }
  ]
}