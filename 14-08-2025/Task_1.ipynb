{
  "nbformat": 4,
  "nbformat_minor": 0,
  "metadata": {
    "colab": {
      "provenance": []
    },
    "kernelspec": {
      "name": "python3",
      "display_name": "Python 3"
    },
    "language_info": {
      "name": "python"
    }
  },
  "cells": [
    {
      "cell_type": "code",
      "execution_count": null,
      "metadata": {
        "id": "cq1XmK-HL-t5"
      },
      "outputs": [],
      "source": [
        "!pip install pyspark -q"
      ]
    },
    {
      "cell_type": "code",
      "source": [
        "!pip install delta-spark==3.2.0 -q"
      ],
      "metadata": {
        "id": "HsAF_rnFMEYP"
      },
      "execution_count": null,
      "outputs": []
    },
    {
      "cell_type": "code",
      "source": [
        "from pyspark.sql import SparkSession\n",
        "from delta import configure_spark_with_delta_pip\n",
        "builder = (\n",
        "SparkSession.builder.appName(\"DeltaDemo\")\n",
        ".config(\"spark.sql.extensions\", \"io.delta.sql.DeltaSparkSessionExtension\")\n",
        ".config(\"spark.sql.catalog.spark_catalog\",\n",
        "\"org.apache.spark.sql.delta.catalog.DeltaCatalog\")\n",
        ")\n",
        "spark = configure_spark_with_delta_pip(builder).getOrCreate()\n",
        "# Create sample DataFrame\n",
        "data = [\n",
        "(1, \"John\", \"Electronics\", 2, 300),\n",
        "(2, \"Sara\", \"Clothing\", 1, 50),\n",
        "(3, \"Mike\", \"Electronics\", 4, 600),\n",
        "(4, \"Nina\", \"Clothing\", 3, 150),\n",
        "]\n",
        "columns = [\"order_id\", \"customer_name\", \"category\", \"quantity\", \"amount\"]\n",
        "df = spark.createDataFrame(data, columns)\n",
        "# Save as Delta table\n",
        "df.write.format(\"delta\").mode(\"overwrite\").save(\"/tmp/orders_delta\")"
      ],
      "metadata": {
        "id": "1is5OcZZMI1C"
      },
      "execution_count": null,
      "outputs": []
    },
    {
      "cell_type": "markdown",
      "source": [
        "# **1**. Managed vs Unmanaged Tables"
      ],
      "metadata": {
        "id": "Fux29aY5x0Pw"
      }
    },
    {
      "cell_type": "code",
      "source": [
        "spark.sql(\"CREATE TABLE orders_managed USING DELTA LOCATION '/tmp/orders_delta'\")\n",
        "\n",
        "spark.sql(\"CREATE TABLE orders_unmanaged USING DELTA LOCATION '/tmp/orders_delta'\")"
      ],
      "metadata": {
        "colab": {
          "base_uri": "https://localhost:8080/"
        },
        "id": "mGtuLrp9MNHZ",
        "outputId": "ce1b45a3-509b-4ce8-910f-a2d0fc38e580"
      },
      "execution_count": null,
      "outputs": [
        {
          "output_type": "execute_result",
          "data": {
            "text/plain": [
              "DataFrame[]"
            ]
          },
          "metadata": {},
          "execution_count": 4
        }
      ]
    },
    {
      "cell_type": "code",
      "source": [
        "print(\"📌 Managed Table Data:\")\n",
        "spark.sql(\"SELECT * FROM orders_managed\").show()\n",
        "\n",
        "print(\"📌 Unmanaged Table Data:\")\n",
        "spark.sql(\"SELECT * FROM orders_unmanaged\").show()\n"
      ],
      "metadata": {
        "colab": {
          "base_uri": "https://localhost:8080/"
        },
        "id": "4i548bo9TfP2",
        "outputId": "0e6eb31a-9de5-42ec-f9de-1d4932d3c7e3"
      },
      "execution_count": null,
      "outputs": [
        {
          "output_type": "stream",
          "name": "stdout",
          "text": [
            "📌 Managed Table Data:\n",
            "+--------+-------------+-----------+--------+------+\n",
            "|order_id|customer_name|   category|quantity|amount|\n",
            "+--------+-------------+-----------+--------+------+\n",
            "|       1|         John|Electronics|       2|   300|\n",
            "|       2|         Sara|   Clothing|       1|    50|\n",
            "|       3|         Mike|Electronics|       4|   600|\n",
            "|       4|         Nina|   Clothing|       3|   150|\n",
            "+--------+-------------+-----------+--------+------+\n",
            "\n",
            "📌 Unmanaged Table Data:\n",
            "+--------+-------------+-----------+--------+------+\n",
            "|order_id|customer_name|   category|quantity|amount|\n",
            "+--------+-------------+-----------+--------+------+\n",
            "|       1|         John|Electronics|       2|   300|\n",
            "|       2|         Sara|   Clothing|       1|    50|\n",
            "|       3|         Mike|Electronics|       4|   600|\n",
            "|       4|         Nina|   Clothing|       3|   150|\n",
            "+--------+-------------+-----------+--------+------+\n",
            "\n"
          ]
        }
      ]
    },
    {
      "cell_type": "code",
      "source": [
        "managed_location = spark.sql(\"DESCRIBE DETAIL orders_managed\").collect()[0][\"location\"]\n",
        "unmanaged_location = spark.sql(\"DESCRIBE DETAIL orders_unmanaged\").collect()[0][\"location\"]\n",
        "\n",
        "print(\"Managed table location:\", managed_location)\n",
        "print(\"Unmanaged table location:\", unmanaged_location)"
      ],
      "metadata": {
        "colab": {
          "base_uri": "https://localhost:8080/"
        },
        "id": "tm1yDdDMM_E7",
        "outputId": "d2d8db1b-78c7-4ce4-f22f-f6e31a7386e6"
      },
      "execution_count": null,
      "outputs": [
        {
          "output_type": "stream",
          "name": "stdout",
          "text": [
            "Managed table location: file:/tmp/orders_delta\n",
            "Unmanaged table location: file:/tmp/orders_delta\n"
          ]
        }
      ]
    },
    {
      "cell_type": "markdown",
      "source": [
        "**2. CRUD Operations**\n",
        "\n",
        "Task:\n",
        "\n",
        "Read from the table\n",
        "\n",
        "Update all \"Clothing\" category orders to have amount = amount + 20\n",
        "\n",
        "Delete all orders with quantity < 2\n",
        "\n",
        "Merge in a new dataset (new orders & updated orders)"
      ],
      "metadata": {
        "id": "tB2dWQiEx4sH"
      }
    },
    {
      "cell_type": "code",
      "source": [
        "#Load as DeltaTable\n",
        "from delta.tables import *\n",
        "delta_path = \"/tmp/orders_delta\"\n",
        "delta_table = DeltaTable.forPath(spark, delta_path)\n",
        "delta_table.toDF().show()"
      ],
      "metadata": {
        "colab": {
          "base_uri": "https://localhost:8080/"
        },
        "id": "wFnK9MwhZsFE",
        "outputId": "234df6b3-6332-4fc7-868f-3db123476daf"
      },
      "execution_count": null,
      "outputs": [
        {
          "output_type": "stream",
          "name": "stdout",
          "text": [
            "+--------+-------------+-----------+--------+------+\n",
            "|order_id|customer_name|   category|quantity|amount|\n",
            "+--------+-------------+-----------+--------+------+\n",
            "|       3|         Mike|Electronics|       4|   600|\n",
            "|       4|         Nina|   Clothing|       3|   170|\n",
            "|       1|         John|Electronics|       2|   300|\n",
            "|       2|         Sara|   Clothing|       1|    70|\n",
            "+--------+-------------+-----------+--------+------+\n",
            "\n"
          ]
        }
      ]
    },
    {
      "cell_type": "code",
      "source": [
        "#UPDATE: Add 20 to Clothing category amounts\n",
        "\n",
        "delta_table.update(\n",
        "    condition=\"category = 'Clothing'\",\n",
        "    set={\"amount\": \"amount + 20\"}\n",
        ")"
      ],
      "metadata": {
        "id": "tAcEVpNTiQsL"
      },
      "execution_count": null,
      "outputs": []
    },
    {
      "cell_type": "code",
      "source": [
        "print(\"After UPDATE:\")\n",
        "delta_table.toDF().show()\n"
      ],
      "metadata": {
        "colab": {
          "base_uri": "https://localhost:8080/"
        },
        "id": "zSRzLc0biYxh",
        "outputId": "baa47ab7-ea01-43d4-c01b-81f3b977e130"
      },
      "execution_count": null,
      "outputs": [
        {
          "output_type": "stream",
          "name": "stdout",
          "text": [
            "After UPDATE:\n",
            "+--------+-------------+-----------+--------+------+\n",
            "|order_id|customer_name|   category|quantity|amount|\n",
            "+--------+-------------+-----------+--------+------+\n",
            "|       3|         Mike|Electronics|       4|   600|\n",
            "|       4|         Nina|   Clothing|       3|   170|\n",
            "|       1|         John|Electronics|       2|   300|\n",
            "|       2|         Sara|   Clothing|       1|    70|\n",
            "+--------+-------------+-----------+--------+------+\n",
            "\n"
          ]
        }
      ]
    },
    {
      "cell_type": "code",
      "source": [
        "#DELETE: Remove orders with quantity < 2\n",
        "\n",
        "delta_table.delete(\"quantity < 2\")\n",
        "\n",
        "print(\"After DELETE:\")\n",
        "delta_table.toDF().show()\n"
      ],
      "metadata": {
        "colab": {
          "base_uri": "https://localhost:8080/"
        },
        "id": "CUIJ8J3DiYbB",
        "outputId": "7f6a4bd0-cf5f-4c9f-8e60-c12571c45db0"
      },
      "execution_count": null,
      "outputs": [
        {
          "output_type": "stream",
          "name": "stdout",
          "text": [
            "After DELETE:\n",
            "+--------+-------------+-----------+--------+------+\n",
            "|order_id|customer_name|   category|quantity|amount|\n",
            "+--------+-------------+-----------+--------+------+\n",
            "|       3|         Mike|Electronics|       5|   750|\n",
            "|       4|         Nina|   Clothing|       3|   170|\n",
            "|       6|         Emma|   Clothing|       2|   120|\n",
            "|       1|         John|Electronics|       2|   300|\n",
            "+--------+-------------+-----------+--------+------+\n",
            "\n"
          ]
        }
      ]
    },
    {
      "cell_type": "markdown",
      "source": [],
      "metadata": {
        "id": "3713VjAJyEAb"
      }
    },
    {
      "cell_type": "code",
      "source": [
        "#MERGE: New dataset (some updates + some new)\n",
        "new_data = [\n",
        "    (3, \"Mike\", \"Electronics\", 5, 750),   # Updated quantity & amount for order_id 3\n",
        "    (5, \"Liam\", \"Furniture\", 1, 200),     # New order\n",
        "    (6, \"Emma\", \"Clothing\", 2, 120),      # New order\n",
        "]\n",
        "df_new = spark.createDataFrame(new_data, columns)\n",
        "\n",
        "delta_table.alias(\"old\").merge(\n",
        "    df_new.alias(\"new\"),\n",
        "    \"old.order_id = new.order_id\"\n",
        ").whenMatchedUpdateAll(\n",
        ").whenNotMatchedInsertAll(\n",
        ").execute()\n",
        "\n",
        "print(\"After MERGE:\")\n",
        "delta_table.toDF().show()"
      ],
      "metadata": {
        "colab": {
          "base_uri": "https://localhost:8080/"
        },
        "id": "UoKCxoyRiquC",
        "outputId": "06699317-b115-49ac-a36b-b9982c337763"
      },
      "execution_count": null,
      "outputs": [
        {
          "output_type": "stream",
          "name": "stdout",
          "text": [
            "After MERGE:\n",
            "+--------+-------------+-----------+--------+------+\n",
            "|order_id|customer_name|   category|quantity|amount|\n",
            "+--------+-------------+-----------+--------+------+\n",
            "|       3|         Mike|Electronics|       5|   750|\n",
            "|       4|         Nina|   Clothing|       3|   170|\n",
            "|       5|         Liam|  Furniture|       1|   200|\n",
            "|       6|         Emma|   Clothing|       2|   120|\n",
            "|       1|         John|Electronics|       2|   300|\n",
            "|       2|         Sara|   Clothing|       1|    70|\n",
            "+--------+-------------+-----------+--------+------+\n",
            "\n"
          ]
        }
      ]
    },
    {
      "cell_type": "markdown",
      "source": [
        "#**3. History & Time Travel**\n",
        "Task:\n",
        "\n",
        "Use DESCRIBE HISTORY to check previous versions\n",
        "\n",
        "Read data from version 0 and compare with the latest version"
      ],
      "metadata": {
        "id": "SNAAqMAUyNrx"
      }
    },
    {
      "cell_type": "code",
      "source": [
        "\n",
        "#HISTORY: View previous versions\n",
        "\n",
        "print(\"📜 Delta Table History:\")\n",
        "delta_table.history().show(truncate=False)\n",
        "\n",
        "# TIME TRAVEL: Read version 0\n",
        "\n",
        "print(\"📌 Data at Version 0:\")\n",
        "df_v0 = spark.read.format(\"delta\").option(\"versionAsOf\", 0).load(delta_path)\n",
        "df_v0.show()\n",
        "\n",
        "# TIME TRAVEL: Read latest version\n",
        "\n",
        "print(\"📌 Data at Latest Version:\")\n",
        "df_latest = spark.read.format(\"delta\").load(delta_path)\n",
        "df_latest.show()\n",
        "\n",
        "\n",
        "#  Comparison\n",
        "\n",
        "print(\"📊 Changes between Version 0 and Latest:\")\n",
        "df_v0.createOrReplaceTempView(\"v0\")\n",
        "df_latest.createOrReplaceTempView(\"v_latest\")\n",
        "\n",
        "spark.sql(\"\"\"\n",
        "SELECT 'Removed from v0' AS change_type, *\n",
        "FROM v0\n",
        "WHERE order_id NOT IN (SELECT order_id FROM v_latest)\n",
        "UNION ALL\n",
        "SELECT 'Added in latest' AS change_type, *\n",
        "FROM v_latest\n",
        "WHERE order_id NOT IN (SELECT order_id FROM v0)\n",
        "UNION ALL\n",
        "SELECT 'Modified in latest' AS change_type, v_latest.*\n",
        "FROM v_latest\n",
        "JOIN v0 USING (order_id)\n",
        "WHERE v_latest.quantity <> v0.quantity\n",
        "   OR v_latest.amount <> v0.amount\n",
        "\"\"\").show()\n"
      ],
      "metadata": {
        "colab": {
          "base_uri": "https://localhost:8080/"
        },
        "id": "eztiW-29knYv",
        "outputId": "93d8a546-bf37-477d-bfd9-81145a00be75"
      },
      "execution_count": null,
      "outputs": [
        {
          "output_type": "stream",
          "name": "stdout",
          "text": [
            "📜 Delta Table History:\n",
            "+-------+-----------------------+------+--------+---------+-------------------------------------------------------------------------------------------------------------------------------------------------------------------------------------------+----+--------+---------+-----------+--------------+-------------+--------------------------------------------------------------------------------------------------------------------------------------------------------------------------------------------------------------------------------------------------------------------------------------------------------------------------------------------------------------------------------------------------------------------------------------------------------------------------------------------------------------------------------------------------------------------------------------------------------------------------------------------------------+------------+-----------------------------------+\n",
            "|version|timestamp              |userId|userName|operation|operationParameters                                                                                                                                                                        |job |notebook|clusterId|readVersion|isolationLevel|isBlindAppend|operationMetrics                                                                                                                                                                                                                                                                                                                                                                                                                                                                                                                                                                                                                                        |userMetadata|engineInfo                         |\n",
            "+-------+-----------------------+------+--------+---------+-------------------------------------------------------------------------------------------------------------------------------------------------------------------------------------------+----+--------+---------+-----------+--------------+-------------+--------------------------------------------------------------------------------------------------------------------------------------------------------------------------------------------------------------------------------------------------------------------------------------------------------------------------------------------------------------------------------------------------------------------------------------------------------------------------------------------------------------------------------------------------------------------------------------------------------------------------------------------------------+------------+-----------------------------------+\n",
            "|3      |2025-08-14 07:46:42.484|NULL  |NULL    |DELETE   |{predicate -> [\"(quantity#2883L < 2)\"]}                                                                                                                                                    |NULL|NULL    |NULL     |2          |Serializable  |false        |{numRemovedFiles -> 2, numRemovedBytes -> 3226, numCopiedRows -> 4, numDeletionVectorsAdded -> 0, numDeletionVectorsRemoved -> 0, numAddedChangeFiles -> 0, executionTimeMs -> 3375, numDeletionVectorsUpdated -> 0, numDeletedRows -> 2, scanTimeMs -> 2537, numAddedFiles -> 2, numAddedBytes -> 3194, rewriteTimeMs -> 837}                                                                                                                                                                                                                                                                                                                          |NULL        |Apache-Spark/3.5.1 Delta-Lake/3.2.0|\n",
            "|2      |2025-08-14 07:46:15.039|NULL  |NULL    |MERGE    |{predicate -> [\"(order_id#2880L = order_id#2980L)\"], matchedPredicates -> [{\"actionType\":\"update\"}], notMatchedPredicates -> [{\"actionType\":\"insert\"}], notMatchedBySourcePredicates -> []}|NULL|NULL    |NULL     |1          |Serializable  |false        |{numTargetRowsCopied -> 1, numTargetRowsDeleted -> 0, numTargetFilesAdded -> 1, numTargetBytesAdded -> 1661, numTargetBytesRemoved -> 1566, numTargetDeletionVectorsAdded -> 0, numTargetRowsMatchedUpdated -> 1, executionTimeMs -> 6528, numTargetRowsInserted -> 2, numTargetRowsMatchedDeleted -> 0, numTargetDeletionVectorsUpdated -> 0, scanTimeMs -> 3831, numTargetRowsUpdated -> 1, numOutputRows -> 4, numTargetDeletionVectorsRemoved -> 0, numTargetRowsNotMatchedBySourceUpdated -> 0, numTargetChangeFilesAdded -> 0, numSourceRows -> 3, numTargetFilesRemoved -> 1, numTargetRowsNotMatchedBySourceDeleted -> 0, rewriteTimeMs -> 2040}|NULL        |Apache-Spark/3.5.1 Delta-Lake/3.2.0|\n",
            "|1      |2025-08-14 07:44:15.408|NULL  |NULL    |UPDATE   |{predicate -> [\"(category#1581 = Clothing)\"]}                                                                                                                                              |NULL|NULL    |NULL     |0          |Serializable  |false        |{numRemovedFiles -> 2, numRemovedBytes -> 3130, numCopiedRows -> 2, numDeletionVectorsAdded -> 0, numDeletionVectorsRemoved -> 0, numAddedChangeFiles -> 0, executionTimeMs -> 5213, numDeletionVectorsUpdated -> 0, scanTimeMs -> 4425, numAddedFiles -> 2, numUpdatedRows -> 2, numAddedBytes -> 3131, rewriteTimeMs -> 780}                                                                                                                                                                                                                                                                                                                          |NULL        |Apache-Spark/3.5.1 Delta-Lake/3.2.0|\n",
            "|0      |2025-08-14 06:08:04.411|NULL  |NULL    |WRITE    |{mode -> Overwrite, partitionBy -> []}                                                                                                                                                     |NULL|NULL    |NULL     |NULL       |Serializable  |false        |{numFiles -> 2, numOutputRows -> 4, numOutputBytes -> 3130}                                                                                                                                                                                                                                                                                                                                                                                                                                                                                                                                                                                             |NULL        |Apache-Spark/3.5.1 Delta-Lake/3.2.0|\n",
            "+-------+-----------------------+------+--------+---------+-------------------------------------------------------------------------------------------------------------------------------------------------------------------------------------------+----+--------+---------+-----------+--------------+-------------+--------------------------------------------------------------------------------------------------------------------------------------------------------------------------------------------------------------------------------------------------------------------------------------------------------------------------------------------------------------------------------------------------------------------------------------------------------------------------------------------------------------------------------------------------------------------------------------------------------------------------------------------------------+------------+-----------------------------------+\n",
            "\n",
            "📌 Data at Version 0:\n",
            "+--------+-------------+-----------+--------+------+\n",
            "|order_id|customer_name|   category|quantity|amount|\n",
            "+--------+-------------+-----------+--------+------+\n",
            "|       1|         John|Electronics|       2|   300|\n",
            "|       2|         Sara|   Clothing|       1|    50|\n",
            "|       3|         Mike|Electronics|       4|   600|\n",
            "|       4|         Nina|   Clothing|       3|   150|\n",
            "+--------+-------------+-----------+--------+------+\n",
            "\n",
            "📌 Data at Latest Version:\n",
            "+--------+-------------+-----------+--------+------+\n",
            "|order_id|customer_name|   category|quantity|amount|\n",
            "+--------+-------------+-----------+--------+------+\n",
            "|       3|         Mike|Electronics|       5|   750|\n",
            "|       4|         Nina|   Clothing|       3|   170|\n",
            "|       6|         Emma|   Clothing|       2|   120|\n",
            "|       1|         John|Electronics|       2|   300|\n",
            "+--------+-------------+-----------+--------+------+\n",
            "\n",
            "📊 Changes between Version 0 and Latest:\n",
            "+------------------+--------+-------------+-----------+--------+------+\n",
            "|       change_type|order_id|customer_name|   category|quantity|amount|\n",
            "+------------------+--------+-------------+-----------+--------+------+\n",
            "|   Removed from v0|       2|         Sara|   Clothing|       1|    50|\n",
            "|   Added in latest|       6|         Emma|   Clothing|       2|   120|\n",
            "|Modified in latest|       3|         Mike|Electronics|       5|   750|\n",
            "|Modified in latest|       4|         Nina|   Clothing|       3|   170|\n",
            "+------------------+--------+-------------+-----------+--------+------+\n",
            "\n"
          ]
        }
      ]
    },
    {
      "cell_type": "markdown",
      "source": [
        "# **4. Incremental Load Pattern**\n",
        "Task:\n",
        "\n",
        "Create a new mini-batch with only new orders (IDs 5 & 6)\n",
        "\n",
        "Append to the Delta table\n",
        "\n",
        "Show final result"
      ],
      "metadata": {
        "id": "MRm1qFJL3qEQ"
      }
    },
    {
      "cell_type": "code",
      "source": [
        "\n",
        "#  INCREMENTAL LOAD\n",
        "\n",
        "\n",
        "from pyspark.sql import Row\n",
        "\n",
        "# New mini-batch with only new orders\n",
        "new_data = [\n",
        "    Row(order_id=5, customer_name=\"Liam\", category=\"Electronics\", quantity=1, amount=200),\n",
        "    Row(order_id=6, customer_name=\"Emma\", category=\"Clothing\", quantity=2, amount=80)\n",
        "]\n",
        "\n",
        "df_new_orders = spark.createDataFrame(new_data)\n",
        "\n",
        "print(\" New Incremental Batch:\")\n",
        "df_new_orders.show()\n",
        "\n",
        "#  Append to the Delta table\n",
        "df_new_orders.write.format(\"delta\").mode(\"append\").save(delta_path)\n",
        "\n",
        "# Show final result after incremental load\n",
        "print(\"Final Delta Table After Incremental Load:\")\n",
        "spark.read.format(\"delta\").load(delta_path).show()\n"
      ],
      "metadata": {
        "colab": {
          "base_uri": "https://localhost:8080/"
        },
        "id": "S17Ek0Qmk14W",
        "outputId": "82c72673-0551-45ed-a4d5-1ada38c4decf"
      },
      "execution_count": null,
      "outputs": [
        {
          "output_type": "stream",
          "name": "stdout",
          "text": [
            "📦 New Incremental Batch:\n",
            "+--------+-------------+-----------+--------+------+\n",
            "|order_id|customer_name|   category|quantity|amount|\n",
            "+--------+-------------+-----------+--------+------+\n",
            "|       5|         Liam|Electronics|       1|   200|\n",
            "|       6|         Emma|   Clothing|       2|    80|\n",
            "+--------+-------------+-----------+--------+------+\n",
            "\n",
            "✅ Final Delta Table After Incremental Load:\n",
            "+--------+-------------+-----------+--------+------+\n",
            "|order_id|customer_name|   category|quantity|amount|\n",
            "+--------+-------------+-----------+--------+------+\n",
            "|       3|         Mike|Electronics|       5|   750|\n",
            "|       4|         Nina|   Clothing|       3|   170|\n",
            "|       6|         Emma|   Clothing|       2|   120|\n",
            "|       5|         Liam|Electronics|       1|   200|\n",
            "|       1|         John|Electronics|       2|   300|\n",
            "|       6|         Emma|   Clothing|       2|    80|\n",
            "+--------+-------------+-----------+--------+------+\n",
            "\n"
          ]
        }
      ]
    },
    {
      "cell_type": "markdown",
      "source": [
        "# **5. Simple Streaming Read**\n",
        "Task:\n",
        "\n",
        "Read the /tmp/orders_delta in streaming mode\n",
        "\n",
        "Output to console every 5 seconds"
      ],
      "metadata": {
        "id": "wlzxl1nauB-6"
      }
    },
    {
      "cell_type": "code",
      "source": [
        "from pyspark.sql import SparkSession\n",
        "from delta import configure_spark_with_delta_pip\n",
        "\n",
        "# Initialize Spark (if not already running)\n",
        "builder = (\n",
        "    SparkSession.builder.appName(\"DeltaStreamingDemo\")\n",
        "    .config(\"spark.sql.extensions\", \"io.delta.sql.DeltaSparkSessionExtension\")\n",
        "    .config(\"spark.sql.catalog.spark_catalog\", \"org.apache.spark.sql.delta.catalog.DeltaCatalog\")\n",
        ")\n",
        "spark = configure_spark_with_delta_pip(builder).getOrCreate()\n",
        "\n",
        "delta_path = \"/tmp/orders_delta\"\n",
        "\n",
        "# Streaming Read\n",
        "stream_df = (\n",
        "    spark.readStream\n",
        "    .format(\"delta\")\n",
        "    .load(delta_path)\n",
        ")\n",
        "\n",
        "# Streaming Write to console every 5 seconds\n",
        "query = (\n",
        "    stream_df.writeStream\n",
        "    .format(\"console\")\n",
        "    .outputMode(\"append\")\n",
        "    .trigger(processingTime=\"5 seconds\")\n",
        "    .start()\n",
        ")\n",
        "\n",
        "# Keep running for ~30 seconds\n",
        "\n"
      ],
      "metadata": {
        "id": "XsYt90nklIMA"
      },
      "execution_count": null,
      "outputs": []
    },
    {
      "cell_type": "code",
      "source": [
        "import time\n",
        "\n",
        "# Path to the Delta table\n",
        "delta_path = \"/tmp/orders_delta\"\n",
        "\n",
        "# Example new batches of data\n",
        "batches = [\n",
        "    [\n",
        "        (11, \"Alice\", \"Electronics\", 1, 120),\n",
        "        (18, \"Bob\", \"Clothing\", 2, 80)\n",
        "    ],\n",
        "    [\n",
        "        (19, \"Chaplin\", \"Electronics\", 3, 450),\n",
        "        (20, \"Daisy\", \"Clothing\", 1, 70)\n",
        "    ]\n",
        "]\n",
        "\n",
        "columns = [\"order_id\", \"customer_name\", \"category\", \"quantity\", \"amount\"]\n",
        "\n",
        "# Append batches with delay so streaming picks them up\n",
        "for batch in batches:\n",
        "    df_new = spark.createDataFrame(batch, columns)\n",
        "    df_new.write.format(\"delta\").mode(\"append\").save(delta_path)\n",
        "    print(f\"Appended batch: {batch}\")\n",
        "    time.sleep(6)  # Wait 6 seconds to let streaming display\n"
      ],
      "metadata": {
        "colab": {
          "base_uri": "https://localhost:8080/"
        },
        "id": "_nOVksOjlPIQ",
        "outputId": "2afc7583-5f98-40da-89c1-46c8eb742990"
      },
      "execution_count": null,
      "outputs": [
        {
          "output_type": "stream",
          "name": "stdout",
          "text": [
            "Appended batch: [(11, 'Alice', 'Electronics', 1, 120), (18, 'Bob', 'Clothing', 2, 80)]\n",
            "Appended batch: [(19, 'Chaplin', 'Electronics', 3, 450), (20, 'Daisy', 'Clothing', 1, 70)]\n"
          ]
        }
      ]
    },
    {
      "cell_type": "code",
      "source": [
        "# Start streaming into memory table\n",
        "stream = (\n",
        "    spark.readStream.format(\"delta\")\n",
        "    .load(\"/tmp/orders_delta\")\n",
        "    .writeStream\n",
        "    .format(\"memory\")\n",
        "    .queryName(\"orders_stream\")\n",
        "    .outputMode(\"append\")\n",
        "    .trigger(processingTime=\"5 seconds\")\n",
        "    .start()\n",
        ")\n",
        "\n",
        "# Poll data every few seconds\n",
        "import time\n",
        "for i in range(5):  # check 5 times\n",
        "    time.sleep(5)\n",
        "    print(f\"--- Batch {i+1} ---\")\n",
        "    spark.sql(\"SELECT * FROM orders_stream\").show()\n"
      ],
      "metadata": {
        "colab": {
          "base_uri": "https://localhost:8080/"
        },
        "id": "de-4WeESs3AA",
        "outputId": "92011966-fc18-47e5-cae5-8540ff22bb0f"
      },
      "execution_count": null,
      "outputs": [
        {
          "output_type": "stream",
          "name": "stdout",
          "text": [
            "--- Batch 1 ---\n",
            "+--------+-------------+-----------+--------+------+\n",
            "|order_id|customer_name|   category|quantity|amount|\n",
            "+--------+-------------+-----------+--------+------+\n",
            "|       3|         Mike|Electronics|       5|   750|\n",
            "|       4|         Nina|   Clothing|       3|   170|\n",
            "|       6|         Emma|   Clothing|       2|   120|\n",
            "|       9|      Charlie|Electronics|       3|   450|\n",
            "|       7|        Alice|Electronics|       1|   120|\n",
            "|       1|         John|Electronics|       2|   300|\n",
            "|       5|         Liam|Electronics|       1|   200|\n",
            "|      10|        Daisy|   Clothing|       1|    70|\n",
            "|       6|         Emma|   Clothing|       2|    80|\n",
            "|       8|          Bob|   Clothing|       2|    80|\n",
            "+--------+-------------+-----------+--------+------+\n",
            "\n",
            "--- Batch 2 ---\n",
            "+--------+-------------+-----------+--------+------+\n",
            "|order_id|customer_name|   category|quantity|amount|\n",
            "+--------+-------------+-----------+--------+------+\n",
            "|       3|         Mike|Electronics|       5|   750|\n",
            "|       4|         Nina|   Clothing|       3|   170|\n",
            "|       6|         Emma|   Clothing|       2|   120|\n",
            "|       9|      Charlie|Electronics|       3|   450|\n",
            "|       7|        Alice|Electronics|       1|   120|\n",
            "|       1|         John|Electronics|       2|   300|\n",
            "|       5|         Liam|Electronics|       1|   200|\n",
            "|      10|        Daisy|   Clothing|       1|    70|\n",
            "|       6|         Emma|   Clothing|       2|    80|\n",
            "|       8|          Bob|   Clothing|       2|    80|\n",
            "+--------+-------------+-----------+--------+------+\n",
            "\n",
            "--- Batch 3 ---\n",
            "+--------+-------------+-----------+--------+------+\n",
            "|order_id|customer_name|   category|quantity|amount|\n",
            "+--------+-------------+-----------+--------+------+\n",
            "|       3|         Mike|Electronics|       5|   750|\n",
            "|       4|         Nina|   Clothing|       3|   170|\n",
            "|       6|         Emma|   Clothing|       2|   120|\n",
            "|       9|      Charlie|Electronics|       3|   450|\n",
            "|       7|        Alice|Electronics|       1|   120|\n",
            "|       1|         John|Electronics|       2|   300|\n",
            "|       5|         Liam|Electronics|       1|   200|\n",
            "|      10|        Daisy|   Clothing|       1|    70|\n",
            "|       6|         Emma|   Clothing|       2|    80|\n",
            "|       8|          Bob|   Clothing|       2|    80|\n",
            "+--------+-------------+-----------+--------+------+\n",
            "\n",
            "--- Batch 4 ---\n",
            "+--------+-------------+-----------+--------+------+\n",
            "|order_id|customer_name|   category|quantity|amount|\n",
            "+--------+-------------+-----------+--------+------+\n",
            "|       3|         Mike|Electronics|       5|   750|\n",
            "|       4|         Nina|   Clothing|       3|   170|\n",
            "|       6|         Emma|   Clothing|       2|   120|\n",
            "|       9|      Charlie|Electronics|       3|   450|\n",
            "|       7|        Alice|Electronics|       1|   120|\n",
            "|       1|         John|Electronics|       2|   300|\n",
            "|       5|         Liam|Electronics|       1|   200|\n",
            "|      10|        Daisy|   Clothing|       1|    70|\n",
            "|       6|         Emma|   Clothing|       2|    80|\n",
            "|       8|          Bob|   Clothing|       2|    80|\n",
            "+--------+-------------+-----------+--------+------+\n",
            "\n",
            "--- Batch 5 ---\n",
            "+--------+-------------+-----------+--------+------+\n",
            "|order_id|customer_name|   category|quantity|amount|\n",
            "+--------+-------------+-----------+--------+------+\n",
            "|       3|         Mike|Electronics|       5|   750|\n",
            "|       4|         Nina|   Clothing|       3|   170|\n",
            "|       6|         Emma|   Clothing|       2|   120|\n",
            "|       9|      Charlie|Electronics|       3|   450|\n",
            "|       7|        Alice|Electronics|       1|   120|\n",
            "|       1|         John|Electronics|       2|   300|\n",
            "|       5|         Liam|Electronics|       1|   200|\n",
            "|      10|        Daisy|   Clothing|       1|    70|\n",
            "|       6|         Emma|   Clothing|       2|    80|\n",
            "|       8|          Bob|   Clothing|       2|    80|\n",
            "+--------+-------------+-----------+--------+------+\n",
            "\n"
          ]
        }
      ]
    },
    {
      "cell_type": "code",
      "source": [
        "from pyspark.sql import SparkSession\n",
        "from delta import configure_spark_with_delta_pip\n",
        "\n",
        "# Create Spark session with Delta support (if not already created)\n",
        "builder = (\n",
        "    SparkSession.builder.appName(\"DeltaStreaming1Demo\")\n",
        "    .config(\"spark.sql.extensions\", \"io.delta.sql.DeltaSparkSessionExtension\")\n",
        "    .config(\"spark.sql.catalog.spark_catalog\", \"org.apache.spark.sql.delta.catalog.DeltaCatalog\")\n",
        ")\n",
        "spark = configure_spark_with_delta_pip(builder).getOrCreate()\n",
        "\n",
        "# Start streaming into memory table\n",
        "stream = (\n",
        "    spark.readStream.format(\"delta\")\n",
        "    .load(\"/tmp/orders_delta\")\n",
        "    .writeStream\n",
        "    .format(\"memory\")\n",
        "    .queryName(\"orders1_stream\")\n",
        "    .outputMode(\"append\")\n",
        "    .trigger(processingTime=\"5 seconds\")\n",
        "    .start()\n",
        ")\n"
      ],
      "metadata": {
        "id": "y2p4mrbmtUwV"
      },
      "execution_count": null,
      "outputs": []
    },
    {
      "cell_type": "code",
      "source": [
        "import time\n",
        "\n",
        "for i in range(5):  # Check 5 times (every 5 seconds)\n",
        "    time.sleep(5)\n",
        "    print(f\"--- Batch {i+1} ---\")\n",
        "    spark.sql(\"SELECT * FROM orders_stream\").show()\n"
      ],
      "metadata": {
        "colab": {
          "base_uri": "https://localhost:8080/"
        },
        "id": "5GnWVaYGtpUB",
        "outputId": "fe85b900-74a6-42a6-f453-2bf2f97a6c54"
      },
      "execution_count": null,
      "outputs": [
        {
          "output_type": "stream",
          "name": "stdout",
          "text": [
            "--- Batch 1 ---\n",
            "+--------+-------------+-----------+--------+------+\n",
            "|order_id|customer_name|   category|quantity|amount|\n",
            "+--------+-------------+-----------+--------+------+\n",
            "|       3|         Mike|Electronics|       5|   750|\n",
            "|       4|         Nina|   Clothing|       3|   170|\n",
            "|       6|         Emma|   Clothing|       2|   120|\n",
            "|       9|      Charlie|Electronics|       3|   450|\n",
            "|       7|        Alice|Electronics|       1|   120|\n",
            "|       1|         John|Electronics|       2|   300|\n",
            "|       5|         Liam|Electronics|       1|   200|\n",
            "|      10|        Daisy|   Clothing|       1|    70|\n",
            "|       6|         Emma|   Clothing|       2|    80|\n",
            "|       8|          Bob|   Clothing|       2|    80|\n",
            "|      11|        Alice|Electronics|       1|   120|\n",
            "|      18|          Bob|   Clothing|       2|    80|\n",
            "|      19|      Chaplin|Electronics|       3|   450|\n",
            "|      20|        Daisy|   Clothing|       1|    70|\n",
            "+--------+-------------+-----------+--------+------+\n",
            "\n",
            "--- Batch 2 ---\n",
            "+--------+-------------+-----------+--------+------+\n",
            "|order_id|customer_name|   category|quantity|amount|\n",
            "+--------+-------------+-----------+--------+------+\n",
            "|       3|         Mike|Electronics|       5|   750|\n",
            "|       4|         Nina|   Clothing|       3|   170|\n",
            "|       6|         Emma|   Clothing|       2|   120|\n",
            "|       9|      Charlie|Electronics|       3|   450|\n",
            "|       7|        Alice|Electronics|       1|   120|\n",
            "|       1|         John|Electronics|       2|   300|\n",
            "|       5|         Liam|Electronics|       1|   200|\n",
            "|      10|        Daisy|   Clothing|       1|    70|\n",
            "|       6|         Emma|   Clothing|       2|    80|\n",
            "|       8|          Bob|   Clothing|       2|    80|\n",
            "|      11|        Alice|Electronics|       1|   120|\n",
            "|      18|          Bob|   Clothing|       2|    80|\n",
            "|      19|      Chaplin|Electronics|       3|   450|\n",
            "|      20|        Daisy|   Clothing|       1|    70|\n",
            "+--------+-------------+-----------+--------+------+\n",
            "\n",
            "--- Batch 3 ---\n",
            "+--------+-------------+-----------+--------+------+\n",
            "|order_id|customer_name|   category|quantity|amount|\n",
            "+--------+-------------+-----------+--------+------+\n",
            "|       3|         Mike|Electronics|       5|   750|\n",
            "|       4|         Nina|   Clothing|       3|   170|\n",
            "|       6|         Emma|   Clothing|       2|   120|\n",
            "|       9|      Charlie|Electronics|       3|   450|\n",
            "|       7|        Alice|Electronics|       1|   120|\n",
            "|       1|         John|Electronics|       2|   300|\n",
            "|       5|         Liam|Electronics|       1|   200|\n",
            "|      10|        Daisy|   Clothing|       1|    70|\n",
            "|       6|         Emma|   Clothing|       2|    80|\n",
            "|       8|          Bob|   Clothing|       2|    80|\n",
            "|      11|        Alice|Electronics|       1|   120|\n",
            "|      18|          Bob|   Clothing|       2|    80|\n",
            "|      19|      Chaplin|Electronics|       3|   450|\n",
            "|      20|        Daisy|   Clothing|       1|    70|\n",
            "+--------+-------------+-----------+--------+------+\n",
            "\n",
            "--- Batch 4 ---\n",
            "+--------+-------------+-----------+--------+------+\n",
            "|order_id|customer_name|   category|quantity|amount|\n",
            "+--------+-------------+-----------+--------+------+\n",
            "|       3|         Mike|Electronics|       5|   750|\n",
            "|       4|         Nina|   Clothing|       3|   170|\n",
            "|       6|         Emma|   Clothing|       2|   120|\n",
            "|       9|      Charlie|Electronics|       3|   450|\n",
            "|       7|        Alice|Electronics|       1|   120|\n",
            "|       1|         John|Electronics|       2|   300|\n",
            "|       5|         Liam|Electronics|       1|   200|\n",
            "|      10|        Daisy|   Clothing|       1|    70|\n",
            "|       6|         Emma|   Clothing|       2|    80|\n",
            "|       8|          Bob|   Clothing|       2|    80|\n",
            "|      11|        Alice|Electronics|       1|   120|\n",
            "|      18|          Bob|   Clothing|       2|    80|\n",
            "|      19|      Chaplin|Electronics|       3|   450|\n",
            "|      20|        Daisy|   Clothing|       1|    70|\n",
            "+--------+-------------+-----------+--------+------+\n",
            "\n",
            "--- Batch 5 ---\n",
            "+--------+-------------+-----------+--------+------+\n",
            "|order_id|customer_name|   category|quantity|amount|\n",
            "+--------+-------------+-----------+--------+------+\n",
            "|       3|         Mike|Electronics|       5|   750|\n",
            "|       4|         Nina|   Clothing|       3|   170|\n",
            "|       6|         Emma|   Clothing|       2|   120|\n",
            "|       9|      Charlie|Electronics|       3|   450|\n",
            "|       7|        Alice|Electronics|       1|   120|\n",
            "|       1|         John|Electronics|       2|   300|\n",
            "|       5|         Liam|Electronics|       1|   200|\n",
            "|      10|        Daisy|   Clothing|       1|    70|\n",
            "|       6|         Emma|   Clothing|       2|    80|\n",
            "|       8|          Bob|   Clothing|       2|    80|\n",
            "|      11|        Alice|Electronics|       1|   120|\n",
            "|      18|          Bob|   Clothing|       2|    80|\n",
            "|      19|      Chaplin|Electronics|       3|   450|\n",
            "|      20|        Daisy|   Clothing|       1|    70|\n",
            "+--------+-------------+-----------+--------+------+\n",
            "\n"
          ]
        }
      ]
    },
    {
      "cell_type": "markdown",
      "source": [
        "# **6. Visualization**\n",
        "Task:\n",
        "\n",
        "Read Delta table into Pandas\n",
        "\n",
        "Create a bar chart of category vs total amount"
      ],
      "metadata": {
        "id": "LLD6qrmO3JeL"
      }
    },
    {
      "cell_type": "code",
      "source": [
        "import pandas as pd\n",
        "import matplotlib.pyplot as plt\n",
        "\n",
        "# Read Delta table into Spark DataFrame\n",
        "df_spark = spark.read.format(\"delta\").load(\"/tmp/orders_delta\")\n",
        "\n",
        "# Aggregate total amount by category\n",
        "df_spark_grouped = df_spark.groupBy(\"category\").sum(\"amount\").withColumnRenamed(\"sum(amount)\", \"total_amount\")\n",
        "\n",
        "# Convert to Pandas DataFrame\n",
        "df_pandas = df_spark_grouped.toPandas()\n",
        "\n",
        "# Plot\n",
        "plt.figure(figsize=(8,5))\n",
        "plt.barh(df_pandas[\"category\"], df_pandas[\"total_amount\"])\n",
        "plt.xlabel(\"Category\")\n",
        "plt.ylabel(\"Total Amount\")\n",
        "plt.title(\"Category vs Total Amount\")\n",
        "plt.show()\n"
      ],
      "metadata": {
        "colab": {
          "base_uri": "https://localhost:8080/",
          "height": 487
        },
        "id": "Na5S_IvVvbMU",
        "outputId": "8bbf0965-5cd3-4c51-bb81-e9045831e021"
      },
      "execution_count": null,
      "outputs": [
        {
          "output_type": "display_data",
          "data": {
            "text/plain": [
              "<Figure size 800x500 with 1 Axes>"
            ],
            "image/png": "[encoded data removed]"
          },
          "metadata": {}
        }
      ]
    }
  ]
}