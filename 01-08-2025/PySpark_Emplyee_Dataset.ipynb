{
  "nbformat": 4,
  "nbformat_minor": 0,
  "metadata": {
    "colab": {
      "provenance": []
    },
    "kernelspec": {
      "name": "python3",
      "display_name": "Python 3"
    },
    "language_info": {
      "name": "python"
    }
  },
  "cells": [
    {
      "cell_type": "markdown",
      "source": [
        "# Scenario: Employee Work Data for a Tech Company\n",
        "We'll simulate data across departments, projects, salaries, and work hours.\n",
        "\n",
        "Step 1: Prepare Data in PySpark"
      ],
      "metadata": {
        "id": "qT4V2Wx3DzqF"
      }
    },
    {
      "cell_type": "code",
      "execution_count": 2,
      "metadata": {
        "colab": {
          "base_uri": "https://localhost:8080/"
        },
        "id": "ILIq1nlQDsFP",
        "outputId": "28e86512-cf12-4cce-ecbf-9767cb713b17"
      },
      "outputs": [
        {
          "output_type": "stream",
          "name": "stdout",
          "text": [
            "+-----+-----+-----------+---------------+------+------------+\n",
            "|EmpID|Name |Department |Project        |Salary|HoursPerWeek|\n",
            "+-----+-----+-----------+---------------+------+------------+\n",
            "|101  |Ravi |Engineering|AI Engine      |95000 |42          |\n",
            "|102  |Sneha|Engineering|Data Platform  |87000 |45          |\n",
            "|103  |Kabir|Marketing  |Product Launch |65000 |40          |\n",
            "|104  |Anita|Sales      |Client Outreach|70000 |38          |\n",
            "|105  |Divya|Engineering|AI Engine      |99000 |48          |\n",
            "|106  |Amit |Marketing  |Social Media   |62000 |35          |\n",
            "|107  |Priya|HR         |Policy Revamp  |58000 |37          |\n",
            "|108  |Manav|Sales      |Lead Gen       |73000 |41          |\n",
            "|109  |Neha |Engineering|Security Suite |91000 |46          |\n",
            "|110  |Farah|HR         |Onboarding     |60000 |36          |\n",
            "+-----+-----+-----------+---------------+------+------------+\n",
            "\n"
          ]
        }
      ],
      "source": [
        "from pyspark.sql import SparkSession\n",
        "\n",
        "spark = SparkSession.builder \\\n",
        "    .appName(\"SparkSQLExample\") \\\n",
        "    .getOrCreate()\n",
        "\n",
        "from pyspark.sql import Row\n",
        "data = [\n",
        "Row(EmpID=101, Name=\"Ravi\", Department=\"Engineering\", Project=\"AI Engine\",\n",
        "Salary=95000, HoursPerWeek=42),\n",
        "Row(EmpID=102, Name=\"Sneha\", Department=\"Engineering\", Project=\"Data Platform\",\n",
        "Salary=87000, HoursPerWeek=45),\n",
        "Row(EmpID=103, Name=\"Kabir\", Department=\"Marketing\", Project=\"Product Launch\",\n",
        "Salary=65000, HoursPerWeek=40),\n",
        "Row(EmpID=104, Name=\"Anita\", Department=\"Sales\", Project=\"Client Outreach\",\n",
        "Salary=70000, HoursPerWeek=38),\n",
        "Row(EmpID=105, Name=\"Divya\", Department=\"Engineering\", Project=\"AI Engine\",\n",
        "Salary=99000, HoursPerWeek=48),\n",
        "Row(EmpID=106, Name=\"Amit\", Department=\"Marketing\", Project=\"Social Media\",\n",
        "Salary=62000, HoursPerWeek=35),\n",
        "Row(EmpID=107, Name=\"Priya\", Department=\"HR\", Project=\"Policy Revamp\",\n",
        "Salary=58000, HoursPerWeek=37),\n",
        "Row(EmpID=108, Name=\"Manav\", Department=\"Sales\", Project=\"Lead Gen\", Salary=73000,\n",
        "HoursPerWeek=41),\n",
        "Row(EmpID=109, Name=\"Neha\", Department=\"Engineering\", Project=\"Security Suite\",\n",
        "Salary=91000, HoursPerWeek=46),\n",
        "Row(EmpID=110, Name=\"Farah\", Department=\"HR\", Project=\"Onboarding\", Salary=60000,\n",
        "HoursPerWeek=36)\n",
        "]\n",
        "df = spark.createDataFrame(data)\n",
        "df.show(truncate=False)"
      ]
    },
    {
      "cell_type": "markdown",
      "source": [
        "Step 2: Create Views   \n",
        "\n",
        "Create a Local Temp View\n",
        "\n"
      ],
      "metadata": {
        "id": "11j15YrvHtZX"
      }
    },
    {
      "cell_type": "code",
      "source": [
        "df.createOrReplaceTempView(\"employees_local\")"
      ],
      "metadata": {
        "id": "dJRGAw_zD2yd"
      },
      "execution_count": 3,
      "outputs": []
    },
    {
      "cell_type": "markdown",
      "source": [
        "Create a Global Temp View\n"
      ],
      "metadata": {
        "id": "wM5E9ILBH3a2"
      }
    },
    {
      "cell_type": "code",
      "source": [
        "df.createOrReplaceGlobalTempView(\"employees_global\")"
      ],
      "metadata": {
        "id": "b76Y6wFPH5df"
      },
      "execution_count": 4,
      "outputs": []
    },
    {
      "cell_type": "markdown",
      "source": [
        "# Part A: Exercises on Local View ( employees_local )\n",
        "1. List all employees working on the \"AI Engine\" project.\n",
        "2. Show all employees from the \"Marketing\" department with salaries greater than\n",
        "60,000.\n",
        "3. Calculate the average salary for each department.\n",
        "4. List the top 3 highest paid employees overall.\n",
        "5. Find employees who work more than 40 hours per week.\n",
        "6. Group by project and display the number of employees per project.\n",
        "7. Drop the local view. Try querying again — what happens?"
      ],
      "metadata": {
        "id": "2dfYx10KIBsA"
      }
    },
    {
      "cell_type": "code",
      "source": [
        "#List all employees working on the \"AI Engine\" project.\n",
        "spark.sql('Select *from employees_local where Project =\"AI Engine\"').show()"
      ],
      "metadata": {
        "colab": {
          "base_uri": "https://localhost:8080/"
        },
        "id": "7S6sxSDXIDdf",
        "outputId": "2a0843bc-166d-4b71-86aa-2e6765e832a1"
      },
      "execution_count": 5,
      "outputs": [
        {
          "output_type": "stream",
          "name": "stdout",
          "text": [
            "+-----+-----+-----------+---------+------+------------+\n",
            "|EmpID| Name| Department|  Project|Salary|HoursPerWeek|\n",
            "+-----+-----+-----------+---------+------+------------+\n",
            "|  101| Ravi|Engineering|AI Engine| 95000|          42|\n",
            "|  105|Divya|Engineering|AI Engine| 99000|          48|\n",
            "+-----+-----+-----------+---------+------+------------+\n",
            "\n"
          ]
        }
      ]
    },
    {
      "cell_type": "code",
      "source": [
        "#Show all employees from the \"Marketing\" department with salaries greater than 60,000.\n",
        "spark.sql('Select * from employees_local where Department=\"Marketing\" and Salary >=60000' ).show()"
      ],
      "metadata": {
        "colab": {
          "base_uri": "https://localhost:8080/"
        },
        "id": "2-qpYekkJRrq",
        "outputId": "39986fd4-97d9-41ca-8fb6-573c1b92ce8a"
      },
      "execution_count": 6,
      "outputs": [
        {
          "output_type": "stream",
          "name": "stdout",
          "text": [
            "+-----+-----+----------+--------------+------+------------+\n",
            "|EmpID| Name|Department|       Project|Salary|HoursPerWeek|\n",
            "+-----+-----+----------+--------------+------+------------+\n",
            "|  103|Kabir| Marketing|Product Launch| 65000|          40|\n",
            "|  106| Amit| Marketing|  Social Media| 62000|          35|\n",
            "+-----+-----+----------+--------------+------+------------+\n",
            "\n"
          ]
        }
      ]
    },
    {
      "cell_type": "code",
      "source": [
        "#Calculate the average salary for each department.\n",
        "spark.sql('Select Department,avg(Salary) from employees_local group by Department').show()"
      ],
      "metadata": {
        "id": "8IIP4crxJpCz",
        "colab": {
          "base_uri": "https://localhost:8080/"
        },
        "outputId": "671d705d-89f0-4f87-8828-5120b3cc4d64"
      },
      "execution_count": 7,
      "outputs": [
        {
          "output_type": "stream",
          "name": "stdout",
          "text": [
            "+-----------+-----------+\n",
            "| Department|avg(Salary)|\n",
            "+-----------+-----------+\n",
            "|      Sales|    71500.0|\n",
            "|Engineering|    93000.0|\n",
            "|  Marketing|    63500.0|\n",
            "|         HR|    59000.0|\n",
            "+-----------+-----------+\n",
            "\n"
          ]
        }
      ]
    },
    {
      "cell_type": "code",
      "source": [
        "#List the top 3 highest paid employees overall.\n",
        "spark.sql('Select * from employees_local order by Salary desc limit 3').show()"
      ],
      "metadata": {
        "colab": {
          "base_uri": "https://localhost:8080/"
        },
        "id": "n9CiRpiuTMMg",
        "outputId": "3e56716e-aa32-41bc-ea9f-9336d6784949"
      },
      "execution_count": 8,
      "outputs": [
        {
          "output_type": "stream",
          "name": "stdout",
          "text": [
            "+-----+-----+-----------+--------------+------+------------+\n",
            "|EmpID| Name| Department|       Project|Salary|HoursPerWeek|\n",
            "+-----+-----+-----------+--------------+------+------------+\n",
            "|  105|Divya|Engineering|     AI Engine| 99000|          48|\n",
            "|  101| Ravi|Engineering|     AI Engine| 95000|          42|\n",
            "|  109| Neha|Engineering|Security Suite| 91000|          46|\n",
            "+-----+-----+-----------+--------------+------+------------+\n",
            "\n"
          ]
        }
      ]
    },
    {
      "cell_type": "code",
      "source": [
        "#Find employees who work more than 40 hours per week.\n",
        "spark.sql('Select * from employees_local where HoursPerWeek>40').show()"
      ],
      "metadata": {
        "colab": {
          "base_uri": "https://localhost:8080/"
        },
        "id": "FIRcpgO9TqRR",
        "outputId": "1eefd7fd-f50b-4456-e10b-25464426805b"
      },
      "execution_count": 9,
      "outputs": [
        {
          "output_type": "stream",
          "name": "stdout",
          "text": [
            "+-----+-----+-----------+--------------+------+------------+\n",
            "|EmpID| Name| Department|       Project|Salary|HoursPerWeek|\n",
            "+-----+-----+-----------+--------------+------+------------+\n",
            "|  101| Ravi|Engineering|     AI Engine| 95000|          42|\n",
            "|  102|Sneha|Engineering| Data Platform| 87000|          45|\n",
            "|  105|Divya|Engineering|     AI Engine| 99000|          48|\n",
            "|  108|Manav|      Sales|      Lead Gen| 73000|          41|\n",
            "|  109| Neha|Engineering|Security Suite| 91000|          46|\n",
            "+-----+-----+-----------+--------------+------+------------+\n",
            "\n"
          ]
        }
      ]
    },
    {
      "cell_type": "code",
      "source": [
        "#Group by project and display the number of employees per project.\n",
        "spark.sql('Select Project,count(*) from employees_local group by Project').show()\n"
      ],
      "metadata": {
        "colab": {
          "base_uri": "https://localhost:8080/"
        },
        "id": "5eNDJdpmT8ni",
        "outputId": "56f2bade-7f4c-448d-cfea-6e66cbee441a"
      },
      "execution_count": 10,
      "outputs": [
        {
          "output_type": "stream",
          "name": "stdout",
          "text": [
            "+---------------+--------+\n",
            "|        Project|count(1)|\n",
            "+---------------+--------+\n",
            "|  Data Platform|       1|\n",
            "|      AI Engine|       2|\n",
            "| Product Launch|       1|\n",
            "|Client Outreach|       1|\n",
            "| Security Suite|       1|\n",
            "|  Policy Revamp|       1|\n",
            "|       Lead Gen|       1|\n",
            "|   Social Media|       1|\n",
            "|     Onboarding|       1|\n",
            "+---------------+--------+\n",
            "\n"
          ]
        }
      ]
    },
    {
      "cell_type": "markdown",
      "source": [
        "# Part B: Exercises on Global View ( employees_global )\n",
        "1. Retrieve all \"HR\" employees working fewer than 38 hours/week.\n",
        "2. Calculate the total salary payout for each department.\n",
        "3. For each employee, add a derived column Status :\n",
        "If HoursPerWeek > 45 → 'Overworked'\n",
        "Otherwise → 'Normal'\n",
        "4. Count the total number of employees working on each \"Project\" .\n",
        "5. List employees whose salary is above the average salary in their department.\n",
        "6. Open a new Spark session and query \"global_temp.employees_global\" from there."
      ],
      "metadata": {
        "id": "L805c9HZUXpU"
      }
    },
    {
      "cell_type": "markdown",
      "source": [],
      "metadata": {
        "id": "-j7ha5MGEAZ2"
      }
    },
    {
      "cell_type": "code",
      "source": [
        "#Retrieve all \"HR\" employees working fewer than 38 hours/week.\n",
        "spark.sql('Select * from global_temp.employees_global where Department=\"HR\" and HoursPerWeek<38').show()"
      ],
      "metadata": {
        "colab": {
          "base_uri": "https://localhost:8080/"
        },
        "id": "ShHrYxgDUa75",
        "outputId": "b5eb670e-85dc-4ef8-a28b-5f0837672784"
      },
      "execution_count": 11,
      "outputs": [
        {
          "output_type": "stream",
          "name": "stdout",
          "text": [
            "+-----+-----+----------+-------------+------+------------+\n",
            "|EmpID| Name|Department|      Project|Salary|HoursPerWeek|\n",
            "+-----+-----+----------+-------------+------+------------+\n",
            "|  107|Priya|        HR|Policy Revamp| 58000|          37|\n",
            "|  110|Farah|        HR|   Onboarding| 60000|          36|\n",
            "+-----+-----+----------+-------------+------+------------+\n",
            "\n"
          ]
        }
      ]
    },
    {
      "cell_type": "code",
      "source": [
        "#Calculate the total salary payout for each department.\n",
        "spark.sql('Select Department,sum(Salary)  as Total_Salary from  global_temp.employees_global group by Department').show()"
      ],
      "metadata": {
        "colab": {
          "base_uri": "https://localhost:8080/"
        },
        "id": "HH4EBau_Ui67",
        "outputId": "d74f9ef7-4ad2-4876-ea30-fb928627c902"
      },
      "execution_count": 15,
      "outputs": [
        {
          "output_type": "stream",
          "name": "stdout",
          "text": [
            "+-----------+------------+\n",
            "| Department|Total_Salary|\n",
            "+-----------+------------+\n",
            "|      Sales|      143000|\n",
            "|Engineering|      372000|\n",
            "|  Marketing|      127000|\n",
            "|         HR|      118000|\n",
            "+-----------+------------+\n",
            "\n"
          ]
        }
      ]
    },
    {
      "cell_type": "code",
      "source": [
        "#For each employee, add a derived column Status : If HoursPerWeek > 45 → 'Overworked' Otherwise → 'Normal'\n",
        "spark.sql('''\n",
        "    SELECT\n",
        "        Name,\n",
        "        Department,\n",
        "        HoursPerWeek,\n",
        "        CASE\n",
        "            WHEN HoursPerWeek > 45 THEN 'Overworked'\n",
        "            ELSE 'Normal'\n",
        "        END AS Status\n",
        "    FROM global_temp.employees_global\n",
        "''').show()\n"
      ],
      "metadata": {
        "colab": {
          "base_uri": "https://localhost:8080/"
        },
        "id": "hTmJF-kNWVMv",
        "outputId": "29a60e57-6543-45c3-ceb1-055300240d0c"
      },
      "execution_count": 16,
      "outputs": [
        {
          "output_type": "stream",
          "name": "stdout",
          "text": [
            "+-----+-----------+------------+----------+\n",
            "| Name| Department|HoursPerWeek|    Status|\n",
            "+-----+-----------+------------+----------+\n",
            "| Ravi|Engineering|          42|    Normal|\n",
            "|Sneha|Engineering|          45|    Normal|\n",
            "|Kabir|  Marketing|          40|    Normal|\n",
            "|Anita|      Sales|          38|    Normal|\n",
            "|Divya|Engineering|          48|Overworked|\n",
            "| Amit|  Marketing|          35|    Normal|\n",
            "|Priya|         HR|          37|    Normal|\n",
            "|Manav|      Sales|          41|    Normal|\n",
            "| Neha|Engineering|          46|Overworked|\n",
            "|Farah|         HR|          36|    Normal|\n",
            "+-----+-----------+------------+----------+\n",
            "\n"
          ]
        }
      ]
    },
    {
      "cell_type": "code",
      "source": [
        "#Count the total number of employees working on each \"Project\" .\n",
        "spark.sql('Select Project,count(EmpId)as Number_of_Employees from global_temp.employees_global group by Project').show()"
      ],
      "metadata": {
        "colab": {
          "base_uri": "https://localhost:8080/"
        },
        "id": "htfikf2zWvPY",
        "outputId": "a84a8504-34b3-42a5-f71f-6bd8c627ab92"
      },
      "execution_count": 18,
      "outputs": [
        {
          "output_type": "stream",
          "name": "stdout",
          "text": [
            "+---------------+-------------------+\n",
            "|        Project|Number_of_Employees|\n",
            "+---------------+-------------------+\n",
            "|  Data Platform|                  1|\n",
            "|      AI Engine|                  2|\n",
            "| Product Launch|                  1|\n",
            "|Client Outreach|                  1|\n",
            "| Security Suite|                  1|\n",
            "|  Policy Revamp|                  1|\n",
            "|       Lead Gen|                  1|\n",
            "|   Social Media|                  1|\n",
            "|     Onboarding|                  1|\n",
            "+---------------+-------------------+\n",
            "\n"
          ]
        }
      ]
    },
    {
      "cell_type": "code",
      "source": [
        "#List employees whose salary is above the average salary in their department.\n",
        "spark.sql('''\n",
        "    SELECT\n",
        "        e.Name,\n",
        "        e.Department,\n",
        "        e.Salary\n",
        "    FROM global_temp.employees_global e\n",
        "    JOIN (\n",
        "        SELECT\n",
        "            Department,\n",
        "            AVG(Salary) AS Avg_Salary\n",
        "        FROM global_temp.employees_global\n",
        "        GROUP BY Department\n",
        "    ) d_avg\n",
        "    ON e.Department = d_avg.Department\n",
        "    WHERE e.Salary > d_avg.Avg_Salary\n",
        "''').show()\n"
      ],
      "metadata": {
        "colab": {
          "base_uri": "https://localhost:8080/"
        },
        "id": "d1jRvGQrZl3w",
        "outputId": "2755b0a6-4cfc-491f-c636-480f41dab840"
      },
      "execution_count": 21,
      "outputs": [
        {
          "output_type": "stream",
          "name": "stdout",
          "text": [
            "+-----+-----------+------+\n",
            "| Name| Department|Salary|\n",
            "+-----+-----------+------+\n",
            "| Ravi|Engineering| 95000|\n",
            "|Divya|Engineering| 99000|\n",
            "|Kabir|  Marketing| 65000|\n",
            "|Manav|      Sales| 73000|\n",
            "|Farah|         HR| 60000|\n",
            "+-----+-----------+------+\n",
            "\n"
          ]
        }
      ]
    },
    {
      "cell_type": "code",
      "source": [
        "#Open a new Spark session and query \"global_temp.employees_global\" from there.\n",
        "from pyspark.sql import SparkSession\n",
        "\n",
        "new_spark = SparkSession.builder \\\n",
        "    .appName(\"NewSession\") \\\n",
        "    .getOrCreate()"
      ],
      "metadata": {
        "id": "Qy1-WeiJauFb"
      },
      "execution_count": 22,
      "outputs": []
    },
    {
      "cell_type": "code",
      "source": [
        "new_spark.sql('SELECT * FROM global_temp.employees_global').show()\n"
      ],
      "metadata": {
        "colab": {
          "base_uri": "https://localhost:8080/"
        },
        "id": "Hl5OnrQeZmh_",
        "outputId": "4c5288af-ba52-4783-fd91-f5cf90f2c4c6"
      },
      "execution_count": 23,
      "outputs": [
        {
          "output_type": "stream",
          "name": "stdout",
          "text": [
            "+-----+-----+-----------+---------------+------+------------+\n",
            "|EmpID| Name| Department|        Project|Salary|HoursPerWeek|\n",
            "+-----+-----+-----------+---------------+------+------------+\n",
            "|  101| Ravi|Engineering|      AI Engine| 95000|          42|\n",
            "|  102|Sneha|Engineering|  Data Platform| 87000|          45|\n",
            "|  103|Kabir|  Marketing| Product Launch| 65000|          40|\n",
            "|  104|Anita|      Sales|Client Outreach| 70000|          38|\n",
            "|  105|Divya|Engineering|      AI Engine| 99000|          48|\n",
            "|  106| Amit|  Marketing|   Social Media| 62000|          35|\n",
            "|  107|Priya|         HR|  Policy Revamp| 58000|          37|\n",
            "|  108|Manav|      Sales|       Lead Gen| 73000|          41|\n",
            "|  109| Neha|Engineering| Security Suite| 91000|          46|\n",
            "|  110|Farah|         HR|     Onboarding| 60000|          36|\n",
            "+-----+-----+-----------+---------------+------+------------+\n",
            "\n"
          ]
        }
      ]
    },
    {
      "cell_type": "markdown",
      "source": [
        "# Bonus Challenges\n",
        "1. Use a window function to assign rank to employees within each department based\n",
        "on salary.\n",
        "2. Create another view (local or global) that only contains \"Engineering\"\n",
        "employees.\n",
        "3. Create a SQL view that filters out all employees working < 38 hours and saves\n",
        "it as \"active_employees\" ."
      ],
      "metadata": {
        "id": "JARtL_cza9X6"
      }
    },
    {
      "cell_type": "code",
      "source": [
        "#Use a window function to assign rank to employees within each department based on salary.\n",
        "from pyspark.sql.window import Window\n",
        "from pyspark.sql.functions import row_number, rank, desc\n",
        "spark.sql('''\n",
        "    SELECT\n",
        "        *,\n",
        "        RANK() OVER (PARTITION BY Department ORDER BY Salary DESC) AS salary_rank\n",
        "    FROM global_temp.employees_global\n",
        "''').show()\n"
      ],
      "metadata": {
        "colab": {
          "base_uri": "https://localhost:8080/"
        },
        "id": "YojLvhnZa4Lk",
        "outputId": "10e1f6ab-e323-4a43-b786-b82f0034d33c"
      },
      "execution_count": 26,
      "outputs": [
        {
          "output_type": "stream",
          "name": "stdout",
          "text": [
            "+-----+-----+-----------+---------------+------+------------+-----------+\n",
            "|EmpID| Name| Department|        Project|Salary|HoursPerWeek|salary_rank|\n",
            "+-----+-----+-----------+---------------+------+------------+-----------+\n",
            "|  105|Divya|Engineering|      AI Engine| 99000|          48|          1|\n",
            "|  101| Ravi|Engineering|      AI Engine| 95000|          42|          2|\n",
            "|  109| Neha|Engineering| Security Suite| 91000|          46|          3|\n",
            "|  102|Sneha|Engineering|  Data Platform| 87000|          45|          4|\n",
            "|  110|Farah|         HR|     Onboarding| 60000|          36|          1|\n",
            "|  107|Priya|         HR|  Policy Revamp| 58000|          37|          2|\n",
            "|  103|Kabir|  Marketing| Product Launch| 65000|          40|          1|\n",
            "|  106| Amit|  Marketing|   Social Media| 62000|          35|          2|\n",
            "|  108|Manav|      Sales|       Lead Gen| 73000|          41|          1|\n",
            "|  104|Anita|      Sales|Client Outreach| 70000|          38|          2|\n",
            "+-----+-----+-----------+---------------+------+------------+-----------+\n",
            "\n"
          ]
        }
      ]
    },
    {
      "cell_type": "code",
      "source": [
        "#Create another view (local or global) that only contains \"Engineering\" employees.\n",
        "spark.sql('''\n",
        "    SELECT *\n",
        "    FROM global_temp.employees_global\n",
        "    WHERE Department = 'Engineering'\n",
        "''').createOrReplaceGlobalTempView(\"engineering_employees\")\n"
      ],
      "metadata": {
        "id": "ax-B1aL8bhKe"
      },
      "execution_count": 27,
      "outputs": []
    },
    {
      "cell_type": "code",
      "source": [
        "# Create a SQL view that filters out all employees working < 38 hours and saves it as \"active_employees\" .\n",
        "spark.sql('''\n",
        "    SELECT *\n",
        "    FROM global_temp.employees_global\n",
        "    WHERE HoursPerWeek >= 38\n",
        "''').createOrReplaceGlobalTempView(\"active_employees\")\n"
      ],
      "metadata": {
        "id": "590LCR38bliU"
      },
      "execution_count": 28,
      "outputs": []
    }
  ]
}