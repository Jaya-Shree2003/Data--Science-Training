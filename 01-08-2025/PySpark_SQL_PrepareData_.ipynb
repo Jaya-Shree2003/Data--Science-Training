{
  "nbformat": 4,
  "nbformat_minor": 0,
  "metadata": {
    "colab": {
      "provenance": []
    },
    "kernelspec": {
      "name": "python3",
      "display_name": "Python 3"
    },
    "language_info": {
      "name": "python"
    }
  },
  "cells": [
    {
      "cell_type": "markdown",
      "source": [
        "# Spark SQL Exercise Set – Product Orders Analytics"
      ],
      "metadata": {
        "id": "tiHGULKoY5IZ"
      }
    },
    {
      "cell_type": "code",
      "execution_count": 1,
      "metadata": {
        "id": "kEFuMS1uY4Rm"
      },
      "outputs": [],
      "source": [
        "from pyspark.sql import SparkSession\n",
        "\n",
        "spark = SparkSession.builder \\\n",
        "    .appName(\"OrderDataPrep\") \\\n",
        "    .getOrCreate()\n"
      ]
    },
    {
      "cell_type": "code",
      "source": [
        "from pyspark.sql.types import StructType, StructField, IntegerType, StringType\n",
        "from datetime import date\n",
        "\n",
        "data = [\n",
        "    (101, \"Alice\", \"Smartphone\", \"Electronics\", 1, 6000, \"2025-07-01\"),\n",
        "    (102, \"Bob\", \"Jeans\", \"Clothing\", 2, 4000, \"2025-07-02\"),\n",
        "    (103, \"Charlie\", \"Sofa\", \"Furniture\", 2, 12000, \"2025-07-03\"),\n",
        "    (104, \"Daisy\", \"Laptop\", \"Electronics\", 7, 10000, \"2025-07-04\"),\n",
        "    (105, \"Eve\", \"T-Shirt\", \"Clothing\", 3, 25000, \"2025-07-05\"),\n",
        "    (106, \"Frank\", \"Bookshelf\", \"Furniture\", 15000, 300, \"2023-01-06\"),\n",
        "    (107, \"Grace\", \"Novel\", \"Books\", 2, 15000, \"2025-07-07\"),\n",
        "    (108, \"Heidi\", \"Tablet\", \"Electronics\", 4, 40000, \"2025-07-08\"),\n",
        "    (109, \"Ivan\", \"Blazer\", \"Clothing\", 1, 60000, \"2025-07-09\"),\n",
        "    (110, \"Judy\", \"Chair\", \"Furniture\", 4, 150000, \"2023-01-10\"),\n",
        "    (111, \"Ken\", \"Textbook\", \"Books\", 1, 80000, \"2025-07-11\"),\n",
        "    (112, \"Leo\", \"Smartwatch\", \"Electronics\", 3, 25000, \"2023-01-12\"),\n",
        "    (113, \"Leo\", \"Chair\", \"Furnitures\", 3, 25000, \"2023-01-12\")\n",
        "]\n",
        "\n",
        "schema = StructType([\n",
        "    StructField(\"OrderID\", IntegerType(), True),\n",
        "    StructField(\"CustomerName\", StringType(), True),\n",
        "    StructField(\"Product\", StringType(), True),\n",
        "    StructField(\"Category\", StringType(), True),\n",
        "    StructField(\"Quantity\", IntegerType(), True),\n",
        "    StructField(\"UnitPrice\", IntegerType(), True),\n",
        "    StructField(\"OrderDate\", StringType(), True)\n",
        "])\n",
        "\n",
        "df = spark.createDataFrame(data, schema)\n",
        "df.show()\n"
      ],
      "metadata": {
        "colab": {
          "base_uri": "https://localhost:8080/"
        },
        "id": "y49beiXifDwO",
        "outputId": "fff8b43a-815d-482c-8c2f-1b94532e404e"
      },
      "execution_count": 39,
      "outputs": [
        {
          "output_type": "stream",
          "name": "stdout",
          "text": [
            "+-------+------------+----------+-----------+--------+---------+----------+\n",
            "|OrderID|CustomerName|   Product|   Category|Quantity|UnitPrice| OrderDate|\n",
            "+-------+------------+----------+-----------+--------+---------+----------+\n",
            "|    101|       Alice|Smartphone|Electronics|       1|     6000|2025-07-01|\n",
            "|    102|         Bob|     Jeans|   Clothing|       2|     4000|2025-07-02|\n",
            "|    103|     Charlie|      Sofa|  Furniture|       2|    12000|2025-07-03|\n",
            "|    104|       Daisy|    Laptop|Electronics|       7|    10000|2025-07-04|\n",
            "|    105|         Eve|   T-Shirt|   Clothing|       3|    25000|2025-07-05|\n",
            "|    106|       Frank| Bookshelf|  Furniture|   15000|      300|2023-01-06|\n",
            "|    107|       Grace|     Novel|      Books|       2|    15000|2025-07-07|\n",
            "|    108|       Heidi|    Tablet|Electronics|       4|    40000|2025-07-08|\n",
            "|    109|        Ivan|    Blazer|   Clothing|       1|    60000|2025-07-09|\n",
            "|    110|        Judy|     Chair|  Furniture|       4|   150000|2023-01-10|\n",
            "|    111|         Ken|  Textbook|      Books|       1|    80000|2025-07-11|\n",
            "|    112|         Leo|Smartwatch|Electronics|       3|    25000|2023-01-12|\n",
            "|    113|         Leo|     Chair| Furnitures|       3|    25000|2023-01-12|\n",
            "+-------+------------+----------+-----------+--------+---------+----------+\n",
            "\n"
          ]
        }
      ]
    },
    {
      "cell_type": "code",
      "source": [
        "df.createOrReplaceTempView(\"orders_local\")\n"
      ],
      "metadata": {
        "id": "p00lLbRUfHOr"
      },
      "execution_count": 40,
      "outputs": []
    },
    {
      "cell_type": "code",
      "source": [
        "df.createOrReplaceGlobalTempView(\"orders_global\")\n"
      ],
      "metadata": {
        "id": "vi8GrJBFfMsV"
      },
      "execution_count": 41,
      "outputs": []
    },
    {
      "cell_type": "markdown",
      "source": [
        "# Part A: Local View – orders_local\n",
        "1. List all orders placed for \"Electronics\" with a Quantity of 2 or more.\n",
        "2. Calculate TotalAmount (Quantity × UnitPrice) for each order.\n",
        "3. Show the total number of orders per Category .\n",
        "4. List orders placed in \"January 2023\" only.\n",
        "5. Show the average UnitPrice per category.\n",
        "6. Find the order with the highest total amount.\n",
        "7. Drop the local view and try querying it again."
      ],
      "metadata": {
        "id": "srdPbCN1fiaP"
      }
    },
    {
      "cell_type": "code",
      "source": [
        "#List all orders placed for \"Electronics\" with a Quantity of 2 or more.\n",
        "spark.sql('''\n",
        "    SELECT *\n",
        "    FROM orders_local\n",
        "    WHERE Category = 'Electronics' AND Quantity >= 2\n",
        "''').show()\n"
      ],
      "metadata": {
        "colab": {
          "base_uri": "https://localhost:8080/"
        },
        "id": "ExNhq2fkfj_d",
        "outputId": "035d87f9-1570-4f0e-e076-69968e19017a"
      },
      "execution_count": 42,
      "outputs": [
        {
          "output_type": "stream",
          "name": "stdout",
          "text": [
            "+-------+------------+----------+-----------+--------+---------+----------+\n",
            "|OrderID|CustomerName|   Product|   Category|Quantity|UnitPrice| OrderDate|\n",
            "+-------+------------+----------+-----------+--------+---------+----------+\n",
            "|    104|       Daisy|    Laptop|Electronics|       7|    10000|2025-07-04|\n",
            "|    108|       Heidi|    Tablet|Electronics|       4|    40000|2025-07-08|\n",
            "|    112|         Leo|Smartwatch|Electronics|       3|    25000|2023-01-12|\n",
            "+-------+------------+----------+-----------+--------+---------+----------+\n",
            "\n"
          ]
        }
      ]
    },
    {
      "cell_type": "code",
      "source": [
        "# Calculate TotalAmount (Quantity × UnitPrice) for each order.\n",
        "spark.sql('''\n",
        "    SELECT *,\n",
        "           Quantity * UnitPrice AS TotalAmount\n",
        "    FROM orders_local\n",
        "''').show()\n"
      ],
      "metadata": {
        "colab": {
          "base_uri": "https://localhost:8080/"
        },
        "id": "IeeKzg7BfsHt",
        "outputId": "4faaa9c9-fb4c-4109-8491-751f1e459e9a"
      },
      "execution_count": 43,
      "outputs": [
        {
          "output_type": "stream",
          "name": "stdout",
          "text": [
            "+-------+------------+----------+-----------+--------+---------+----------+-----------+\n",
            "|OrderID|CustomerName|   Product|   Category|Quantity|UnitPrice| OrderDate|TotalAmount|\n",
            "+-------+------------+----------+-----------+--------+---------+----------+-----------+\n",
            "|    101|       Alice|Smartphone|Electronics|       1|     6000|2025-07-01|       6000|\n",
            "|    102|         Bob|     Jeans|   Clothing|       2|     4000|2025-07-02|       8000|\n",
            "|    103|     Charlie|      Sofa|  Furniture|       2|    12000|2025-07-03|      24000|\n",
            "|    104|       Daisy|    Laptop|Electronics|       7|    10000|2025-07-04|      70000|\n",
            "|    105|         Eve|   T-Shirt|   Clothing|       3|    25000|2025-07-05|      75000|\n",
            "|    106|       Frank| Bookshelf|  Furniture|   15000|      300|2023-01-06|    4500000|\n",
            "|    107|       Grace|     Novel|      Books|       2|    15000|2025-07-07|      30000|\n",
            "|    108|       Heidi|    Tablet|Electronics|       4|    40000|2025-07-08|     160000|\n",
            "|    109|        Ivan|    Blazer|   Clothing|       1|    60000|2025-07-09|      60000|\n",
            "|    110|        Judy|     Chair|  Furniture|       4|   150000|2023-01-10|     600000|\n",
            "|    111|         Ken|  Textbook|      Books|       1|    80000|2025-07-11|      80000|\n",
            "|    112|         Leo|Smartwatch|Electronics|       3|    25000|2023-01-12|      75000|\n",
            "|    113|         Leo|     Chair| Furnitures|       3|    25000|2023-01-12|      75000|\n",
            "+-------+------------+----------+-----------+--------+---------+----------+-----------+\n",
            "\n"
          ]
        }
      ]
    },
    {
      "cell_type": "code",
      "source": [
        "#Show the total number of orders per Category .\n",
        "spark.sql('''\n",
        "    SELECT Category,\n",
        "           COUNT(*) AS TotalOrders\n",
        "    FROM orders_local\n",
        "    GROUP BY Category\n",
        "''').show()\n"
      ],
      "metadata": {
        "colab": {
          "base_uri": "https://localhost:8080/"
        },
        "id": "-L-kUCHvfuz2",
        "outputId": "dc3a0915-e4b0-438e-fb98-b4852f975a1a"
      },
      "execution_count": 44,
      "outputs": [
        {
          "output_type": "stream",
          "name": "stdout",
          "text": [
            "+-----------+-----------+\n",
            "|   Category|TotalOrders|\n",
            "+-----------+-----------+\n",
            "|Electronics|          4|\n",
            "|   Clothing|          3|\n",
            "|  Furniture|          3|\n",
            "|      Books|          2|\n",
            "| Furnitures|          1|\n",
            "+-----------+-----------+\n",
            "\n"
          ]
        }
      ]
    },
    {
      "cell_type": "code",
      "source": [
        "#List orders placed in \"January 2023\" only.\n",
        "spark.sql('''\n",
        "    SELECT *\n",
        "    FROM orders_local\n",
        "    WHERE OrderDate LIKE '2023-01-%'\n",
        "''').show()\n"
      ],
      "metadata": {
        "colab": {
          "base_uri": "https://localhost:8080/"
        },
        "id": "kFLVSoiffwaG",
        "outputId": "71187c28-3b3c-4d19-bb93-20c4c4864d7f"
      },
      "execution_count": 45,
      "outputs": [
        {
          "output_type": "stream",
          "name": "stdout",
          "text": [
            "+-------+------------+----------+-----------+--------+---------+----------+\n",
            "|OrderID|CustomerName|   Product|   Category|Quantity|UnitPrice| OrderDate|\n",
            "+-------+------------+----------+-----------+--------+---------+----------+\n",
            "|    106|       Frank| Bookshelf|  Furniture|   15000|      300|2023-01-06|\n",
            "|    110|        Judy|     Chair|  Furniture|       4|   150000|2023-01-10|\n",
            "|    112|         Leo|Smartwatch|Electronics|       3|    25000|2023-01-12|\n",
            "|    113|         Leo|     Chair| Furnitures|       3|    25000|2023-01-12|\n",
            "+-------+------------+----------+-----------+--------+---------+----------+\n",
            "\n"
          ]
        }
      ]
    },
    {
      "cell_type": "code",
      "source": [
        "#Show the average UnitPrice per category.\n",
        "spark.sql('''\n",
        "    SELECT Category,\n",
        "           ROUND(AVG(UnitPrice), 2) AS AvgUnitPrice\n",
        "    FROM orders_local\n",
        "    GROUP BY Category\n",
        "''').show()\n",
        "\n"
      ],
      "metadata": {
        "colab": {
          "base_uri": "https://localhost:8080/"
        },
        "id": "ZfOUBPYFfv3u",
        "outputId": "d70de23a-c20f-4cb7-dc2a-b0ba0bf190ce"
      },
      "execution_count": 46,
      "outputs": [
        {
          "output_type": "stream",
          "name": "stdout",
          "text": [
            "+-----------+------------+\n",
            "|   Category|AvgUnitPrice|\n",
            "+-----------+------------+\n",
            "|Electronics|     20250.0|\n",
            "|   Clothing|    29666.67|\n",
            "|  Furniture|     54100.0|\n",
            "|      Books|     47500.0|\n",
            "| Furnitures|     25000.0|\n",
            "+-----------+------------+\n",
            "\n"
          ]
        }
      ]
    },
    {
      "cell_type": "code",
      "source": [
        "#Find the order with the highest total amount.\n",
        "spark.sql('''\n",
        "    SELECT *,\n",
        "           Quantity * UnitPrice AS TotalAmount\n",
        "    FROM orders_local\n",
        "    ORDER BY TotalAmount DESC\n",
        "    LIMIT 1\n",
        "''').show()\n"
      ],
      "metadata": {
        "colab": {
          "base_uri": "https://localhost:8080/"
        },
        "id": "31UK0OyKfvZW",
        "outputId": "0221cb21-fe03-4478-e254-7fb521a0b9ed"
      },
      "execution_count": 47,
      "outputs": [
        {
          "output_type": "stream",
          "name": "stdout",
          "text": [
            "+-------+------------+---------+---------+--------+---------+----------+-----------+\n",
            "|OrderID|CustomerName|  Product| Category|Quantity|UnitPrice| OrderDate|TotalAmount|\n",
            "+-------+------------+---------+---------+--------+---------+----------+-----------+\n",
            "|    106|       Frank|Bookshelf|Furniture|   15000|      300|2023-01-06|    4500000|\n",
            "+-------+------------+---------+---------+--------+---------+----------+-----------+\n",
            "\n"
          ]
        }
      ]
    },
    {
      "cell_type": "code",
      "source": [
        "#Drop the local view and try querying it again.\n",
        "spark.catalog.dropTempView(\"orders_local\")\n"
      ],
      "metadata": {
        "colab": {
          "base_uri": "https://localhost:8080/"
        },
        "id": "Y_tVA8BRf9eO",
        "outputId": "7d1c212f-a364-43cc-e094-7d746852b740"
      },
      "execution_count": 48,
      "outputs": [
        {
          "output_type": "execute_result",
          "data": {
            "text/plain": [
              "True"
            ]
          },
          "metadata": {},
          "execution_count": 48
        }
      ]
    },
    {
      "cell_type": "code",
      "source": [
        "# Display all \"Furniture\" orders with TotalAmount > 10,000\n",
        "\n",
        "spark.sql('''\n",
        "    SELECT *, Quantity * UnitPrice AS TotalAmount\n",
        "    FROM global_temp.orders_global\n",
        "    WHERE Category = 'Furniture' AND (Quantity * UnitPrice) > 10000\n",
        "''').show()"
      ],
      "metadata": {
        "id": "n3Zz00wbg7er",
        "outputId": "50ae438e-5e97-49b8-dc20-4383f3fd2f2a",
        "colab": {
          "base_uri": "https://localhost:8080/"
        }
      },
      "execution_count": 49,
      "outputs": [
        {
          "output_type": "stream",
          "name": "stdout",
          "text": [
            "+-------+------------+---------+---------+--------+---------+----------+-----------+\n",
            "|OrderID|CustomerName|  Product| Category|Quantity|UnitPrice| OrderDate|TotalAmount|\n",
            "+-------+------------+---------+---------+--------+---------+----------+-----------+\n",
            "|    103|     Charlie|     Sofa|Furniture|       2|    12000|2025-07-03|      24000|\n",
            "|    106|       Frank|Bookshelf|Furniture|   15000|      300|2023-01-06|    4500000|\n",
            "|    110|        Judy|    Chair|Furniture|       4|   150000|2023-01-10|     600000|\n",
            "+-------+------------+---------+---------+--------+---------+----------+-----------+\n",
            "\n"
          ]
        }
      ]
    },
    {
      "cell_type": "code",
      "source": [
        "# Add DiscountFlag: \"Yes\" if Quantity > 3 else \"No\"\n",
        "\n",
        "spark.sql('''\n",
        "    SELECT *,\n",
        "           CASE\n",
        "               WHEN Quantity > 3 THEN 'Yes'\n",
        "               ELSE 'No'\n",
        "           END AS DiscountFlag\n",
        "    FROM global_temp.orders_global\n",
        "''').show()\n"
      ],
      "metadata": {
        "id": "7p2kSTaaiBDF",
        "outputId": "65b8960c-56ba-4f03-8bfd-2b9253d6680a",
        "colab": {
          "base_uri": "https://localhost:8080/"
        }
      },
      "execution_count": 50,
      "outputs": [
        {
          "output_type": "stream",
          "name": "stdout",
          "text": [
            "+-------+------------+----------+-----------+--------+---------+----------+------------+\n",
            "|OrderID|CustomerName|   Product|   Category|Quantity|UnitPrice| OrderDate|DiscountFlag|\n",
            "+-------+------------+----------+-----------+--------+---------+----------+------------+\n",
            "|    101|       Alice|Smartphone|Electronics|       1|     6000|2025-07-01|          No|\n",
            "|    102|         Bob|     Jeans|   Clothing|       2|     4000|2025-07-02|          No|\n",
            "|    103|     Charlie|      Sofa|  Furniture|       2|    12000|2025-07-03|          No|\n",
            "|    104|       Daisy|    Laptop|Electronics|       7|    10000|2025-07-04|         Yes|\n",
            "|    105|         Eve|   T-Shirt|   Clothing|       3|    25000|2025-07-05|          No|\n",
            "|    106|       Frank| Bookshelf|  Furniture|   15000|      300|2023-01-06|         Yes|\n",
            "|    107|       Grace|     Novel|      Books|       2|    15000|2025-07-07|          No|\n",
            "|    108|       Heidi|    Tablet|Electronics|       4|    40000|2025-07-08|         Yes|\n",
            "|    109|        Ivan|    Blazer|   Clothing|       1|    60000|2025-07-09|          No|\n",
            "|    110|        Judy|     Chair|  Furniture|       4|   150000|2023-01-10|         Yes|\n",
            "|    111|         Ken|  Textbook|      Books|       1|    80000|2025-07-11|          No|\n",
            "|    112|         Leo|Smartwatch|Electronics|       3|    25000|2023-01-12|          No|\n",
            "|    113|         Leo|     Chair| Furnitures|       3|    25000|2023-01-12|          No|\n",
            "+-------+------------+----------+-----------+--------+---------+----------+------------+\n",
            "\n"
          ]
        }
      ]
    },
    {
      "cell_type": "code",
      "source": [
        "#  List customers who ordered more than 1 product type\n",
        "\n",
        "spark.sql('''\n",
        "    SELECT CustomerName, COUNT(DISTINCT Product) AS product_types\n",
        "    FROM global_temp.orders_global\n",
        "    GROUP BY CustomerName\n",
        "    HAVING COUNT(DISTINCT Product) > 1\n",
        "''').show()"
      ],
      "metadata": {
        "id": "m5hKuqBpiITU",
        "outputId": "0b1ce03a-c2b6-48bd-9bbe-c27d75b6d695",
        "colab": {
          "base_uri": "https://localhost:8080/"
        }
      },
      "execution_count": 51,
      "outputs": [
        {
          "output_type": "stream",
          "name": "stdout",
          "text": [
            "+------------+-------------+\n",
            "|CustomerName|product_types|\n",
            "+------------+-------------+\n",
            "|         Leo|            2|\n",
            "+------------+-------------+\n",
            "\n"
          ]
        }
      ]
    },
    {
      "cell_type": "code",
      "source": [
        "#Count number of orders per month\n",
        "\n",
        "spark.sql('''\n",
        "    SELECT\n",
        "        SUBSTRING(OrderDate, 1, 7) AS Month,\n",
        "        COUNT(*) AS OrderCount\n",
        "    FROM global_temp.orders_global\n",
        "    GROUP BY SUBSTRING(OrderDate, 1, 7)\n",
        "    ORDER BY Month\n",
        "''').show()"
      ],
      "metadata": {
        "id": "y9nuUN5wiM9E",
        "outputId": "95908d3d-181b-4420-cc1e-a1ec4fe5a5a7",
        "colab": {
          "base_uri": "https://localhost:8080/"
        }
      },
      "execution_count": 32,
      "outputs": [
        {
          "output_type": "stream",
          "name": "stdout",
          "text": [
            "+-------+----------+\n",
            "|  Month|OrderCount|\n",
            "+-------+----------+\n",
            "|2025-07|        12|\n",
            "+-------+----------+\n",
            "\n"
          ]
        }
      ]
    },
    {
      "cell_type": "code",
      "source": [
        "# Rank all products by total quantity sold using a window function\n",
        "\n",
        "spark.sql('''\n",
        "    SELECT Product, TotalQuantity,\n",
        "           RANK() OVER (ORDER BY TotalQuantity DESC) AS Rank\n",
        "    FROM (\n",
        "        SELECT Product, SUM(Quantity) AS TotalQuantity\n",
        "        FROM global_temp.orders_global\n",
        "        GROUP BY Product\n",
        "    ) AS summary\n",
        "''').show()\n"
      ],
      "metadata": {
        "id": "DRc6XfNRiS0V",
        "outputId": "2f4907d1-728b-4836-f770-95333586157a",
        "colab": {
          "base_uri": "https://localhost:8080/"
        }
      },
      "execution_count": 52,
      "outputs": [
        {
          "output_type": "stream",
          "name": "stdout",
          "text": [
            "+----------+-------------+----+\n",
            "|   Product|TotalQuantity|Rank|\n",
            "+----------+-------------+----+\n",
            "| Bookshelf|        15000|   1|\n",
            "|    Laptop|            7|   2|\n",
            "|     Chair|            7|   2|\n",
            "|    Tablet|            4|   4|\n",
            "|   T-Shirt|            3|   5|\n",
            "|Smartwatch|            3|   5|\n",
            "|      Sofa|            2|   7|\n",
            "|     Jeans|            2|   7|\n",
            "|     Novel|            2|   7|\n",
            "|Smartphone|            1|  10|\n",
            "|  Textbook|            1|  10|\n",
            "|    Blazer|            1|  10|\n",
            "+----------+-------------+----+\n",
            "\n"
          ]
        }
      ]
    },
    {
      "cell_type": "code",
      "source": [
        "#  Run a query from a NEW SparkSession using global view\n",
        "\n",
        "from pyspark.sql import SparkSession\n",
        "\n",
        "new_spark = SparkSession.builder \\\n",
        "    .appName(\"QueryGlobalView\") \\\n",
        "    .getOrCreate()\n",
        "\n",
        "# Query global view from the new session\n",
        "new_spark.sql('''\n",
        "    SELECT Category, COUNT(*) AS TotalOrders\n",
        "    FROM global_temp.orders_global\n",
        "    GROUP BY Category\n",
        "''').show()\n"
      ],
      "metadata": {
        "id": "nWxj7c_JifJ9",
        "outputId": "0efbcf2f-2205-410a-a362-466939dff4e3",
        "colab": {
          "base_uri": "https://localhost:8080/"
        }
      },
      "execution_count": 53,
      "outputs": [
        {
          "output_type": "stream",
          "name": "stdout",
          "text": [
            "+-----------+-----------+\n",
            "|   Category|TotalOrders|\n",
            "+-----------+-----------+\n",
            "|Electronics|          4|\n",
            "|   Clothing|          3|\n",
            "|  Furniture|          3|\n",
            "|      Books|          2|\n",
            "| Furnitures|          1|\n",
            "+-----------+-----------+\n",
            "\n"
          ]
        }
      ]
    },
    {
      "cell_type": "markdown",
      "source": [
        "# Bonus Challenges\n",
        "1. Save a filtered subset (only \"Books\" category) as a new global temp view.\n",
        "2. Find the most purchased product per category.\n",
        "3. Create a view that excludes all \"Clothing\" orders and call it\n",
        "\"filtered_orders\" ."
      ],
      "metadata": {
        "id": "G8WSg2kJi68u"
      }
    },
    {
      "cell_type": "code",
      "source": [
        "# Save a filtered subset (only \"Books\" category) as a new global temp view.\n",
        "spark.sql('''\n",
        "    SELECT *\n",
        "    FROM global_temp.orders_global\n",
        "    WHERE Category = 'Books'\n",
        "''').createOrReplaceGlobalTempView(\"books_orders\")\n"
      ],
      "metadata": {
        "id": "IBnBymJPijIV"
      },
      "execution_count": 54,
      "outputs": []
    },
    {
      "cell_type": "code",
      "source": [
        "#Find the most purchased product per category.\n",
        "spark.sql('''\n",
        "    SELECT *\n",
        "    FROM (\n",
        "        SELECT Category, Product, SUM(Quantity) AS TotalQuantity,\n",
        "               RANK() OVER (PARTITION BY Category ORDER BY SUM(Quantity) DESC) AS rank\n",
        "        FROM global_temp.orders_global\n",
        "        GROUP BY Category, Product\n",
        "    ) ranked\n",
        "    WHERE rank = 1\n",
        "''').show()\n"
      ],
      "metadata": {
        "id": "G_FTE6PsjB7O",
        "outputId": "ecd8b857-5e97-4506-c1da-840f5182e9e9",
        "colab": {
          "base_uri": "https://localhost:8080/"
        }
      },
      "execution_count": 55,
      "outputs": [
        {
          "output_type": "stream",
          "name": "stdout",
          "text": [
            "+-----------+---------+-------------+----+\n",
            "|   Category|  Product|TotalQuantity|rank|\n",
            "+-----------+---------+-------------+----+\n",
            "|      Books|    Novel|            2|   1|\n",
            "|   Clothing|  T-Shirt|            3|   1|\n",
            "|Electronics|   Laptop|            7|   1|\n",
            "|  Furniture|Bookshelf|        15000|   1|\n",
            "| Furnitures|    Chair|            3|   1|\n",
            "+-----------+---------+-------------+----+\n",
            "\n"
          ]
        }
      ]
    },
    {
      "cell_type": "code",
      "source": [
        "# Create a view that excludes all \"Clothing\" orders and call it \"filtered_orders\" .\n",
        "spark.sql('''\n",
        "    SELECT *\n",
        "    FROM global_temp.orders_global\n",
        "    WHERE Category != 'Clothing'\n",
        "''').createOrReplaceGlobalTempView(\"filtered_orders\")\n"
      ],
      "metadata": {
        "id": "rGr3v0mejHJ-"
      },
      "execution_count": 38,
      "outputs": []
    }
  ]
}