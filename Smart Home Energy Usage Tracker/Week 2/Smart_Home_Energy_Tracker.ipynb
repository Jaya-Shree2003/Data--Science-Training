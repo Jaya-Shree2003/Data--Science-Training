{
  "nbformat": 4,
  "nbformat_minor": 0,
  "metadata": {
    "colab": {
      "provenance": []
    },
    "kernelspec": {
      "name": "python3",
      "display_name": "Python 3"
    },
    "language_info": {
      "name": "python"
    }
  },
  "cells": [
    {
      "cell_type": "code",
      "execution_count": 1,
      "metadata": {
        "id": "DB-ZwbWCfhIG",
        "colab": {
          "base_uri": "https://localhost:8080/"
        },
        "outputId": "c25646a3-5dd5-4360-b344-b94f25884513"
      },
      "outputs": [
        {
          "output_type": "stream",
          "name": "stdout",
          "text": [
            " Monthly Total Usage (kWh):\n",
            "month\n",
            "2025-07    17.0\n",
            "Freq: M, Name: usage_kwh, dtype: float64\n",
            "\n",
            "Monthly Average Usage (kWh):\n",
            "month\n",
            "2025-07    3.4\n",
            "Freq: M, Name: usage_kwh, dtype: float64\n",
            "\n",
            " Device-wise Usage Breakdown:\n",
            "device_name  Air Conditioner  Heater  Server Rack Fan\n",
            "month                                                \n",
            "2025-07                  7.5     3.7              5.8\n"
          ]
        }
      ],
      "source": [
        "import pandas as pd\n",
        "import numpy as np\n",
        "\n",
        "# Step 1: Load CSV file (assume you've saved the combined energy logs as 'energy_logs.csv')\n",
        "df = pd.read_csv('energy_logs.csv')\n",
        "\n",
        "# Sample expected structure in CSV:\n",
        "# device_id, usage_kwh, usage_date\n",
        "\n",
        "# Step 2: Data Cleaning and Formatting\n",
        "df['usage_kwh'] = df['usage_kwh'].replace('[\\$,]', '', regex=True).astype(float)\n",
        "df['usage_date'] = pd.to_datetime(df['usage_date'])\n",
        "df['month'] = df['usage_date'].dt.to_period('M')\n",
        "\n",
        "# Optional: Join with device names\n",
        "device_mapping = {\n",
        "    1: 'Air Conditioner',\n",
        "    2: 'Heater',\n",
        "    3: 'Server Rack Fan',\n",
        "    4: 'Display Screen'\n",
        "}\n",
        "df['device_name'] = df['device_id'].map(device_mapping)\n",
        "\n",
        "# Step 3: Monthly Totals and Averages\n",
        "monthly_totals = df.groupby(['month'])['usage_kwh'].sum()\n",
        "monthly_averages = df.groupby(['month'])['usage_kwh'].mean()\n",
        "\n",
        "print(\" Monthly Total Usage (kWh):\")\n",
        "print(monthly_totals)\n",
        "\n",
        "print(\"\\nMonthly Average Usage (kWh):\")\n",
        "print(monthly_averages)\n",
        "\n",
        "# Step 4: Breakdown by Device per Month\n",
        "breakdown = df.groupby(['month', 'device_name'])['usage_kwh'].sum().unstack().fillna(0)\n",
        "\n",
        "print(\"\\n Device-wise Usage Breakdown:\")\n",
        "print(breakdown)\n",
        "\n",
        "# Save results\n",
        "monthly_totals.to_csv('monthly_totals.csv')\n",
        "breakdown.to_csv('device_usage_breakdown.csv')\n"
      ]
    },
    {
      "cell_type": "code",
      "source": [],
      "metadata": {
        "id": "rji4DgNrkgpj"
      },
      "execution_count": null,
      "outputs": []
    }
  ]
}