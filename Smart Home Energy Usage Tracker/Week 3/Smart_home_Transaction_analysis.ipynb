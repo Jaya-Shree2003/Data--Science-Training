{
  "nbformat": 4,
  "nbformat_minor": 0,
  "metadata": {
    "colab": {
      "provenance": []
    },
    "kernelspec": {
      "name": "python3",
      "display_name": "Python 3"
    },
    "language_info": {
      "name": "python"
    }
  },
  "cells": [
    {
      "cell_type": "code",
      "source": [
        "from pyspark.sql import SparkSession\n",
        "from pyspark.sql.functions import col, hour, sum as _sum, when, desc\n",
        "\n",
        "\n",
        "spark = SparkSession.builder \\\n",
        "    .appName(\"EnergyUsageAnalysis\") \\\n",
        "    .getOrCreate()\n",
        "\n",
        "# ---------------------------\n",
        "# 2. Load dataset\n",
        "# ---------------------------\n",
        "\n",
        " df = spark.read.csv(\"path/to/sensor_logs.csv\", header=True, inferSchema=True)\n",
        "\n",
        "\n",
        "\n",
        "# 3. Add peak/off-peak column\n",
        "\n",
        "df = df.withColumn(\"hour\", hour(col(\"timestamp\")))\n",
        "df = df.withColumn(\n",
        "    \"period\",\n",
        "    when((col(\"hour\") >= 8) & (col(\"hour\") < 20), \"peak\").otherwise(\"off-peak\")\n",
        ")\n",
        "\n",
        "\n",
        "# 4. Group by device & period\n",
        "\n",
        "usage_summary = df.groupBy(\"device_id\", \"period\") \\\n",
        "    .agg(_sum(\"usage_kwh\").alias(\"total_usage_kwh\"))\n",
        "\n",
        "\n",
        "# 5. Find top devices by usage\n",
        "\n",
        "total_usage = usage_summary.groupBy(\"device_id\") \\\n",
        "    .agg(_sum(\"total_usage_kwh\").alias(\"overall_usage_kwh\"))\n",
        "\n",
        "top_devices = total_usage.orderBy(desc(\"overall_usage_kwh\"))\n",
        "\n",
        "# 6. Show results\n",
        "\n",
        "print(\"=== Usage Summary (Peak vs Off-Peak) ===\")\n",
        "usage_summary.show()\n",
        "\n",
        "print(\"=== Top Devices by Total Usage ===\")\n",
        "top_devices.show()\n",
        "\n",
        "\n",
        "# 7. Save to CSV\n",
        "\n",
        "output_path = \"top_devices_usage\"\n",
        "top_devices.coalesce(1).write.csv(output_path, header=True, mode=\"overwrite\")\n",
        "\n",
        "print(f\"Results saved to folder: {output_path}\")\n",
        "\n",
        "# Stop Spark session\n",
        "spark.stop()\n"
      ],
      "metadata": {
        "colab": {
          "base_uri": "https://localhost:8080/"
        },
        "id": "h3IR2Nvj6Gqo",
        "outputId": "716bf6e7-2163-4254-f0d4-7366ea95df45"
      },
      "execution_count": 2,
      "outputs": [
        {
          "output_type": "stream",
          "name": "stdout",
          "text": [
            "=== Usage Summary (Peak vs Off-Peak) ===\n",
            "+---------+--------+---------------+\n",
            "|device_id|  period|total_usage_kwh|\n",
            "+---------+--------+---------------+\n",
            "|  DeviceC|    peak|            5.5|\n",
            "|  DeviceB|off-peak|            6.0|\n",
            "|  DeviceA|off-peak|            2.0|\n",
            "|  DeviceA|    peak|            3.5|\n",
            "|  DeviceB|    peak|            5.0|\n",
            "|  DeviceD|    peak|            8.0|\n",
            "|  DeviceE|    peak|            7.0|\n",
            "|  DeviceE|off-peak|            4.5|\n",
            "|  DeviceD|off-peak|            3.0|\n",
            "+---------+--------+---------------+\n",
            "\n",
            "=== Top Devices by Total Usage ===\n",
            "+---------+-----------------+\n",
            "|device_id|overall_usage_kwh|\n",
            "+---------+-----------------+\n",
            "|  DeviceE|             11.5|\n",
            "|  DeviceD|             11.0|\n",
            "|  DeviceB|             11.0|\n",
            "|  DeviceA|              5.5|\n",
            "|  DeviceC|              5.5|\n",
            "+---------+-----------------+\n",
            "\n",
            "Results saved to folder: top_devices_usage\n"
          ]
        }
      ]
    }
  ]
}