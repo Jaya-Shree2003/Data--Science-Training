{
  "nbformat": 4,
  "nbformat_minor": 0,
  "metadata": {
    "colab": {
      "provenance": []
    },
    "kernelspec": {
      "name": "python3",
      "display_name": "Python 3"
    },
    "language_info": {
      "name": "python"
    }
  },
  "cells": [
    {
      "cell_type": "markdown",
      "source": [
        "# Section 1: Nested Lists & Access"
      ],
      "metadata": {
        "id": "MX_uKcqZL6Ed"
      }
    },
    {
      "cell_type": "markdown",
      "source": [],
      "metadata": {
        "id": "dpFo1yCSL_bB"
      }
    },
    {
      "cell_type": "markdown",
      "source": [
        "1. Print Ravi’s second mark.\n",
        "2. Calculate average mark for each student.\n",
        "3. Print the name of students who scored above 80 in all subjects.\n",
        "4. Create a new list of [name, average] .\n"
      ],
      "metadata": {
        "id": "HG-L1VrGL_J0"
      }
    },
    {
      "cell_type": "code",
      "execution_count": 6,
      "metadata": {
        "colab": {
          "base_uri": "https://localhost:8080/"
        },
        "id": "Ws8fIq90LfiY",
        "outputId": "91435afb-e353-4796-b3aa-f39665509eaa"
      },
      "outputs": [
        {
          "output_type": "stream",
          "name": "stdout",
          "text": [
            "Ravi's second mark: 72\n",
            "Ravi's average mark: 82.33333333333333\n",
            "Sneha's average mark: 91.66666666666667\n",
            "Kabir's average mark: 65.0\n",
            "Anita's average mark: 77.66666666666667\n"
          ]
        }
      ],
      "source": [
        "students = [\n",
        "[\"Ravi\", [85, 72, 90]],\n",
        "[\"Sneha\", [95, 88, 92]],\n",
        "[\"Kabir\", [65, 70, 60]],\n",
        "[\"Anita\", [75, 80, 78]]\n",
        "]\n",
        "print(\"Ravi's second mark:\", students[0][1][1])\n",
        "#Calculate average mark for each student.\n",
        "for student in students:\n",
        "    name = student[0]\n",
        "    marks = student[1]\n",
        "    average = sum(marks) / len(marks)\n",
        "    print(f\"{name}'s average mark: {average}\")\n",
        "\n"
      ]
    },
    {
      "cell_type": "code",
      "source": [
        "#Print the name of students who scored above 80 in all subjects.\n",
        "print(\"Students who scored above 80 in all subjects:\")\n",
        "for student in students:\n",
        "    name, marks = student\n",
        "    if all(mark > 80 for mark in marks):\n",
        "        print(name)\n"
      ],
      "metadata": {
        "colab": {
          "base_uri": "https://localhost:8080/"
        },
        "id": "Q60AuQ27NtRf",
        "outputId": "097b4ee3-7252-4d4e-9196-95c8511d220a"
      },
      "execution_count": 7,
      "outputs": [
        {
          "output_type": "stream",
          "name": "stdout",
          "text": [
            "Students who scored above 80 in all subjects:\n",
            "Sneha\n"
          ]
        }
      ]
    },
    {
      "cell_type": "code",
      "source": [
        "#Create a new list of [name, average] . Section 2: Dictionary of Lists\n",
        "avg_list = []\n",
        "for student in students:\n",
        "    name = student[0]\n",
        "    marks = student[1]\n",
        "    average = sum(marks) / len(marks)\n",
        "    avg_list.append([name, average])\n",
        "\n",
        "print(\"List of [name, average]:\")\n",
        "print(avg_list)\n"
      ],
      "metadata": {
        "colab": {
          "base_uri": "https://localhost:8080/"
        },
        "id": "rTudHM-pN2SI",
        "outputId": "82a257b4-dca9-4e4b-e67f-81e9a35242b6"
      },
      "execution_count": 8,
      "outputs": [
        {
          "output_type": "stream",
          "name": "stdout",
          "text": [
            "List of [name, average]:\n",
            "[['Ravi', 82.33333333333333], ['Sneha', 91.66666666666667], ['Kabir', 65.0], ['Anita', 77.66666666666667]]\n"
          ]
        }
      ]
    },
    {
      "cell_type": "markdown",
      "source": [
        "#Section 2: Dictionary of Lists"
      ],
      "metadata": {
        "id": "-_IYmnqsOhOR"
      }
    },
    {
      "cell_type": "code",
      "source": [
        "# Given data\n",
        "data = {\n",
        "    \"products\": [\"Mobile\", \"Laptop\", \"Tablet\", \"Camera\"],\n",
        "    \"prices\": [12000, 55000, 18000, 25000],\n",
        "    \"ratings\": [4.5, 4.7, 4.0, 4.2]\n",
        "}\n",
        "\n",
        "# Task 1: Create a list of dictionaries for each product\n",
        "product_list = []\n",
        "for i in range(len(data[\"products\"])):\n",
        "    product = {\n",
        "        \"name\": data[\"products\"][i],\n",
        "        \"price\": data[\"prices\"][i],\n",
        "        \"rating\": data[\"ratings\"][i]\n",
        "    }\n",
        "    product_list.append(product)\n",
        "\n",
        "print(\"List of Product Dictionaries:\")\n",
        "for p in product_list:\n",
        "    print(p)\n"
      ],
      "metadata": {
        "colab": {
          "base_uri": "https://localhost:8080/"
        },
        "id": "uqmGryg-Oihr",
        "outputId": "359c782c-d368-440a-ae17-0f2a9556511d"
      },
      "execution_count": 12,
      "outputs": [
        {
          "output_type": "stream",
          "name": "stdout",
          "text": [
            "List of Product Dictionaries:\n",
            "{'name': 'Mobile', 'price': 12000, 'rating': 4.5}\n",
            "{'name': 'Laptop', 'price': 55000, 'rating': 4.7}\n",
            "{'name': 'Tablet', 'price': 18000, 'rating': 4.0}\n",
            "{'name': 'Camera', 'price': 25000, 'rating': 4.2}\n"
          ]
        }
      ]
    },
    {
      "cell_type": "code",
      "source": [
        "# Task 2: Filter and print products with price > 20,000 and rating >= 4.5\n",
        "print(\"\\nFiltered Products (price > 20000 and rating >= 4.5):\")\n",
        "filtered_products = [\n",
        "    p for p in product_list if p[\"price\"] > 20000 and p[\"rating\"] >= 4.5\n",
        "]\n",
        "for p in filtered_products:\n",
        "    print(p)"
      ],
      "metadata": {
        "colab": {
          "base_uri": "https://localhost:8080/"
        },
        "id": "kTFSQFyQQbhP",
        "outputId": "2f3c2442-07f6-4b66-8f40-97f93666bb29"
      },
      "execution_count": 10,
      "outputs": [
        {
          "output_type": "stream",
          "name": "stdout",
          "text": [
            "\n",
            "Filtered Products (price > 20000 and rating >= 4.5):\n",
            "{'name': 'Laptop', 'price': 55000, 'rating': 4.7}\n"
          ]
        }
      ]
    },
    {
      "cell_type": "code",
      "source": [
        "# Task 3: Sort the product list by rating (descending)\n",
        "sorted_by_rating = sorted(product_list, key=lambda x: x[\"rating\"], reverse=True)\n",
        "\n",
        "print(\"\\nProducts Sorted by Rating (Descending):\")\n",
        "for p in sorted_by_rating:\n",
        "    print(p)"
      ],
      "metadata": {
        "colab": {
          "base_uri": "https://localhost:8080/"
        },
        "id": "wIjLQMQEQdw3",
        "outputId": "65aaa373-6037-4ace-e372-1ba68b0f0efa"
      },
      "execution_count": 11,
      "outputs": [
        {
          "output_type": "stream",
          "name": "stdout",
          "text": [
            "\n",
            "Products Sorted by Rating (Descending):\n",
            "{'name': 'Laptop', 'price': 55000, 'rating': 4.7}\n",
            "{'name': 'Mobile', 'price': 12000, 'rating': 4.5}\n",
            "{'name': 'Camera', 'price': 25000, 'rating': 4.2}\n",
            "{'name': 'Tablet', 'price': 18000, 'rating': 4.0}\n"
          ]
        }
      ]
    },
    {
      "cell_type": "markdown",
      "source": [
        "#Section 3: Frequency Dictionary + Set Operations"
      ],
      "metadata": {
        "id": "vPLMpn4rQj14"
      }
    },
    {
      "cell_type": "markdown",
      "source": [
        "Given a sentence:\n",
        "text = \"ai is the future and ai will change everything in the ai world\"\n",
        "Tasks:\n",
        "1. Count frequency of each word using a dictionary\n",
        "\n",
        "2. Print only the words that appear more than once\n",
        "3. Convert words into a set and print sorted unique words\n",
        "4. Find common words between:\n",
        "set1 = set(text.split())\n",
        "set2 = {\"ai\", \"ml\", \"data\", \"future\"}"
      ],
      "metadata": {
        "id": "vxpHfdt4QqUH"
      }
    },
    {
      "cell_type": "code",
      "source": [
        "# Given sentence\n",
        "text = \"ai is the future and ai will change everything in the ai world\"\n",
        "\n",
        "# Task 1: Count frequency of each word using a dictionary\n",
        "word_list = text.split()\n",
        "freq_dict = {}\n",
        "\n",
        "for word in word_list:\n",
        "    freq_dict[word] = freq_dict.get(word, 0) + 1\n",
        "\n",
        "print(\"Word Frequency Dictionary:\")\n",
        "print(freq_dict)\n",
        "\n",
        "# Task 2: Print only the words that appear more than once\n",
        "print(\"\\nWords that appear more than once:\")\n",
        "for word, count in freq_dict.items():\n",
        "    if count > 1:\n",
        "        print(word)\n",
        "\n",
        "# Task 3: Convert words into a set and print sorted unique words\n",
        "unique_words = set(word_list)\n",
        "sorted_unique = sorted(unique_words)\n",
        "\n",
        "print(\"\\nSorted Unique Words:\")\n",
        "print(sorted_unique)\n",
        "\n",
        "# Task 4: Find common words between set1 and set2\n",
        "set1 = set(word_list)\n",
        "set2 = {\"ai\", \"ml\", \"data\", \"future\"}\n",
        "common_words = set1 & set2  # or: set1.intersection(set2)\n",
        "\n",
        "print(\"\\nCommon Words between set1 and set2:\")\n",
        "print(common_words)\n"
      ],
      "metadata": {
        "colab": {
          "base_uri": "https://localhost:8080/"
        },
        "id": "2jn4HwTOQljA",
        "outputId": "35903da6-b560-4c27-a85a-ceace3805123"
      },
      "execution_count": 13,
      "outputs": [
        {
          "output_type": "stream",
          "name": "stdout",
          "text": [
            "Word Frequency Dictionary:\n",
            "{'ai': 3, 'is': 1, 'the': 2, 'future': 1, 'and': 1, 'will': 1, 'change': 1, 'everything': 1, 'in': 1, 'world': 1}\n",
            "\n",
            "Words that appear more than once:\n",
            "ai\n",
            "the\n",
            "\n",
            "Sorted Unique Words:\n",
            "['ai', 'and', 'change', 'everything', 'future', 'in', 'is', 'the', 'will', 'world']\n",
            "\n",
            "Common Words between set1 and set2:\n",
            "{'future', 'ai'}\n"
          ]
        }
      ]
    },
    {
      "cell_type": "markdown",
      "source": [
        "# Section 4: Dictionary Comprehension + Conditional Logic\n"
      ],
      "metadata": {
        "id": "3OJPxhrURMUp"
      }
    },
    {
      "cell_type": "markdown",
      "source": [
        "Tasks:\n",
        "1. Create a new dictionary with 10% bonus added to each sale\n",
        "2. Filter and return only those with sales >\n",
        "50,000\n",
        "\n",
        "3. Label each person as 'High' , 'Medium' , or 'Low' based on:\n",
        "75,000: High\n",
        "40,000: Medium\n",
        "Else: Low"
      ],
      "metadata": {
        "id": "-xB3q3WtRJN_"
      }
    },
    {
      "cell_type": "code",
      "source": [
        "# Given dictionary\n",
        "sales = {\n",
        "    'Amit': 70000,\n",
        "    'Sneha': 45000,\n",
        "    'Ravi': 30000,\n",
        "    'Anita': 90000,\n",
        "    'Kabir': 20000\n",
        "}\n",
        "\n",
        "# Task 1: Create a new dictionary with 10% bonus added to each sale\n",
        "bonus_sales = {name: sale + (0.10 * sale) for name, sale in sales.items()}\n",
        "\n",
        "print(\"Sales with 10% Bonus:\")\n",
        "print(bonus_sales)"
      ],
      "metadata": {
        "colab": {
          "base_uri": "https://localhost:8080/"
        },
        "id": "nn5rCOZ7Q_NR",
        "outputId": "072920fb-d8c2-4b81-c6ae-2f639d199c11"
      },
      "execution_count": 14,
      "outputs": [
        {
          "output_type": "stream",
          "name": "stdout",
          "text": [
            "Sales with 10% Bonus:\n",
            "{'Amit': 77000.0, 'Sneha': 49500.0, 'Ravi': 33000.0, 'Anita': 99000.0, 'Kabir': 22000.0}\n"
          ]
        }
      ]
    },
    {
      "cell_type": "code",
      "source": [
        "\n",
        "# Task 2: Filter and return only those with sales > 50,000\n",
        "high_sales = {name: sale for name, sale in sales.items() if sale > 50000}\n",
        "\n",
        "print(\"\\nSales > 50,000:\")\n",
        "print(high_sales)"
      ],
      "metadata": {
        "colab": {
          "base_uri": "https://localhost:8080/"
        },
        "id": "HREl3EIhRB7J",
        "outputId": "6c8e095a-b17c-4b55-ef5b-f9db70779872"
      },
      "execution_count": 15,
      "outputs": [
        {
          "output_type": "stream",
          "name": "stdout",
          "text": [
            "\n",
            "Sales > 50,000:\n",
            "{'Amit': 70000, 'Anita': 90000}\n"
          ]
        }
      ]
    },
    {
      "cell_type": "code",
      "source": [
        "# Task 3: Label each person as 'High', 'Medium', or 'Low' based on sale amount\n",
        "labels = {\n",
        "    name: (\n",
        "        'High' if sale >= 75000\n",
        "        else 'Medium' if sale >= 40000\n",
        "        else 'Low'\n",
        "    )\n",
        "    for name, sale in sales.items()\n",
        "}\n",
        "\n",
        "print(\"\\nSales Labels:\")\n",
        "print(labels)\n"
      ],
      "metadata": {
        "id": "JuOkqQmARDqB"
      },
      "execution_count": null,
      "outputs": []
    },
    {
      "cell_type": "markdown",
      "source": [
        "# Section 5: Tuples, Sets, and Zipping\n",
        "\n",
        "Tasks:\n",
        "1. Convert both tuples to a dictionary using zip()\n",
        "2. Find min and max marks\n",
        "3. Create a set from marks and add a new value\n",
        "4. Merge two sets and show only unique elements\n",
        "\n",
        "\n"
      ],
      "metadata": {
        "id": "eDl_aDvYRbB5"
      }
    },
    {
      "cell_type": "code",
      "source": [
        "# Given data\n",
        "names = (\"Ravi\", \"Sneha\", \"Kabir\")\n",
        "marks = (88, 92, 76)\n",
        "\n",
        "# Task 1: Convert both tuples to a dictionary using zip()\n",
        "marks_dict = dict(zip(names, marks))\n",
        "print(\"Dictionary from Tuples:\")\n",
        "print(marks_dict)\n"
      ],
      "metadata": {
        "colab": {
          "base_uri": "https://localhost:8080/"
        },
        "id": "E6Ter7qWRfHz",
        "outputId": "42861ae4-19e9-439d-b2c7-35c89b5eb864"
      },
      "execution_count": 16,
      "outputs": [
        {
          "output_type": "stream",
          "name": "stdout",
          "text": [
            "Dictionary from Tuples:\n",
            "{'Ravi': 88, 'Sneha': 92, 'Kabir': 76}\n"
          ]
        }
      ]
    },
    {
      "cell_type": "code",
      "source": [
        "# Task 2: Find min and max marks\n",
        "min_mark = min(marks)\n",
        "max_mark = max(marks)\n",
        "print(\"\\nMinimum Mark:\", min_mark)\n",
        "print(\"Maximum Mark:\", max_mark)"
      ],
      "metadata": {
        "colab": {
          "base_uri": "https://localhost:8080/"
        },
        "id": "2K8ZfA35RiXy",
        "outputId": "35e3dafa-7949-44c2-e5c9-06e1070fc016"
      },
      "execution_count": 17,
      "outputs": [
        {
          "output_type": "stream",
          "name": "stdout",
          "text": [
            "\n",
            "Minimum Mark: 76\n",
            "Maximum Mark: 92\n"
          ]
        }
      ]
    },
    {
      "cell_type": "code",
      "source": [
        "# Task 3: Create a set from marks and add a new value\n",
        "marks_set = set(marks)\n",
        "marks_set.add(85)  # Adding a new value\n",
        "print(\"\\nSet after adding a new value:\")\n",
        "print(marks_set)"
      ],
      "metadata": {
        "colab": {
          "base_uri": "https://localhost:8080/"
        },
        "id": "xx5GtSRJRj0T",
        "outputId": "ff257f00-d05b-413d-ce3f-a414e5447732"
      },
      "execution_count": 18,
      "outputs": [
        {
          "output_type": "stream",
          "name": "stdout",
          "text": [
            "\n",
            "Set after adding a new value:\n",
            "{88, 92, 85, 76}\n"
          ]
        }
      ]
    },
    {
      "cell_type": "code",
      "source": [
        "# Task 4: Merge two sets and show only unique elements\n",
        "set1 = {88, 90, 92}\n",
        "set2 = {92, 94, 96}\n",
        "merged_unique = set1.union(set2)  # or set1 | set2\n",
        "print(\"\\nMerged Set with Unique Elements:\")\n",
        "print(merged_unique)"
      ],
      "metadata": {
        "colab": {
          "base_uri": "https://localhost:8080/"
        },
        "id": "8-cZ9ku8RlVC",
        "outputId": "36be8488-c9e0-4df3-b150-ba95610f94ca"
      },
      "execution_count": 19,
      "outputs": [
        {
          "output_type": "stream",
          "name": "stdout",
          "text": [
            "\n",
            "Merged Set with Unique Elements:\n",
            "{96, 88, 90, 92, 94}\n"
          ]
        }
      ]
    },
    {
      "cell_type": "markdown",
      "source": [
        "#Bonus Challenge\n",
        "Tasks:\n",
        "1. Add a new employee \"E104\"\n",
        "2. Increase salary by 10% for Engineering department only\n",
        "3. Find the department with the highest average salary\n",
        "\n",
        "\n"
      ],
      "metadata": {
        "id": "7wUtzu_gRxPi"
      }
    },
    {
      "cell_type": "code",
      "source": [
        "# Given nested dictionary\n",
        "employees = {\n",
        "    \"E101\": {\"name\": \"Ravi\", \"dept\": \"Sales\", \"salary\": 50000},\n",
        "    \"E102\": {\"name\": \"Sneha\", \"dept\": \"Engineering\", \"salary\": 80000},\n",
        "    \"E103\": {\"name\": \"Kabir\", \"dept\": \"HR\", \"salary\": 45000}\n",
        "}\n",
        "\n",
        "# Task 1: Add a new employee \"E104\"\n",
        "employees[\"E104\"] = {\"name\": \"Anita\", \"dept\": \"Engineering\", \"salary\": 90000}\n",
        "\n",
        "print(\"After Adding New Employee E104:\")\n",
        "for eid, info in employees.items():\n",
        "    print(eid, info)\n"
      ],
      "metadata": {
        "colab": {
          "base_uri": "https://localhost:8080/"
        },
        "id": "hKfXnEBoRxEh",
        "outputId": "e2a73e78-cd19-43e2-d1a7-5961a4623925"
      },
      "execution_count": 20,
      "outputs": [
        {
          "output_type": "stream",
          "name": "stdout",
          "text": [
            "After Adding New Employee E104:\n",
            "E101 {'name': 'Ravi', 'dept': 'Sales', 'salary': 50000}\n",
            "E102 {'name': 'Sneha', 'dept': 'Engineering', 'salary': 80000}\n",
            "E103 {'name': 'Kabir', 'dept': 'HR', 'salary': 45000}\n",
            "E104 {'name': 'Anita', 'dept': 'Engineering', 'salary': 90000}\n"
          ]
        }
      ]
    },
    {
      "cell_type": "code",
      "source": [
        "# Task 2: Increase salary by 10% for Engineering department only\n",
        "for emp in employees.values():\n",
        "    if emp[\"dept\"] == \"Engineering\":\n",
        "        emp[\"salary\"] = int(emp[\"salary\"] * 1.10)\n",
        "\n",
        "print(\"\\nAfter 10% Salary Increase for Engineering Dept:\")\n",
        "for eid, info in employees.items():\n",
        "    print(eid, info)"
      ],
      "metadata": {
        "colab": {
          "base_uri": "https://localhost:8080/"
        },
        "id": "b70aS33vR38T",
        "outputId": "9cd8b013-5d37-470f-d67e-d7c6f2f19658"
      },
      "execution_count": 21,
      "outputs": [
        {
          "output_type": "stream",
          "name": "stdout",
          "text": [
            "\n",
            "After 10% Salary Increase for Engineering Dept:\n",
            "E101 {'name': 'Ravi', 'dept': 'Sales', 'salary': 50000}\n",
            "E102 {'name': 'Sneha', 'dept': 'Engineering', 'salary': 88000}\n",
            "E103 {'name': 'Kabir', 'dept': 'HR', 'salary': 45000}\n",
            "E104 {'name': 'Anita', 'dept': 'Engineering', 'salary': 99000}\n"
          ]
        }
      ]
    },
    {
      "cell_type": "code",
      "source": [
        "\n",
        "# Task 3: Find the department with the highest average salary\n",
        "from collections import defaultdict\n",
        "\n",
        "dept_salaries = defaultdict(list)\n",
        "\n",
        "# Group salaries by department\n",
        "for emp in employees.values():\n",
        "    dept_salaries[emp[\"dept\"]].append(emp[\"salary\"])\n",
        "\n",
        "# Compute average salaries\n",
        "avg_salaries = {dept: sum(salaries) / len(salaries) for dept, salaries in dept_salaries.items()}\n",
        "\n",
        "# Find department with highest average salary\n",
        "highest_avg_dept = max(avg_salaries, key=avg_salaries.get)\n",
        "\n",
        "print(\"\\nDepartment with Highest Average Salary:\")\n",
        "print(highest_avg_dept, \"→\", avg_salaries[highest_avg_dept])"
      ],
      "metadata": {
        "colab": {
          "base_uri": "https://localhost:8080/"
        },
        "id": "KLRRS7kRR9DK",
        "outputId": "326395f7-5154-49a8-e0eb-b37e5a28d710"
      },
      "execution_count": 22,
      "outputs": [
        {
          "output_type": "stream",
          "name": "stdout",
          "text": [
            "\n",
            "Department with Highest Average Salary:\n",
            "Engineering → 93500.0\n"
          ]
        }
      ]
    }
  ]
}