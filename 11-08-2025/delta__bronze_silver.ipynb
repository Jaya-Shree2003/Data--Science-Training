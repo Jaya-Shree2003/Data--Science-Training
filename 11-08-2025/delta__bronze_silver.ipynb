{
  "nbformat": 4,
  "nbformat_minor": 0,
  "metadata": {
    "colab": {
      "provenance": []
    },
    "kernelspec": {
      "name": "python3",
      "display_name": "Python 3"
    },
    "language_info": {
      "name": "python"
    }
  },
  "cells": [
    {
      "cell_type": "code",
      "execution_count": 1,
      "metadata": {
        "id": "Uirizoqa7ul8"
      },
      "outputs": [],
      "source": [
        "from pyspark.sql import SparkSession\n",
        "\n",
        "# Initialize SparkSession\n",
        "spark = SparkSession.builder.appName(\"InlineDataSeeding\").getOrCreate()"
      ]
    },
    {
      "cell_type": "code",
      "source": [
        "LANDING_ORDERS = \"/tmp/landing/orders.json\"\n",
        "LANDING_CUSTOMERS = \"/tmp/landing/customers.json\""
      ],
      "metadata": {
        "id": "YD3Rw3CI7w-1"
      },
      "execution_count": 2,
      "outputs": []
    },
    {
      "cell_type": "code",
      "source": [
        "print(\"STEP 1: Seeding inline data to landing (JSON) ...\")\n",
        "\n",
        "orders_rows = [\n",
        "    (1, \"C001\", \"2025-08-08 09:00:00\", 12000, \"placed\"),\n",
        "    (2, \"C002\", \"2025-08-08 09:05:00\",  4500, \"placed\"),\n",
        "    (3, \"C001\", \"2025-08-08 09:10:00\", 22000, \"cancelled\"),\n",
        "    (4, \"C003\", \"2025-08-08 09:15:00\",   800, \"placed\")\n",
        "]\n",
        "customers_rows = [\n",
        "    (\"C001\", \"Ananya\", \"Bengaluru\"),\n",
        "    (\"C002\", \"Rahul\",  \"Hyderabad\"),\n",
        "    (\"C003\", \"Meera\",  \"Pune\")\n",
        "]\n",
        "\n",
        "from pyspark.sql import functions as F\n",
        "from pyspark.sql import types as T\n",
        "\n",
        "orders_schema = T.StructType([\n",
        "    T.StructField(\"order_id\",    T.IntegerType()),\n",
        "    T.StructField(\"customer_id\", T.StringType()),\n",
        "    T.StructField(\"order_ts\",    T.StringType()),\n",
        "    T.StructField(\"amount\",      T.IntegerType()),\n",
        "    T.StructField(\"status\",      T.StringType())\n",
        "])\n",
        "cust_schema = T.StructType([\n",
        "    T.StructField(\"customer_id\", T.StringType()),\n",
        "    T.StructField(\"name\",        T.StringType()),\n",
        "    T.StructField(\"city\",        T.StringType())\n",
        "])\n",
        "\n",
        "orders_df = (spark.createDataFrame(orders_rows, orders_schema)\n",
        "             .withColumn(\"order_ts\", F.to_timestamp(\"order_ts\")))\n",
        "customers_df = spark.createDataFrame(customers_rows, cust_schema)\n",
        "\n",
        "orders_df.write.mode(\"overwrite\").json(LANDING_ORDERS)\n",
        "customers_df.write.mode(\"overwrite\").json(LANDING_CUSTOMERS)\n",
        "\n",
        "print(\"✅ Seeded landing JSON:\")\n",
        "print(f\"  {LANDING_ORDERS}\")\n",
        "print(f\"  {LANDING_CUSTOMERS}\")"
      ],
      "metadata": {
        "colab": {
          "base_uri": "https://localhost:8080/"
        },
        "id": "P5zME1va748l",
        "outputId": "802f84f8-78eb-46eb-a8fd-30531006ddfc"
      },
      "execution_count": 3,
      "outputs": [
        {
          "output_type": "stream",
          "name": "stdout",
          "text": [
            "STEP 1: Seeding inline data to landing (JSON) ...\n",
            "✅ Seeded landing JSON:\n",
            "  /tmp/landing/orders.json\n",
            "  /tmp/landing/customers.json\n"
          ]
        }
      ]
    },
    {
      "cell_type": "code",
      "source": [
        "print(\"STEP 2: BRONZE Reading raw landing data (no transformations)\")\n",
        "\n",
        "bron_orders = spark.read.json (LANDING_ORDERS)\n",
        "\n",
        "bron_customers = spark.read.json (LANDING_CUSTOMERS)\n",
        "\n",
        "print(\"Bronze Orders - schema & sample:\")\n",
        "\n",
        "bron_orders.printSchema()\n",
        "\n",
        "bron_orders.show(truncate=False)\n",
        "\n",
        "print(\"Bronze Customers schema & sample:\")\n",
        "\n",
        "bron_customers.printSchema()\n",
        "\n",
        "bron_customers.show(truncate=False)"
      ],
      "metadata": {
        "colab": {
          "base_uri": "https://localhost:8080/"
        },
        "id": "0K4u41aw789E",
        "outputId": "a5d388a9-cee9-4e72-ca89-9f3afe5446df"
      },
      "execution_count": 4,
      "outputs": [
        {
          "output_type": "stream",
          "name": "stdout",
          "text": [
            "STEP 2: BRONZE Reading raw landing data (no transformations)\n",
            "Bronze Orders - schema & sample:\n",
            "root\n",
            " |-- amount: long (nullable = true)\n",
            " |-- customer_id: string (nullable = true)\n",
            " |-- order_id: long (nullable = true)\n",
            " |-- order_ts: string (nullable = true)\n",
            " |-- status: string (nullable = true)\n",
            "\n",
            "+------+-----------+--------+------------------------+---------+\n",
            "|amount|customer_id|order_id|order_ts                |status   |\n",
            "+------+-----------+--------+------------------------+---------+\n",
            "|22000 |C001       |3       |2025-08-08T09:10:00.000Z|cancelled|\n",
            "|800   |C003       |4       |2025-08-08T09:15:00.000Z|placed   |\n",
            "|12000 |C001       |1       |2025-08-08T09:00:00.000Z|placed   |\n",
            "|4500  |C002       |2       |2025-08-08T09:05:00.000Z|placed   |\n",
            "+------+-----------+--------+------------------------+---------+\n",
            "\n",
            "Bronze Customers schema & sample:\n",
            "root\n",
            " |-- city: string (nullable = true)\n",
            " |-- customer_id: string (nullable = true)\n",
            " |-- name: string (nullable = true)\n",
            "\n",
            "+---------+-----------+------+\n",
            "|city     |customer_id|name  |\n",
            "+---------+-----------+------+\n",
            "|Hyderabad|C002       |Rahul |\n",
            "|Pune     |C003       |Meera |\n",
            "|Bengaluru|C001       |Ananya|\n",
            "+---------+-----------+------+\n",
            "\n"
          ]
        }
      ]
    },
    {
      "cell_type": "code",
      "source": [
        "# STEP 0 — Setup\n",
        "# These variables store the paths for each stage of the pipeline\n",
        "\n",
        "# Landing folders: raw files exactly as they arrive\n",
        "LANDING_ORDERS    = \"file:/tmp/dlt/landing/orders\"\n",
        "LANDING_CUSTOMERS = \"file:/tmp/dlt/landing/customers\"\n",
        "\n",
        "# Silver folder: cleaned data in Delta format\n",
        "DELTA_SILVER_PATH = \"file:/tmp/delta/sil_orders\"\n",
        "\n",
        "# SQL table name pointing to the silver Delta folder\n",
        "DELTA_TABLE_NAME  = \"sil_orders_tbl\"\n",
        "\n",
        "print(\"We will store data in:\")\n",
        "print(f\"Landing Orders folder:    {LANDING_ORDERS}\")\n",
        "print(f\"Landing Customers folder: {LANDING_CUSTOMERS}\")\n",
        "print(f\"Silver Delta folder:      {DELTA_SILVER_PATH}\")\n",
        "print(f\"SQL Table name:           {DELTA_TABLE_NAME}\")"
      ],
      "metadata": {
        "colab": {
          "base_uri": "https://localhost:8080/"
        },
        "id": "F2Omz5Vu8AKU",
        "outputId": "8f675bdc-5aa4-4373-a507-736cdd4b9434"
      },
      "execution_count": 5,
      "outputs": [
        {
          "output_type": "stream",
          "name": "stdout",
          "text": [
            "We will store data in:\n",
            "Landing Orders folder:    file:/tmp/dlt/landing/orders\n",
            "Landing Customers folder: file:/tmp/dlt/landing/customers\n",
            "Silver Delta folder:      file:/tmp/delta/sil_orders\n",
            "SQL Table name:           sil_orders_tbl\n"
          ]
        }
      ]
    },
    {
      "cell_type": "code",
      "source": [],
      "metadata": {
        "id": "Phc-gowv8XjU"
      },
      "execution_count": null,
      "outputs": []
    }
  ]
}