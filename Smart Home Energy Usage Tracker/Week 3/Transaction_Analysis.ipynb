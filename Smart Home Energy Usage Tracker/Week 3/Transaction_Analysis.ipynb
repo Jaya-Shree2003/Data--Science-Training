{
  "nbformat": 4,
  "nbformat_minor": 0,
  "metadata": {
    "colab": {
      "provenance": []
    },
    "kernelspec": {
      "name": "python3",
      "display_name": "Python 3"
    },
    "language_info": {
      "name": "python"
    }
  },
  "cells": [
    {
      "cell_type": "markdown",
      "source": [
        "# Week 3 - Spark for Device-Level Aggregation + Insights"
      ],
      "metadata": {
        "id": "qq_T7qePDRGU"
      }
    },
    {
      "cell_type": "code",
      "source": [
        "from pyspark.sql import SparkSession\n",
        "from pyspark.sql.functions import col, when, sum as _sum, avg, max as _max, hour, to_date, desc\n"
      ],
      "metadata": {
        "id": "G6J_Ci2vzIeW"
      },
      "execution_count": 3,
      "outputs": []
    },
    {
      "cell_type": "markdown",
      "source": [
        "# Start Spark session"
      ],
      "metadata": {
        "id": "GX_smpTvzcmD"
      }
    },
    {
      "cell_type": "code",
      "source": [
        "spark = SparkSession.builder.appName(\"EnergyAggregation\").getOrCreate()"
      ],
      "metadata": {
        "id": "oEXWqib4zcBl"
      },
      "execution_count": 4,
      "outputs": []
    },
    {
      "cell_type": "markdown",
      "source": [
        "# Load Week 2 cleaned logs"
      ],
      "metadata": {
        "id": "dQXfsMXrznhW"
      }
    },
    {
      "cell_type": "code",
      "source": [
        "df = spark.read.csv(\"/content/cleaned_energy_logs.csv\", header=True, inferSchema=True)\n",
        "df.show()"
      ],
      "metadata": {
        "colab": {
          "base_uri": "https://localhost:8080/"
        },
        "id": "u1U1cyEAzfxF",
        "outputId": "6ee3980b-9ab0-4e20-fd24-419eabe723ad"
      },
      "execution_count": 10,
      "outputs": [
        {
          "output_type": "stream",
          "name": "stdout",
          "text": [
            "+------+---------+-------+-------------------+----------+\n",
            "|log_id|device_id|room_id|          timestamp|energy_kwh|\n",
            "+------+---------+-------+-------------------+----------+\n",
            "|     1|        1|      1|2025-08-01 08:00:00|      0.05|\n",
            "|     2|        2|      1|2025-08-01 09:00:00|       0.3|\n",
            "|     3|        3|      2|2025-08-01 10:00:00|       1.2|\n",
            "|     4|        4|      2|2025-08-01 11:00:00|      0.15|\n",
            "|     5|        5|      3|2025-08-01 12:00:00|       0.5|\n",
            "|     6|        6|      3|2025-08-01 13:00:00|       1.5|\n",
            "|     7|        7|      1|2025-08-01 14:00:00|       0.4|\n",
            "|     8|        8|      4|2025-08-01 15:00:00|       0.8|\n",
            "|     9|        9|      4|2025-08-01 16:00:00|       2.0|\n",
            "|    10|       10|      1|2025-08-01 17:00:00|       0.1|\n",
            "|    11|       11|      5|2025-08-01 18:00:00|       0.9|\n",
            "|    12|       12|      1|2025-08-01 19:00:00|       0.2|\n",
            "|    13|       13|      5|2025-08-01 20:00:00|      0.05|\n",
            "|    14|       14|      6|2025-08-01 21:00:00|      0.02|\n",
            "|    15|       15|      6|2025-08-01 22:00:00|      0.15|\n",
            "|    16|       16|      2|2025-08-01 23:00:00|       1.0|\n",
            "|    17|       17|      2|2025-08-02 08:00:00|       0.3|\n",
            "|    18|       18|      1|2025-08-02 09:00:00|       0.7|\n",
            "|    19|       19|      1|2025-08-02 10:00:00|      0.25|\n",
            "|    20|       20|      1|2025-08-02 11:00:00|      0.05|\n",
            "+------+---------+-------+-------------------+----------+\n",
            "\n"
          ]
        }
      ]
    },
    {
      "cell_type": "markdown",
      "source": [
        "\n",
        "# Convert timestamp to hour"
      ],
      "metadata": {
        "id": "i7Hdd5Ogzwgm"
      }
    },
    {
      "cell_type": "code",
      "source": [
        "df = df.withColumn(\"hour\", hour(col(\"timestamp\")))\n",
        "df.show()\n"
      ],
      "metadata": {
        "colab": {
          "base_uri": "https://localhost:8080/"
        },
        "id": "pQrsSc1QzpAm",
        "outputId": "b4244121-2a66-4ade-c0a7-c1db0fca2cce"
      },
      "execution_count": 9,
      "outputs": [
        {
          "output_type": "stream",
          "name": "stdout",
          "text": [
            "+------+---------+-------+-------------------+----------+----+----------+-------------+\n",
            "|log_id|device_id|room_id|          timestamp|energy_kwh|hour|peak_usage|offpeak_usage|\n",
            "+------+---------+-------+-------------------+----------+----+----------+-------------+\n",
            "|     1|        1|      1|2025-08-01 08:00:00|      0.05|   8|      0.05|          0.0|\n",
            "|     2|        2|      1|2025-08-01 09:00:00|       0.3|   9|       0.3|          0.0|\n",
            "|     3|        3|      2|2025-08-01 10:00:00|       1.2|  10|       1.2|          0.0|\n",
            "|     4|        4|      2|2025-08-01 11:00:00|      0.15|  11|      0.15|          0.0|\n",
            "|     5|        5|      3|2025-08-01 12:00:00|       0.5|  12|       0.5|          0.0|\n",
            "|     6|        6|      3|2025-08-01 13:00:00|       1.5|  13|       1.5|          0.0|\n",
            "|     7|        7|      1|2025-08-01 14:00:00|       0.4|  14|       0.4|          0.0|\n",
            "|     8|        8|      4|2025-08-01 15:00:00|       0.8|  15|       0.8|          0.0|\n",
            "|     9|        9|      4|2025-08-01 16:00:00|       2.0|  16|       2.0|          0.0|\n",
            "|    10|       10|      1|2025-08-01 17:00:00|       0.1|  17|       0.1|          0.0|\n",
            "|    11|       11|      5|2025-08-01 18:00:00|       0.9|  18|       0.9|          0.0|\n",
            "|    12|       12|      1|2025-08-01 19:00:00|       0.2|  19|       0.2|          0.0|\n",
            "|    13|       13|      5|2025-08-01 20:00:00|      0.05|  20|      0.05|          0.0|\n",
            "|    14|       14|      6|2025-08-01 21:00:00|      0.02|  21|      0.02|          0.0|\n",
            "|    15|       15|      6|2025-08-01 22:00:00|      0.15|  22|      0.15|          0.0|\n",
            "|    16|       16|      2|2025-08-01 23:00:00|       1.0|  23|       0.0|          1.0|\n",
            "|    17|       17|      2|2025-08-02 08:00:00|       0.3|   8|       0.3|          0.0|\n",
            "|    18|       18|      1|2025-08-02 09:00:00|       0.7|   9|       0.7|          0.0|\n",
            "|    19|       19|      1|2025-08-02 10:00:00|      0.25|  10|      0.25|          0.0|\n",
            "|    20|       20|      1|2025-08-02 11:00:00|      0.05|  11|      0.05|          0.0|\n",
            "+------+---------+-------+-------------------+----------+----+----------+-------------+\n",
            "\n"
          ]
        }
      ]
    },
    {
      "cell_type": "markdown",
      "source": [
        "# Define peak/off-peak classification"
      ],
      "metadata": {
        "id": "_kMXDPAYCcy3"
      }
    },
    {
      "cell_type": "code",
      "source": [
        "df = df.withColumn(\n",
        "    \"peak_usage\",\n",
        "    when((col(\"hour\") >= 6) & (col(\"hour\") <= 22), col(\"energy_kwh\")).otherwise(0)\n",
        ").withColumn(\n",
        "    \"offpeak_usage\",\n",
        "    when((col(\"hour\") < 6) | (col(\"hour\") > 22), col(\"energy_kwh\")).otherwise(0)\n",
        ")\n",
        "df.show()"
      ],
      "metadata": {
        "colab": {
          "base_uri": "https://localhost:8080/"
        },
        "id": "1bBpzezEzxUu",
        "outputId": "4b1f9b13-a31e-45c2-d5ba-c4bcfa627e83"
      },
      "execution_count": 8,
      "outputs": [
        {
          "output_type": "stream",
          "name": "stdout",
          "text": [
            "+------+---------+-------+-------------------+----------+----+----------+-------------+\n",
            "|log_id|device_id|room_id|          timestamp|energy_kwh|hour|peak_usage|offpeak_usage|\n",
            "+------+---------+-------+-------------------+----------+----+----------+-------------+\n",
            "|     1|        1|      1|2025-08-01 08:00:00|      0.05|   8|      0.05|          0.0|\n",
            "|     2|        2|      1|2025-08-01 09:00:00|       0.3|   9|       0.3|          0.0|\n",
            "|     3|        3|      2|2025-08-01 10:00:00|       1.2|  10|       1.2|          0.0|\n",
            "|     4|        4|      2|2025-08-01 11:00:00|      0.15|  11|      0.15|          0.0|\n",
            "|     5|        5|      3|2025-08-01 12:00:00|       0.5|  12|       0.5|          0.0|\n",
            "|     6|        6|      3|2025-08-01 13:00:00|       1.5|  13|       1.5|          0.0|\n",
            "|     7|        7|      1|2025-08-01 14:00:00|       0.4|  14|       0.4|          0.0|\n",
            "|     8|        8|      4|2025-08-01 15:00:00|       0.8|  15|       0.8|          0.0|\n",
            "|     9|        9|      4|2025-08-01 16:00:00|       2.0|  16|       2.0|          0.0|\n",
            "|    10|       10|      1|2025-08-01 17:00:00|       0.1|  17|       0.1|          0.0|\n",
            "|    11|       11|      5|2025-08-01 18:00:00|       0.9|  18|       0.9|          0.0|\n",
            "|    12|       12|      1|2025-08-01 19:00:00|       0.2|  19|       0.2|          0.0|\n",
            "|    13|       13|      5|2025-08-01 20:00:00|      0.05|  20|      0.05|          0.0|\n",
            "|    14|       14|      6|2025-08-01 21:00:00|      0.02|  21|      0.02|          0.0|\n",
            "|    15|       15|      6|2025-08-01 22:00:00|      0.15|  22|      0.15|          0.0|\n",
            "|    16|       16|      2|2025-08-01 23:00:00|       1.0|  23|       0.0|          1.0|\n",
            "|    17|       17|      2|2025-08-02 08:00:00|       0.3|   8|       0.3|          0.0|\n",
            "|    18|       18|      1|2025-08-02 09:00:00|       0.7|   9|       0.7|          0.0|\n",
            "|    19|       19|      1|2025-08-02 10:00:00|      0.25|  10|      0.25|          0.0|\n",
            "|    20|       20|      1|2025-08-02 11:00:00|      0.05|  11|      0.05|          0.0|\n",
            "+------+---------+-------+-------------------+----------+----+----------+-------------+\n",
            "\n"
          ]
        }
      ]
    },
    {
      "cell_type": "markdown",
      "source": [
        "#  Aggregate per device\n"
      ],
      "metadata": {
        "id": "rx6s1xweCjyf"
      }
    },
    {
      "cell_type": "code",
      "source": [
        "df = df.withColumn(\"hour\", hour(col(\"timestamp\")))\n",
        "df = df.withColumn(\n",
        "    \"peak_usage\",\n",
        "    when((col(\"hour\") >= 6) & (col(\"hour\") <= 22), col(\"energy_kwh\")).otherwise(0)\n",
        ").withColumn(\n",
        "    \"offpeak_usage\",\n",
        "    when((col(\"hour\") < 6) | (col(\"hour\") > 22), col(\"energy_kwh\")).otherwise(0)\n",
        ")\n",
        "\n",
        "agg_df = df.groupBy(\"device_id\").agg(\n",
        "    _sum(\"energy_kwh\").alias(\"total_energy_kwh\"),\n",
        "    _sum(\"peak_usage\").alias(\"peak_usage_kwh\"),\n",
        "    _sum(\"offpeak_usage\").alias(\"offpeak_usage_kwh\"),\n",
        "    avg(\"energy_kwh\").alias(\"avg_energy_kwh\"),\n",
        "    _max(\"energy_kwh\").alias(\"max_energy_kwh\")\n",
        ")"
      ],
      "metadata": {
        "id": "9TTRzogTCfHR"
      },
      "execution_count": 12,
      "outputs": []
    },
    {
      "cell_type": "markdown",
      "source": [
        "\n",
        "# Save aggregate results"
      ],
      "metadata": {
        "id": "WfbcvG4FCuOK"
      }
    },
    {
      "cell_type": "code",
      "source": [
        "agg_df.toPandas().to_csv(\"device_aggregates.csv\", index=False)\n",
        "print(\"✅ device_aggregates.csv saved\")"
      ],
      "metadata": {
        "colab": {
          "base_uri": "https://localhost:8080/"
        },
        "id": "QsO4jasRCpeg",
        "outputId": "a762dea4-a55e-4a1b-c36e-acff514d5a4c"
      },
      "execution_count": 13,
      "outputs": [
        {
          "output_type": "stream",
          "name": "stdout",
          "text": [
            "✅ device_aggregates.csv saved\n"
          ]
        }
      ]
    },
    {
      "cell_type": "markdown",
      "source": [
        "# 2. Daily usage per device"
      ],
      "metadata": {
        "id": "1-Qywr2KC1tJ"
      }
    },
    {
      "cell_type": "code",
      "source": [
        "df_daily = df.withColumn(\"date\", to_date(\"timestamp\"))\n",
        "daily_usage = df_daily.groupBy(\"device_id\",\"date\").agg(\n",
        "    _sum(\"energy_kwh\").alias(\"daily_energy_kwh\")\n",
        ")\n",
        "daily_usage.show()"
      ],
      "metadata": {
        "colab": {
          "base_uri": "https://localhost:8080/"
        },
        "id": "LcNIvYhTCwVh",
        "outputId": "6563eb28-5b68-48cf-aa46-7ff84f464828"
      },
      "execution_count": 15,
      "outputs": [
        {
          "output_type": "stream",
          "name": "stdout",
          "text": [
            "+---------+----------+----------------+\n",
            "|device_id|      date|daily_energy_kwh|\n",
            "+---------+----------+----------------+\n",
            "|        2|2025-08-01|             0.3|\n",
            "|       12|2025-08-01|             0.2|\n",
            "|        5|2025-08-01|             0.5|\n",
            "|       17|2025-08-02|             0.3|\n",
            "|       10|2025-08-01|             0.1|\n",
            "|       13|2025-08-01|            0.05|\n",
            "|       16|2025-08-01|             1.0|\n",
            "|       15|2025-08-01|            0.15|\n",
            "|        1|2025-08-01|            0.05|\n",
            "|        3|2025-08-01|             1.2|\n",
            "|        8|2025-08-01|             0.8|\n",
            "|        7|2025-08-01|             0.4|\n",
            "|        4|2025-08-01|            0.15|\n",
            "|       20|2025-08-02|            0.05|\n",
            "|        6|2025-08-01|             1.5|\n",
            "|       11|2025-08-01|             0.9|\n",
            "|        9|2025-08-01|             2.0|\n",
            "|       19|2025-08-02|            0.25|\n",
            "|       18|2025-08-02|             0.7|\n",
            "|       14|2025-08-01|            0.02|\n",
            "+---------+----------+----------------+\n",
            "\n"
          ]
        }
      ]
    },
    {
      "cell_type": "markdown",
      "source": [
        "# Devices exceeding 10 kWh/day"
      ],
      "metadata": {
        "id": "mqBw0n06C90C"
      }
    },
    {
      "cell_type": "code",
      "source": [
        "alerts = daily_usage.filter(col(\"daily_energy_kwh\") > 10)\n",
        "alerts.toPandas().to_csv(\"alerts.csv\", index=False)\n",
        "print(\"✅ alerts.csv saved (devices > 10 kWh/day)\")"
      ],
      "metadata": {
        "colab": {
          "base_uri": "https://localhost:8080/"
        },
        "id": "beIW5SLGC4fa",
        "outputId": "7d6189a3-a9ab-415d-ba1b-464040c2a21f"
      },
      "execution_count": 16,
      "outputs": [
        {
          "output_type": "stream",
          "name": "stdout",
          "text": [
            "✅ alerts.csv saved (devices > 10 kWh/day)\n"
          ]
        }
      ]
    },
    {
      "cell_type": "markdown",
      "source": [
        "#3. Top 5 energy consuming devices"
      ],
      "metadata": {
        "id": "hBj0l2cMDDdZ"
      }
    },
    {
      "cell_type": "code",
      "source": [
        "top_devices = agg_df.orderBy(desc(\"total_energy_kwh\")).limit(5)\n",
        "top_devices.toPandas().to_csv(\"top_devices.csv\", index=False)\n",
        "print(\"✅ top_devices.csv saved\")"
      ],
      "metadata": {
        "colab": {
          "base_uri": "https://localhost:8080/"
        },
        "id": "wDLoQRa_C-nR",
        "outputId": "ab2b2617-7275-4451-eb72-f15314d73fcc"
      },
      "execution_count": 17,
      "outputs": [
        {
          "output_type": "stream",
          "name": "stdout",
          "text": [
            "✅ top_devices.csv saved\n"
          ]
        }
      ]
    },
    {
      "cell_type": "markdown",
      "source": [
        "#Show results in console"
      ],
      "metadata": {
        "id": "tSnHapYfDKYo"
      }
    },
    {
      "cell_type": "code",
      "source": [
        "print(\"📊 Aggregates:\")\n",
        "agg_df.show(truncate=False)\n",
        "\n",
        "print(\"📊 Daily Usage (Alerts > 10 kWh):\")\n",
        "alerts.show(truncate=False)\n",
        "\n",
        "print(\"📊 Top Devices:\")\n",
        "top_devices.show(truncate=False)"
      ],
      "metadata": {
        "colab": {
          "base_uri": "https://localhost:8080/"
        },
        "id": "vdWoKgvADF0S",
        "outputId": "d69701fe-4ff9-4ef8-f513-5d0a4d6da576"
      },
      "execution_count": 18,
      "outputs": [
        {
          "output_type": "stream",
          "name": "stdout",
          "text": [
            "📊 Aggregates:\n",
            "+---------+----------------+--------------+-----------------+--------------+--------------+\n",
            "|device_id|total_energy_kwh|peak_usage_kwh|offpeak_usage_kwh|avg_energy_kwh|max_energy_kwh|\n",
            "+---------+----------------+--------------+-----------------+--------------+--------------+\n",
            "|12       |0.2             |0.2           |0.0              |0.2           |0.2           |\n",
            "|1        |0.05            |0.05          |0.0              |0.05          |0.05          |\n",
            "|13       |0.05            |0.05          |0.0              |0.05          |0.05          |\n",
            "|6        |1.5             |1.5           |0.0              |1.5           |1.5           |\n",
            "|16       |1.0             |0.0           |1.0              |1.0           |1.0           |\n",
            "|3        |1.2             |1.2           |0.0              |1.2           |1.2           |\n",
            "|20       |0.05            |0.05          |0.0              |0.05          |0.05          |\n",
            "|5        |0.5             |0.5           |0.0              |0.5           |0.5           |\n",
            "|19       |0.25            |0.25          |0.0              |0.25          |0.25          |\n",
            "|15       |0.15            |0.15          |0.0              |0.15          |0.15          |\n",
            "|9        |2.0             |2.0           |0.0              |2.0           |2.0           |\n",
            "|17       |0.3             |0.3           |0.0              |0.3           |0.3           |\n",
            "|4        |0.15            |0.15          |0.0              |0.15          |0.15          |\n",
            "|8        |0.8             |0.8           |0.0              |0.8           |0.8           |\n",
            "|7        |0.4             |0.4           |0.0              |0.4           |0.4           |\n",
            "|10       |0.1             |0.1           |0.0              |0.1           |0.1           |\n",
            "|11       |0.9             |0.9           |0.0              |0.9           |0.9           |\n",
            "|14       |0.02            |0.02          |0.0              |0.02          |0.02          |\n",
            "|2        |0.3             |0.3           |0.0              |0.3           |0.3           |\n",
            "|18       |0.7             |0.7           |0.0              |0.7           |0.7           |\n",
            "+---------+----------------+--------------+-----------------+--------------+--------------+\n",
            "\n",
            "📊 Daily Usage (Alerts > 10 kWh):\n",
            "+---------+----+----------------+\n",
            "|device_id|date|daily_energy_kwh|\n",
            "+---------+----+----------------+\n",
            "+---------+----+----------------+\n",
            "\n",
            "📊 Top Devices:\n",
            "+---------+----------------+--------------+-----------------+--------------+--------------+\n",
            "|device_id|total_energy_kwh|peak_usage_kwh|offpeak_usage_kwh|avg_energy_kwh|max_energy_kwh|\n",
            "+---------+----------------+--------------+-----------------+--------------+--------------+\n",
            "|9        |2.0             |2.0           |0.0              |2.0           |2.0           |\n",
            "|6        |1.5             |1.5           |0.0              |1.5           |1.5           |\n",
            "|3        |1.2             |1.2           |0.0              |1.2           |1.2           |\n",
            "|16       |1.0             |0.0           |1.0              |1.0           |1.0           |\n",
            "|11       |0.9             |0.9           |0.0              |0.9           |0.9           |\n",
            "+---------+----------------+--------------+-----------------+--------------+--------------+\n",
            "\n"
          ]
        }
      ]
    }
  ]
}