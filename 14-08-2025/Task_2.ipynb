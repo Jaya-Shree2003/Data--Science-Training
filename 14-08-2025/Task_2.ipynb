{
  "nbformat": 4,
  "nbformat_minor": 0,
  "metadata": {
    "colab": {
      "provenance": []
    },
    "kernelspec": {
      "name": "python3",
      "display_name": "Python 3"
    },
    "language_info": {
      "name": "python"
    }
  },
  "cells": [
    {
      "cell_type": "code",
      "execution_count": 1,
      "metadata": {
        "colab": {
          "base_uri": "https://localhost:8080/"
        },
        "id": "RI8qIzULPI4p",
        "outputId": "7bb7a91f-0a04-4287-91cb-6df1f2ccbdbb"
      },
      "outputs": [
        {
          "output_type": "stream",
          "name": "stdout",
          "text": [
            "Collecting pyspark==3.5.0\n",
            "  Downloading pyspark-3.5.0.tar.gz (316.9 MB)\n",
            "\u001b[2K     \u001b[90m━━━━━━━━━━━━━━━━━━━━━━━━━━━━━━━━━━━━━━━\u001b[0m \u001b[32m316.9/316.9 MB\u001b[0m \u001b[31m4.4 MB/s\u001b[0m eta \u001b[36m0:00:00\u001b[0m\n",
            "\u001b[?25h  Preparing metadata (setup.py) ... \u001b[?25l\u001b[?25hdone\n",
            "Collecting delta-spark==3.1.0\n",
            "  Downloading delta_spark-3.1.0-py3-none-any.whl.metadata (1.9 kB)\n",
            "Requirement already satisfied: matplotlib in /usr/local/lib/python3.11/dist-packages (3.10.0)\n",
            "Requirement already satisfied: py4j==0.10.9.7 in /usr/local/lib/python3.11/dist-packages (from pyspark==3.5.0) (0.10.9.7)\n",
            "Requirement already satisfied: importlib-metadata>=1.0.0 in /usr/local/lib/python3.11/dist-packages (from delta-spark==3.1.0) (8.7.0)\n",
            "Requirement already satisfied: contourpy>=1.0.1 in /usr/local/lib/python3.11/dist-packages (from matplotlib) (1.3.3)\n",
            "Requirement already satisfied: cycler>=0.10 in /usr/local/lib/python3.11/dist-packages (from matplotlib) (0.12.1)\n",
            "Requirement already satisfied: fonttools>=4.22.0 in /usr/local/lib/python3.11/dist-packages (from matplotlib) (4.59.0)\n",
            "Requirement already satisfied: kiwisolver>=1.3.1 in /usr/local/lib/python3.11/dist-packages (from matplotlib) (1.4.9)\n",
            "Requirement already satisfied: numpy>=1.23 in /usr/local/lib/python3.11/dist-packages (from matplotlib) (2.0.2)\n",
            "Requirement already satisfied: packaging>=20.0 in /usr/local/lib/python3.11/dist-packages (from matplotlib) (25.0)\n",
            "Requirement already satisfied: pillow>=8 in /usr/local/lib/python3.11/dist-packages (from matplotlib) (11.3.0)\n",
            "Requirement already satisfied: pyparsing>=2.3.1 in /usr/local/lib/python3.11/dist-packages (from matplotlib) (3.2.3)\n",
            "Requirement already satisfied: python-dateutil>=2.7 in /usr/local/lib/python3.11/dist-packages (from matplotlib) (2.9.0.post0)\n",
            "Requirement already satisfied: zipp>=3.20 in /usr/local/lib/python3.11/dist-packages (from importlib-metadata>=1.0.0->delta-spark==3.1.0) (3.23.0)\n",
            "Requirement already satisfied: six>=1.5 in /usr/local/lib/python3.11/dist-packages (from python-dateutil>=2.7->matplotlib) (1.17.0)\n",
            "Downloading delta_spark-3.1.0-py3-none-any.whl (21 kB)\n",
            "Building wheels for collected packages: pyspark\n",
            "  Building wheel for pyspark (setup.py) ... \u001b[?25l\u001b[?25hdone\n",
            "  Created wheel for pyspark: filename=pyspark-3.5.0-py2.py3-none-any.whl size=317425346 sha256=57d1a64f09f76a947fd1f424772e77191056523959ec1e6806d7c6f1ce03acf2\n",
            "  Stored in directory: /root/.cache/pip/wheels/38/df/61/8c121f50c3cffd77f8178180dd232d90b3b99d1bd61fb6d6be\n",
            "Successfully built pyspark\n",
            "Installing collected packages: pyspark, delta-spark\n",
            "  Attempting uninstall: pyspark\n",
            "    Found existing installation: pyspark 3.5.1\n",
            "    Uninstalling pyspark-3.5.1:\n",
            "      Successfully uninstalled pyspark-3.5.1\n",
            "\u001b[31mERROR: pip's dependency resolver does not currently take into account all the packages that are installed. This behaviour is the source of the following dependency conflicts.\n",
            "dataproc-spark-connect 0.8.3 requires pyspark[connect]~=3.5.1, but you have pyspark 3.5.0 which is incompatible.\u001b[0m\u001b[31m\n",
            "\u001b[0mSuccessfully installed delta-spark-3.1.0 pyspark-3.5.0\n"
          ]
        }
      ],
      "source": [
        "!pip install pyspark==3.5.0 delta-spark==3.1.0 matplotlib"
      ]
    },
    {
      "cell_type": "code",
      "source": [
        "from pyspark.sql import SparkSession\n",
        "from delta import configure_spark_with_delta_pip\n",
        "from pyspark.sql import functions as F, types as T\n",
        "import matplotlib.pyplot as plt\n",
        "import time\n",
        "builder = (\n",
        "    SparkSession.builder.appName(\"DeltaRideHailing\")\n",
        "    .config(\"spark.sql.extensions\", \"io.delta.sql.DeltaSparkSessionExtension\")\n",
        "    .config(\"spark.sql.catalog.spark_catalog\", \"org.apache.spark.sql.delta.catalog.DeltaCatalog\")\n",
        ")\n",
        "spark = configure_spark_with_delta_pip(builder).getOrCreate()"
      ],
      "metadata": {
        "id": "MkJR4IZVPoCN"
      },
      "execution_count": 2,
      "outputs": []
    },
    {
      "cell_type": "markdown",
      "source": [
        "# Seeding Data\n"
      ],
      "metadata": {
        "id": "mJjJb4DRPxWm"
      }
    },
    {
      "cell_type": "code",
      "source": [
        "from pyspark.sql import SparkSession\n",
        "from delta import configure_spark_with_delta_pip\n",
        "from pyspark.sql import functions as F, types as T\n",
        "import matplotlib.pyplot as plt\n",
        "import time\n",
        "from datetime import datetime\n",
        "\n",
        "builder = (\n",
        "    SparkSession.builder.appName(\"DeltaRideHailing\")\n",
        "    .config(\"spark.sql.extensions\", \"io.delta.sql.DeltaSparkSessionExtension\")\n",
        "    .config(\"spark.sql.catalog.spark_catalog\", \"org.apache.spark.sql.delta.catalog.DeltaCatalog\")\n",
        ")\n",
        "spark = configure_spark_with_delta_pip(builder).getOrCreate()\n",
        "\n",
        "trip_schema = T.StructType([\n",
        "    T.StructField(\"trip_id\", T.IntegerType()),\n",
        "    T.StructField(\"rider_id\", T.StringType()),\n",
        "    T.StructField(\"driver_id\", T.StringType()),\n",
        "    T.StructField(\"city\", T.StringType()),\n",
        "    T.StructField(\"distance_km\", T.DoubleType()),\n",
        "    T.StructField(\"fare\", T.DoubleType()),\n",
        "    T.StructField(\"tip\", T.DoubleType()),\n",
        "    T.StructField(\"ts\", T.TimestampType())\n",
        "])\n",
        "\n",
        "driver_schema = T.StructType([\n",
        "    T.StructField(\"driver_id\", T.StringType()),\n",
        "    T.StructField(\"driver_name\", T.StringType()),\n",
        "    T.StructField(\"rating\", T.DoubleType()),\n",
        "    T.StructField(\"vehicle\", T.StringType())\n",
        "])\n",
        "\n",
        "trips_rows = [\n",
        "    (1001, \"R001\", \"D010\", \"Bengaluru\", 12.4, 320.0, 20.0, datetime.strptime(\"2025-08-08 08:05:00\", \"%Y-%m-%d %H:%M:%S\")),\n",
        "    (1002, \"R002\", \"D011\", \"Hyderabad\", 6.2, 150.0, 10.0, datetime.strptime(\"2025-08-08 08:15:00\", \"%Y-%m-%d %H:%M:%S\")),\n",
        "    (1003, \"R003\", \"D012\", \"Pune\", 3.5, 90.0, 0.0, datetime.strptime(\"2025-08-08 08:20:00\", \"%Y-%m-%d %H:%M:%S\")),\n",
        "    (1004, \"R001\", \"D010\", \"Bengaluru\", 18.9, 480.0, 25.0, datetime.strptime(\"2025-08-08 08:45:00\", \"%Y-%m-%d %H:%M:%S\")),\n",
        "    (1005, \"R004\", \"D013\", \"Chennai\", 10.0, 260.0, 15.0, datetime.strptime(\"2025-08-08 09:05:00\", \"%Y-%m-%d %H:%M:%S\")),\n",
        "    (1006, \"R005\", \"D012\", \"Pune\", 2.2, 70.0, 0.0, datetime.strptime(\"2025-08-08 09:10:00\", \"%Y-%m-%d %H:%M:%S\")),\n",
        "]\n",
        "\n",
        "drivers_rows = [\n",
        "    (\"D010\", \"Anil\", 4.8, \"WagonR\"),\n",
        "    (\"D011\", \"Sana\", 4.6, \"i20\"),\n",
        "    (\"D012\", \"Rakesh\", 4.4, \"Swift\"),\n",
        "    (\"D013\", \"Meera\", 4.9, \"Ciaz\"),\n",
        "]\n",
        "\n",
        "trips_df = spark.createDataFrame(trips_rows, schema=trip_schema)\n",
        "drivers_df = spark.createDataFrame(drivers_rows, schema=driver_schema)\n",
        "\n",
        "BASE = \"/tmp/delta/ride_hailing\"\n",
        "TRIPS_PATH = f\"{BASE}/trips\"\n",
        "DRIVERS_PATH = f\"{BASE}/drivers\"\n",
        "\n",
        "trips_df.write.format(\"delta\").mode(\"overwrite\").save(TRIPS_PATH)\n",
        "drivers_df.write.format(\"delta\").mode(\"overwrite\").save(DRIVERS_PATH)"
      ],
      "metadata": {
        "id": "whIWyv8yPtJO"
      },
      "execution_count": 5,
      "outputs": []
    },
    {
      "cell_type": "markdown",
      "source": [
        "# Managed vs Unmanaged"
      ],
      "metadata": {
        "id": "TfsYxlt3P1r2"
      }
    },
    {
      "cell_type": "code",
      "source": [
        "spark.sql(f\"CREATE TABLE trips_managed USING DELTA AS SELECT * FROM delta.`{TRIPS_PATH}`\")\n",
        "spark.sql(f\"CREATE TABLE drivers_ext USING DELTA LOCATION '{DRIVERS_PATH}'\")\n",
        "\n",
        "print(\"Managed Table Detail:\")\n",
        "spark.sql(\"DESCRIBE DETAIL trips_managed\").show(truncate=False)\n",
        "print(\"Unmanaged Table Detail:\")\n",
        "spark.sql(\"DESCRIBE DETAIL drivers_ext\").show(truncate=False)\n"
      ],
      "metadata": {
        "colab": {
          "base_uri": "https://localhost:8080/"
        },
        "id": "wdEurKCKPzkm",
        "outputId": "cebe6ca3-b34c-4e41-f56e-35811bda130b"
      },
      "execution_count": 6,
      "outputs": [
        {
          "output_type": "stream",
          "name": "stdout",
          "text": [
            "Managed Table Detail:\n",
            "+------+------------------------------------+-----------------------------------+-----------+-------------------------------------------+-----------------------+----------------------+----------------+--------+-----------+----------+----------------+----------------+------------------------+\n",
            "|format|id                                  |name                               |description|location                                   |createdAt              |lastModified          |partitionColumns|numFiles|sizeInBytes|properties|minReaderVersion|minWriterVersion|tableFeatures           |\n",
            "+------+------------------------------------+-----------------------------------+-----------+-------------------------------------------+-----------------------+----------------------+----------------+--------+-----------+----------+----------------+----------------+------------------------+\n",
            "|delta |52a1c631-f484-4486-81b7-84516c5e18c5|spark_catalog.default.trips_managed|NULL       |file:/content/spark-warehouse/trips_managed|2025-08-15 05:45:21.942|2025-08-15 05:45:24.64|[]              |2       |4536       |{}        |1               |2               |[appendOnly, invariants]|\n",
            "+------+------------------------------------+-----------------------------------+-----------+-------------------------------------------+-----------------------+----------------------+----------------+--------+-----------+----------+----------------+----------------+------------------------+\n",
            "\n",
            "Unmanaged Table Detail:\n",
            "+------+------------------------------------+---------------------------------+-----------+------------------------------------+-----------------------+----------------------+----------------+--------+-----------+----------+----------------+----------------+------------------------+\n",
            "|format|id                                  |name                             |description|location                            |createdAt              |lastModified          |partitionColumns|numFiles|sizeInBytes|properties|minReaderVersion|minWriterVersion|tableFeatures           |\n",
            "+------+------------------------------------+---------------------------------+-----------+------------------------------------+-----------------------+----------------------+----------------+--------+-----------+----------+----------------+----------------+------------------------+\n",
            "|delta |e94c063b-5682-42cb-960c-297b96dfcf47|spark_catalog.default.drivers_ext|NULL       |file:/tmp/delta/ride_hailing/drivers|2025-08-15 05:44:28.036|2025-08-15 05:44:29.21|[]              |2       |2481       |{}        |1               |2               |[appendOnly, invariants]|\n",
            "+------+------------------------------------+---------------------------------+-----------+------------------------------------+-----------------------+----------------------+----------------+--------+-----------+----------+----------------+----------------+------------------------+\n",
            "\n"
          ]
        }
      ]
    },
    {
      "cell_type": "markdown",
      "source": [
        "# 2.Read & Explore"
      ],
      "metadata": {
        "id": "e6vWsUvfQA3e"
      }
    },
    {
      "cell_type": "code",
      "source": [
        "df_trips = spark.read.format(\"delta\").load(TRIPS_PATH)\n",
        "df_drivers = spark.read.format(\"delta\").load(DRIVERS_PATH)\n",
        "df_trips.printSchema()\n",
        "df_drivers.printSchema()\n",
        "df_trips.show(10)\n",
        "\n",
        "df_trips.withColumn(\"total_amount\", F.col(\"fare\") + F.col(\"tip\"))\\\n",
        "    .orderBy(F.desc(\"total_amount\")).show(5)"
      ],
      "metadata": {
        "colab": {
          "base_uri": "https://localhost:8080/"
        },
        "id": "G_UayasdP-QW",
        "outputId": "e820dbd0-38c7-4367-ccf1-442f9d1a0c65"
      },
      "execution_count": 7,
      "outputs": [
        {
          "output_type": "stream",
          "name": "stdout",
          "text": [
            "root\n",
            " |-- trip_id: integer (nullable = true)\n",
            " |-- rider_id: string (nullable = true)\n",
            " |-- driver_id: string (nullable = true)\n",
            " |-- city: string (nullable = true)\n",
            " |-- distance_km: double (nullable = true)\n",
            " |-- fare: double (nullable = true)\n",
            " |-- tip: double (nullable = true)\n",
            " |-- ts: timestamp (nullable = true)\n",
            "\n",
            "root\n",
            " |-- driver_id: string (nullable = true)\n",
            " |-- driver_name: string (nullable = true)\n",
            " |-- rating: double (nullable = true)\n",
            " |-- vehicle: string (nullable = true)\n",
            "\n",
            "+-------+--------+---------+---------+-----------+-----+----+-------------------+\n",
            "|trip_id|rider_id|driver_id|     city|distance_km| fare| tip|                 ts|\n",
            "+-------+--------+---------+---------+-----------+-----+----+-------------------+\n",
            "|   1004|    R001|     D010|Bengaluru|       18.9|480.0|25.0|2025-08-08 08:45:00|\n",
            "|   1005|    R004|     D013|  Chennai|       10.0|260.0|15.0|2025-08-08 09:05:00|\n",
            "|   1006|    R005|     D012|     Pune|        2.2| 70.0| 0.0|2025-08-08 09:10:00|\n",
            "|   1001|    R001|     D010|Bengaluru|       12.4|320.0|20.0|2025-08-08 08:05:00|\n",
            "|   1002|    R002|     D011|Hyderabad|        6.2|150.0|10.0|2025-08-08 08:15:00|\n",
            "|   1003|    R003|     D012|     Pune|        3.5| 90.0| 0.0|2025-08-08 08:20:00|\n",
            "+-------+--------+---------+---------+-----------+-----+----+-------------------+\n",
            "\n",
            "+-------+--------+---------+---------+-----------+-----+----+-------------------+------------+\n",
            "|trip_id|rider_id|driver_id|     city|distance_km| fare| tip|                 ts|total_amount|\n",
            "+-------+--------+---------+---------+-----------+-----+----+-------------------+------------+\n",
            "|   1004|    R001|     D010|Bengaluru|       18.9|480.0|25.0|2025-08-08 08:45:00|       505.0|\n",
            "|   1001|    R001|     D010|Bengaluru|       12.4|320.0|20.0|2025-08-08 08:05:00|       340.0|\n",
            "|   1005|    R004|     D013|  Chennai|       10.0|260.0|15.0|2025-08-08 09:05:00|       275.0|\n",
            "|   1002|    R002|     D011|Hyderabad|        6.2|150.0|10.0|2025-08-08 08:15:00|       160.0|\n",
            "|   1003|    R003|     D012|     Pune|        3.5| 90.0| 0.0|2025-08-08 08:20:00|        90.0|\n",
            "+-------+--------+---------+---------+-----------+-----+----+-------------------+------------+\n",
            "only showing top 5 rows\n",
            "\n"
          ]
        }
      ]
    },
    {
      "cell_type": "markdown",
      "source": [
        "# 3. Update\n",
        "\n",
        "\n"
      ],
      "metadata": {
        "id": "qIWCQuDsQGvu"
      }
    },
    {
      "cell_type": "code",
      "source": [
        "from delta.tables import DeltaTable\n",
        "dt = DeltaTable.forPath(spark, TRIPS_PATH)\n",
        "print(\"Before Update:\")\n",
        "dt.update(\n",
        "    condition=\"city='Bengaluru' AND distance_km > 15\",\n",
        "    set={\"tip\": F.col(\"tip\") + 5}\n",
        ")\n",
        "print(\"After Update:\")\n",
        "dt.toDF().filter(\"city='Bengaluru' AND distance_km > 15\").show()\n"
      ],
      "metadata": {
        "colab": {
          "base_uri": "https://localhost:8080/"
        },
        "id": "P3VXtThcQGjn",
        "outputId": "18ee57f7-623d-4463-9533-299631f9bfa6"
      },
      "execution_count": 8,
      "outputs": [
        {
          "output_type": "stream",
          "name": "stdout",
          "text": [
            "Before Update:\n",
            "After Update:\n",
            "+-------+--------+---------+---------+-----------+-----+----+-------------------+\n",
            "|trip_id|rider_id|driver_id|     city|distance_km| fare| tip|                 ts|\n",
            "+-------+--------+---------+---------+-----------+-----+----+-------------------+\n",
            "|   1004|    R001|     D010|Bengaluru|       18.9|480.0|30.0|2025-08-08 08:45:00|\n",
            "+-------+--------+---------+---------+-----------+-----+----+-------------------+\n",
            "\n"
          ]
        }
      ]
    },
    {
      "cell_type": "markdown",
      "source": [
        "# 4.Delete Bad Data"
      ],
      "metadata": {
        "id": "rIXoWEeeQd6-"
      }
    },
    {
      "cell_type": "code",
      "source": [
        "dt.delete(\"fare <= 0 OR distance_km <= 0\")\n",
        "print(\"Row Count After Delete:\", dt.toDF().count())"
      ],
      "metadata": {
        "colab": {
          "base_uri": "https://localhost:8080/"
        },
        "id": "_iIac1eJQa1J",
        "outputId": "201cbad6-35a3-48ff-cabe-c76e354618dd"
      },
      "execution_count": 9,
      "outputs": [
        {
          "output_type": "stream",
          "name": "stdout",
          "text": [
            "Row Count After Delete: 6\n"
          ]
        }
      ]
    },
    {
      "cell_type": "markdown",
      "source": [
        "# 5. Merge"
      ],
      "metadata": {
        "id": "KcEEVeAIQjUf"
      }
    },
    {
      "cell_type": "code",
      "source": [
        "from datetime import datetime\n",
        "\n",
        "new_batch = [\n",
        "    (1004, \"R001\", \"D010\", \"Bengaluru\", 18.9, 500.0, 30.0, datetime.strptime(\"2025-08-08 08:45:00\", \"%Y-%m-%d %H:%M:%S\")),\n",
        "    (1007, \"R006\", \"D013\", \"Chennai\", 8.5, 210.0, 10.0, datetime.strptime(\"2025-08-08 09:20:00\", \"%Y-%m-%d %H:%M:%S\")),\n",
        "]\n",
        "new_df = spark.createDataFrame(new_batch, schema=trip_schema)\n",
        "\n",
        "dt.alias(\"t\").merge(\n",
        "    new_df.alias(\"n\"),\n",
        "    \"t.trip_id = n.trip_id\"\n",
        ").whenMatchedUpdateAll().whenNotMatchedInsertAll().execute()\n",
        "\n",
        "dt.toDF().filter(\"trip_id IN (1004,1007)\").show()"
      ],
      "metadata": {
        "colab": {
          "base_uri": "https://localhost:8080/"
        },
        "id": "eUx9hTzEQnrA",
        "outputId": "6d10a0e5-a5e4-471c-dec8-454b12e8b212"
      },
      "execution_count": 12,
      "outputs": [
        {
          "output_type": "stream",
          "name": "stdout",
          "text": [
            "+-------+--------+---------+---------+-----------+-----+----+-------------------+\n",
            "|trip_id|rider_id|driver_id|     city|distance_km| fare| tip|                 ts|\n",
            "+-------+--------+---------+---------+-----------+-----+----+-------------------+\n",
            "|   1004|    R001|     D010|Bengaluru|       18.9|500.0|30.0|2025-08-08 08:45:00|\n",
            "|   1007|    R006|     D013|  Chennai|        8.5|210.0|10.0|2025-08-08 09:20:00|\n",
            "+-------+--------+---------+---------+-----------+-----+----+-------------------+\n",
            "\n"
          ]
        }
      ]
    },
    {
      "cell_type": "markdown",
      "source": [
        "#6. Gold View & KPIs\n"
      ],
      "metadata": {
        "id": "3sAKv9kmQw3g"
      }
    },
    {
      "cell_type": "code",
      "source": [
        "gold_df = dt.toDF().join(df_drivers, \"driver_id\") \\\n",
        "    .withColumn(\"total_amount\", F.col(\"fare\") + F.col(\"tip\")) \\\n",
        "    .select(\"trip_id\", \"city\", \"driver_name\", \"rating\", \"distance_km\", \"total_amount\", \"ts\")\n",
        "\n",
        "gold_df.createOrReplaceTempView(\"gold_view\")\n",
        "\n",
        "# City-wise total revenue and avg driver rating\n",
        "spark.sql(\"\"\"\n",
        "SELECT city, SUM(total_amount) AS total_revenue, AVG(rating) AS avg_rating\n",
        "FROM gold_view\n",
        "GROUP BY city\n",
        "\"\"\").show()\n",
        "\n",
        "# Driver-wise total trips & top 3 drivers by revenue\n",
        "spark.sql(\"\"\"\n",
        "SELECT driver_name, COUNT(*) AS total_trips, SUM(total_amount) AS total_revenue\n",
        "FROM gold_view\n",
        "GROUP BY driver_name\n",
        "ORDER BY total_revenue DESC\n",
        "LIMIT 3\n",
        "\"\"\").show()"
      ],
      "metadata": {
        "colab": {
          "base_uri": "https://localhost:8080/"
        },
        "id": "MrKWqT-cQ5Uo",
        "outputId": "811fef8c-64cc-49ca-962f-96d158693ffc"
      },
      "execution_count": 13,
      "outputs": [
        {
          "output_type": "stream",
          "name": "stdout",
          "text": [
            "+---------+-------------+----------+\n",
            "|     city|total_revenue|avg_rating|\n",
            "+---------+-------------+----------+\n",
            "|  Chennai|        495.0|       4.9|\n",
            "|     Pune|        160.0|       4.4|\n",
            "|Bengaluru|        870.0|       4.8|\n",
            "|Hyderabad|        160.0|       4.6|\n",
            "+---------+-------------+----------+\n",
            "\n",
            "+-----------+-----------+-------------+\n",
            "|driver_name|total_trips|total_revenue|\n",
            "+-----------+-----------+-------------+\n",
            "|       Anil|          2|        870.0|\n",
            "|      Meera|          2|        495.0|\n",
            "|     Rakesh|          2|        160.0|\n",
            "+-----------+-----------+-------------+\n",
            "\n"
          ]
        }
      ]
    },
    {
      "cell_type": "markdown",
      "source": [
        "#7.Time Travel"
      ],
      "metadata": {
        "id": "DVoPXJ0tQ_qo"
      }
    },
    {
      "cell_type": "code",
      "source": [
        "print(\"History:\")\n",
        "dt.history().show()\n",
        "\n",
        "print(\"As of Version 0:\")\n",
        "dt.toDF().show()\n",
        "version0_df = spark.read.format(\"delta\").option(\"versionAsOf\", 0).load(TRIPS_PATH)\n",
        "version0_df.show()\n",
        "print(\"Count difference:\", version0_df.count(), \"→\", dt.toDF().count())\n"
      ],
      "metadata": {
        "colab": {
          "base_uri": "https://localhost:8080/"
        },
        "id": "k6VfLxwERCWp",
        "outputId": "9be8f71a-1e9b-4de9-8139-6e6972c35806"
      },
      "execution_count": 14,
      "outputs": [
        {
          "output_type": "stream",
          "name": "stdout",
          "text": [
            "History:\n",
            "+-------+--------------------+------+--------+---------+--------------------+----+--------+---------+-----------+--------------+-------------+--------------------+------------+--------------------+\n",
            "|version|           timestamp|userId|userName|operation| operationParameters| job|notebook|clusterId|readVersion|isolationLevel|isBlindAppend|    operationMetrics|userMetadata|          engineInfo|\n",
            "+-------+--------------------+------+--------+---------+--------------------+----+--------+---------+-----------+--------------+-------------+--------------------+------------+--------------------+\n",
            "|      2|2025-08-15 05:48:...|  NULL|    NULL|    MERGE|{predicate -> [\"(...|NULL|    NULL|     NULL|          1|  Serializable|        false|{numTargetRowsCop...|        NULL|Apache-Spark/3.5....|\n",
            "|      1|2025-08-15 05:46:...|  NULL|    NULL|   UPDATE|{predicate -> [\"(...|NULL|    NULL|     NULL|          0|  Serializable|        false|{numRemovedFiles ...|        NULL|Apache-Spark/3.5....|\n",
            "|      0|2025-08-15 05:44:...|  NULL|    NULL|    WRITE|{mode -> Overwrit...|NULL|    NULL|     NULL|       NULL|  Serializable|        false|{numFiles -> 2, n...|        NULL|Apache-Spark/3.5....|\n",
            "+-------+--------------------+------+--------+---------+--------------------+----+--------+---------+-----------+--------------+-------------+--------------------+------------+--------------------+\n",
            "\n",
            "As of Version 0:\n",
            "+-------+--------+---------+---------+-----------+-----+----+-------------------+\n",
            "|trip_id|rider_id|driver_id|     city|distance_km| fare| tip|                 ts|\n",
            "+-------+--------+---------+---------+-----------+-----+----+-------------------+\n",
            "|   1004|    R001|     D010|Bengaluru|       18.9|500.0|30.0|2025-08-08 08:45:00|\n",
            "|   1005|    R004|     D013|  Chennai|       10.0|260.0|15.0|2025-08-08 09:05:00|\n",
            "|   1006|    R005|     D012|     Pune|        2.2| 70.0| 0.0|2025-08-08 09:10:00|\n",
            "|   1007|    R006|     D013|  Chennai|        8.5|210.0|10.0|2025-08-08 09:20:00|\n",
            "|   1001|    R001|     D010|Bengaluru|       12.4|320.0|20.0|2025-08-08 08:05:00|\n",
            "|   1002|    R002|     D011|Hyderabad|        6.2|150.0|10.0|2025-08-08 08:15:00|\n",
            "|   1003|    R003|     D012|     Pune|        3.5| 90.0| 0.0|2025-08-08 08:20:00|\n",
            "+-------+--------+---------+---------+-----------+-----+----+-------------------+\n",
            "\n",
            "+-------+--------+---------+---------+-----------+-----+----+-------------------+\n",
            "|trip_id|rider_id|driver_id|     city|distance_km| fare| tip|                 ts|\n",
            "+-------+--------+---------+---------+-----------+-----+----+-------------------+\n",
            "|   1004|    R001|     D010|Bengaluru|       18.9|480.0|25.0|2025-08-08 08:45:00|\n",
            "|   1005|    R004|     D013|  Chennai|       10.0|260.0|15.0|2025-08-08 09:05:00|\n",
            "|   1006|    R005|     D012|     Pune|        2.2| 70.0| 0.0|2025-08-08 09:10:00|\n",
            "|   1001|    R001|     D010|Bengaluru|       12.4|320.0|20.0|2025-08-08 08:05:00|\n",
            "|   1002|    R002|     D011|Hyderabad|        6.2|150.0|10.0|2025-08-08 08:15:00|\n",
            "|   1003|    R003|     D012|     Pune|        3.5| 90.0| 0.0|2025-08-08 08:20:00|\n",
            "+-------+--------+---------+---------+-----------+-----+----+-------------------+\n",
            "\n",
            "Count difference: 6 → 7\n"
          ]
        }
      ]
    },
    {
      "cell_type": "markdown",
      "source": [
        "# 8.Partitioned Rewrite"
      ],
      "metadata": {
        "id": "Ek5W-uFrRELy"
      }
    },
    {
      "cell_type": "code",
      "source": [
        "PARTITIONED_PATH = f\"{BASE}/trips_partitioned\"\n",
        "dt.toDF().write.format(\"delta\").mode(\"overwrite\").partitionBy(\"city\").save(PARTITIONED_PATH)\n",
        "spark.read.format(\"delta\").load(PARTITIONED_PATH).filter(\"city='Bengaluru'\").show()\n"
      ],
      "metadata": {
        "colab": {
          "base_uri": "https://localhost:8080/"
        },
        "id": "ECDxx2vDRHw6",
        "outputId": "9618bc5e-0e54-46a4-e97d-48291d243705"
      },
      "execution_count": 15,
      "outputs": [
        {
          "output_type": "stream",
          "name": "stdout",
          "text": [
            "+-------+--------+---------+---------+-----------+-----+----+-------------------+\n",
            "|trip_id|rider_id|driver_id|     city|distance_km| fare| tip|                 ts|\n",
            "+-------+--------+---------+---------+-----------+-----+----+-------------------+\n",
            "|   1004|    R001|     D010|Bengaluru|       18.9|500.0|30.0|2025-08-08 08:45:00|\n",
            "|   1001|    R001|     D010|Bengaluru|       12.4|320.0|20.0|2025-08-08 08:05:00|\n",
            "+-------+--------+---------+---------+-----------+-----+----+-------------------+\n",
            "\n"
          ]
        }
      ]
    },
    {
      "cell_type": "markdown",
      "source": [
        "# 9. Incremental Load"
      ],
      "metadata": {
        "id": "qTLMEC9-RJkY"
      }
    },
    {
      "cell_type": "code",
      "source": [
        "from datetime import datetime\n",
        "\n",
        "inc_batch = [\n",
        "    (1008, \"R007\", \"D010\", \"Mumbai\", 9.2, 300.0, 20.0, datetime.strptime(\"2025-08-08 10:00:00\", \"%Y-%m-%d %H:%M:%S\")),\n",
        "    (1009, \"R008\", \"D011\", \"Mumbai\", 5.5, 180.0, 15.0, datetime.strptime(\"2025-08-08 10:15:00\", \"%Y-%m-%d %H:%M:%S\")),\n",
        "]\n",
        "spark.createDataFrame(inc_batch, schema=trip_schema).write.format(\"delta\").mode(\"append\").save(TRIPS_PATH)\n",
        "spark.read.format(\"delta\").load(TRIPS_PATH).groupBy(\"city\").agg(F.sum(F.col(\"fare\") + F.col(\"tip\")).alias(\"revenue\")).show()"
      ],
      "metadata": {
        "colab": {
          "base_uri": "https://localhost:8080/"
        },
        "id": "grFuPLdmRNYq",
        "outputId": "51ea2834-863f-4ecc-f07e-b6c6ca73ad3c"
      },
      "execution_count": 18,
      "outputs": [
        {
          "output_type": "stream",
          "name": "stdout",
          "text": [
            "+---------+-------+\n",
            "|     city|revenue|\n",
            "+---------+-------+\n",
            "|  Chennai|  495.0|\n",
            "|     Pune|  160.0|\n",
            "|Bengaluru|  870.0|\n",
            "|Hyderabad|  160.0|\n",
            "|   Mumbai|  515.0|\n",
            "+---------+-------+\n",
            "\n"
          ]
        }
      ]
    },
    {
      "cell_type": "markdown",
      "source": [
        "# 10.Simple Streaming"
      ],
      "metadata": {
        "id": "sB0kXzxiRPkx"
      }
    },
    {
      "cell_type": "code",
      "source": [
        "from datetime import datetime\n",
        "\n",
        "stream_df = spark.readStream.format(\"delta\").load(TRIPS_PATH)\n",
        "query = stream_df.writeStream.format(\"console\").outputMode(\"append\").trigger(processingTime=\"5 seconds\").start()\n",
        "\n",
        "# Append one more trip after short wait\n",
        "time.sleep(5)\n",
        "extra_trip = [(1010, \"R009\", \"D013\", \"Mumbai\", 7.5, 220.0, 10.0, datetime.strptime(\"2025-08-08 10:30:00\", \"%Y-%m-%d %H:%M:%S\"))]\n",
        "spark.createDataFrame(extra_trip, schema=trip_schema).write.format(\"delta\").mode(\"append\").save(TRIPS_PATH)\n",
        "\n",
        "time.sleep(10)\n",
        "query.stop()"
      ],
      "metadata": {
        "id": "pBSY2tj5RmIz"
      },
      "execution_count": 21,
      "outputs": []
    },
    {
      "cell_type": "markdown",
      "source": [
        "# 11.Visualization"
      ],
      "metadata": {
        "id": "J-syli7lRoO0"
      }
    },
    {
      "cell_type": "code",
      "source": [
        "import matplotlib.pyplot as plt\n",
        "import pandas as pd\n",
        "\n",
        "city_revenue = gold_df.groupBy(\"city\").agg(F.sum(\"total_amount\").alias(\"total_revenue\")).toPandas()\n",
        "plt.bar(city_revenue[\"city\"], city_revenue[\"total_revenue\"])\n",
        "plt.xlabel(\"City\")\n",
        "plt.ylabel(\"Total Revenue\")\n",
        "plt.title(\"City vs Total Revenue\")\n",
        "plt.show()\n",
        "\n",
        "hourly_revenue = gold_df.withColumn(\"hour\", F.hour(\"ts\")) \\\n",
        "    .groupBy(\"hour\").agg(F.sum(\"total_amount\").alias(\"total_revenue\")).toPandas()\n",
        "plt.plot(hourly_revenue[\"hour\"], hourly_revenue[\"total_revenue\"])\n",
        "plt.xlabel(\"Hour\")\n",
        "plt.ylabel(\"Revenue\")\n",
        "plt.title(\"Hourly Revenue\")\n",
        "plt.show()\n"
      ],
      "metadata": {
        "colab": {
          "base_uri": "https://localhost:8080/",
          "height": 927
        },
        "id": "bKy_W-6oRq4C",
        "outputId": "2c9397ba-14e1-4ccd-f9e9-f9e22d2ed801"
      },
      "execution_count": 22,
      "outputs": [
        {
          "output_type": "display_data",
          "data": {
            "text/plain": [
              "<Figure size 640x480 with 1 Axes>"
            ],
            "image/png": "[encoded data removed]"
          },
          "metadata": {}
        },
        {
          "output_type": "display_data",
          "data": {
            "text/plain": [
              "<Figure size 640x480 with 1 Axes>"
            ],
            "image/png": "[encoded data removed]"
          },
          "metadata": {}
        }
      ]
    },
    {
      "cell_type": "markdown",
      "source": [
        "# 12  Managed vs Unmanaged Cleanup"
      ],
      "metadata": {
        "id": "HiH9n3wqRwFr"
      }
    },
    {
      "cell_type": "code",
      "source": [
        "spark.sql(\"DROP TABLE trips_managed\")\n",
        "spark.sql(\"DROP TABLE drivers_ext\")\n",
        "import os\n",
        "print(\"Managed path exists?\", os.path.exists(TRIPS_PATH))\n",
        "print(\"Unmanaged path exists?\", os.path.exists(DRIVERS_PATH))\n"
      ],
      "metadata": {
        "colab": {
          "base_uri": "https://localhost:8080/"
        },
        "id": "KOyktCnURtIb",
        "outputId": "e5dcc7de-d155-4d3c-c688-a80e9b34afaa"
      },
      "execution_count": 23,
      "outputs": [
        {
          "output_type": "stream",
          "name": "stdout",
          "text": [
            "Managed path exists? True\n",
            "Unmanaged path exists? True\n"
          ]
        }
      ]
    },
    {
      "cell_type": "markdown",
      "source": [
        "#13.Constraint Check"
      ],
      "metadata": {
        "id": "g2PKMtr7Rzky"
      }
    },
    {
      "cell_type": "code",
      "source": [
        "from datetime import datetime\n",
        "\n",
        "bad_data = [(1011, \"R010\", \"D010\", \"Bengaluru\", 5.0, 100.0, -5.0, datetime.strptime(\"2025-08-08 11:00:00\", \"%Y-%m-%d %H:%M:%S\"))]\n",
        "bad_df = spark.createDataFrame(bad_data, schema=trip_schema)\n",
        "bad_df_filtered = bad_df.filter(\"tip >= 0\")\n",
        "bad_df_filtered.write.format(\"delta\").mode(\"append\").save(TRIPS_PATH)\n",
        "print(\"Bad data rejected, only valid rows written.\")"
      ],
      "metadata": {
        "colab": {
          "base_uri": "https://localhost:8080/"
        },
        "id": "GKwDY7U7R2xq",
        "outputId": "35999793-8157-4f8b-c28b-dceed8527db7"
      },
      "execution_count": 26,
      "outputs": [
        {
          "output_type": "stream",
          "name": "stdout",
          "text": [
            "Bad data rejected, only valid rows written.\n"
          ]
        }
      ]
    },
    {
      "cell_type": "markdown",
      "source": [
        "#14.Convert Parquet → Delta"
      ],
      "metadata": {
        "id": "-ykw1UAVR65c"
      }
    },
    {
      "cell_type": "code",
      "source": [
        "PARQUET_PATH = f\"{BASE}/trips_parquet\"\n",
        "subset_df = dt.toDF().limit(2)\n",
        "subset_df.write.mode(\"overwrite\").parquet(PARQUET_PATH)\n",
        "spark.sql(f\"CONVERT TO DELTA parquet.`{PARQUET_PATH}`\")\n",
        "spark.read.format(\"delta\").load(PARQUET_PATH).show()"
      ],
      "metadata": {
        "colab": {
          "base_uri": "https://localhost:8080/"
        },
        "id": "l0hoY_-CR_oz",
        "outputId": "b41c4756-b197-44ed-e062-d565e75295af"
      },
      "execution_count": 27,
      "outputs": [
        {
          "output_type": "stream",
          "name": "stdout",
          "text": [
            "+-------+--------+---------+---------+-----------+-----+----+-------------------+\n",
            "|trip_id|rider_id|driver_id|     city|distance_km| fare| tip|                 ts|\n",
            "+-------+--------+---------+---------+-----------+-----+----+-------------------+\n",
            "|   1004|    R001|     D010|Bengaluru|       18.9|500.0|30.0|2025-08-08 08:45:00|\n",
            "|   1005|    R004|     D013|  Chennai|       10.0|260.0|15.0|2025-08-08 09:05:00|\n",
            "+-------+--------+---------+---------+-----------+-----+----+-------------------+\n",
            "\n"
          ]
        }
      ]
    },
    {
      "cell_type": "markdown",
      "source": [
        "#15  KPI Dashboard"
      ],
      "metadata": {
        "id": "7nbs_3ppSCOD"
      }
    },
    {
      "cell_type": "code",
      "source": [
        "total_revenue = gold_df.agg(F.sum(\"total_amount\")).collect()[0][0]\n",
        "print(\"Total Revenue:\", total_revenue)\n",
        "\n",
        "trips_per_city = gold_df.groupBy(\"city\").count().toPandas()\n",
        "plt.bar(trips_per_city[\"city\"], trips_per_city[\"count\"])\n",
        "plt.title(\"Trips per City\")\n",
        "plt.show()\n",
        "\n",
        "top_drivers = gold_df.groupBy(\"driver_name\").agg(F.sum(\"total_amount\").alias(\"total_revenue\")).orderBy(F.desc(\"total_revenue\")).toPandas()\n",
        "plt.bar(top_drivers[\"driver_name\"], top_drivers[\"total_revenue\"])\n",
        "plt.title(\"Top Drivers by Revenue\")\n",
        "plt.show()\n",
        "\n",
        "revenue_by_hour = gold_df.withColumn(\"hour\", F.hour(\"ts\")).groupBy(\"hour\").agg(F.sum(\"total_amount\").alias(\"total_revenue\")).toPandas()\n",
        "plt.plot(revenue_by_hour[\"hour\"], revenue_by_hour[\"total_revenue\"])\n",
        "plt.title(\"Revenue by Hour\")\n",
        "plt.show()"
      ],
      "metadata": {
        "colab": {
          "base_uri": "https://localhost:8080/",
          "height": 1000
        },
        "id": "4mK-wHMWSEED",
        "outputId": "cd57bd96-d706-41a0-d3d9-5bb8b8027c4b"
      },
      "execution_count": 28,
      "outputs": [
        {
          "output_type": "stream",
          "name": "stdout",
          "text": [
            "Total Revenue: 2430.0\n"
          ]
        },
        {
          "output_type": "display_data",
          "data": {
            "text/plain": [
              "<Figure size 640x480 with 1 Axes>"
            ],
            "image/png": "[encoded data removed]"
          },
          "metadata": {}
        },
        {
          "output_type": "display_data",
          "data": {
            "text/plain": [
              "<Figure size 640x480 with 1 Axes>"
            ],
            "image/png": "[encoded data removed]"
          },
          "metadata": {}
        },
        {
          "output_type": "display_data",
          "data": {
            "text/plain": [
              "<Figure size 640x480 with 1 Axes>"
            ],
            "image/png": "[encoded data removed]"
          },
          "metadata": {}
        }
      ]
    }
  ]
}