{
  "nbformat": 4,
  "nbformat_minor": 0,
  "metadata": {
    "colab": {
      "provenance": []
    },
    "kernelspec": {
      "name": "python3",
      "display_name": "Python 3"
    },
    "language_info": {
      "name": "python"
    }
  },
  "cells": [
    {
      "cell_type": "code",
      "source": [
        "# Create CSV file in Colab\n",
        "csv_data = \"\"\"product_id,product_name,category,price,quantity\n",
        "101,Laptop,Electronics,55000,10\n",
        "102,Smartphone,Electronics,30000,25\n",
        "103,Chair,Furniture,2500,50\n",
        "104,Book,Stationery,400,200\n",
        "105,Headphones,Electronics,1500,100\n",
        "106,Table,Furniture,3200,40\n",
        "107,Pen,Stationery,20,500\n",
        "108,Monitor,Electronics,12000,15\n",
        "109,Notebook,Stationery,60,300\n",
        "110,Sofa,Furniture,45000,5\n",
        "\"\"\"\n",
        "\n",
        "with open(\"products.csv\", \"w\") as f:\n",
        "    f.write(csv_data)\n",
        "\n",
        "print(\"CSV file 'products.csv' created successfully.\")\n"
      ],
      "metadata": {
        "colab": {
          "base_uri": "https://localhost:8080/"
        },
        "id": "UyPL5TR9KYXI",
        "outputId": "9f155ccd-1e15-4311-c538-a1306eadce99"
      },
      "execution_count": 2,
      "outputs": [
        {
          "output_type": "stream",
          "name": "stdout",
          "text": [
            "CSV file 'products.csv' created successfully.\n"
          ]
        }
      ]
    },
    {
      "cell_type": "code",
      "source": [
        "from pyspark.sql import SparkSession\n",
        "from pyspark.sql.functions import col, when, expr\n",
        "\n",
        "# Start Spark session\n",
        "spark = SparkSession.builder.appName(\"ProductAnalysis\").getOrCreate()\n"
      ],
      "metadata": {
        "id": "U--N8esKKfLX"
      },
      "execution_count": 3,
      "outputs": []
    },
    {
      "cell_type": "markdown",
      "source": [
        "1. Read CSV and Print Schema"
      ],
      "metadata": {
        "id": "X-Ra8VBJX0Rz"
      }
    },
    {
      "cell_type": "code",
      "source": [
        "csv_df = spark.read.option(\"header\", True).option(\"inferSchema\", True).csv(\"products.csv\")\n",
        "csv_df.printSchema()\n"
      ],
      "metadata": {
        "colab": {
          "base_uri": "https://localhost:8080/"
        },
        "id": "BDiCUETUKwDO",
        "outputId": "689cc70a-ca5d-4c8f-d86b-c08d311c1e04"
      },
      "execution_count": 4,
      "outputs": [
        {
          "output_type": "stream",
          "name": "stdout",
          "text": [
            "root\n",
            " |-- product_id: integer (nullable = true)\n",
            " |-- product_name: string (nullable = true)\n",
            " |-- category: string (nullable = true)\n",
            " |-- price: integer (nullable = true)\n",
            " |-- quantity: integer (nullable = true)\n",
            "\n"
          ]
        }
      ]
    },
    {
      "cell_type": "code",
      "source": [
        "# Create JSON data\n",
        "json_data = [\n",
        "  {\"product_id\": 101, \"product_name\": \"Laptop\", \"category\": \"Electronics\", \"price\": 55000, \"quantity\": 10},\n",
        "  {\"product_id\": 102, \"product_name\": \"Smartphone\", \"category\": \"Electronics\", \"price\": 30000, \"quantity\": 25},\n",
        "  {\"product_id\": 103, \"product_name\": \"Chair\", \"category\": \"Furniture\", \"price\": 2500, \"quantity\": 50},\n",
        "  {\"product_id\": 104, \"product_name\": \"Book\", \"category\": \"Stationery\", \"price\": 400, \"quantity\": 200},\n",
        "  {\"product_id\": 105, \"product_name\": \"Headphones\", \"category\": \"Electronics\", \"price\": 1500, \"quantity\": 100},\n",
        "  {\"product_id\": 106, \"product_name\": \"Table\", \"category\": \"Furniture\", \"price\": 3200, \"quantity\": 40},\n",
        "  {\"product_id\": 107, \"product_name\": \"Pen\", \"category\": \"Stationery\", \"price\": 20, \"quantity\": 500},\n",
        "  {\"product_id\": 108, \"product_name\": \"Monitor\", \"category\": \"Electronics\", \"price\": 12000, \"quantity\": 15},\n",
        "  {\"product_id\": 109, \"product_name\": \"Notebook\", \"category\": \"Stationery\", \"price\": 60, \"quantity\": 300},\n",
        "  {\"product_id\": 110, \"product_name\": \"Sofa\", \"category\": \"Furniture\", \"price\": 45000, \"quantity\": 5}\n",
        "]\n",
        "\n",
        "# Convert list of dicts to Spark DataFrame and write as JSON\n",
        "df = spark.createDataFrame(json_data)\n",
        "df.write.mode(\"overwrite\").json(\"/FileStore/tables/products.json\")\n"
      ],
      "metadata": {
        "id": "LAZsRci2K9PJ"
      },
      "execution_count": 5,
      "outputs": []
    },
    {
      "cell_type": "markdown",
      "source": [
        " 2. Read JSON and Compare Schema"
      ],
      "metadata": {
        "id": "ngOmbmnEX4I9"
      }
    },
    {
      "cell_type": "code",
      "source": [
        "json_df = spark.read.option(\"multiline\", True).json(\"/FileStore/tables/products.json\")\n",
        "json_df.printSchema()\n"
      ],
      "metadata": {
        "colab": {
          "base_uri": "https://localhost:8080/"
        },
        "id": "94chUiKAMD2E",
        "outputId": "eb16611f-0b3c-44ca-eb39-d39519f804a5"
      },
      "execution_count": 6,
      "outputs": [
        {
          "output_type": "stream",
          "name": "stdout",
          "text": [
            "root\n",
            " |-- category: string (nullable = true)\n",
            " |-- price: long (nullable = true)\n",
            " |-- product_id: long (nullable = true)\n",
            " |-- product_name: string (nullable = true)\n",
            " |-- quantity: long (nullable = true)\n",
            "\n"
          ]
        }
      ]
    },
    {
      "cell_type": "markdown",
      "source": [
        "4. Convert CSV to Parquet\n",
        "\n"
      ],
      "metadata": {
        "id": "ovfxkz9DYStG"
      }
    },
    {
      "cell_type": "code",
      "source": [
        "csv_df.write.mode(\"overwrite\").parquet(\"products_parquet\")\n"
      ],
      "metadata": {
        "id": "jWmt_SmIQJFl"
      },
      "execution_count": 8,
      "outputs": []
    },
    {
      "cell_type": "markdown",
      "source": [
        "4. Compare File Sizes\n",
        "\n"
      ],
      "metadata": {
        "id": "GGGKdDhRYf-2"
      }
    },
    {
      "cell_type": "code",
      "source": [
        "import os\n",
        "\n",
        "def get_size(path):\n",
        "    return sum(os.path.getsize(os.path.join(dirpath, f))\n",
        "               for dirpath, _, files in os.walk(path)\n",
        "               for f in files)\n",
        "\n",
        "csv_size = get_size(\"products.csv\")\n",
        "json_size = get_size(\"products.json\")\n",
        "parquet_size = get_size(\"products_parquet\")\n",
        "\n",
        "print(f\"CSV size: {csv_size} bytes\")\n",
        "print(f\"JSON size: {json_size} bytes\")\n",
        "print(f\"Parquet size: {parquet_size} bytes\")\n"
      ],
      "metadata": {
        "colab": {
          "base_uri": "https://localhost:8080/"
        },
        "id": "EoM3oE51XgkM",
        "outputId": "a0ade363-c01a-4f2a-f921-0d938744b106"
      },
      "execution_count": 9,
      "outputs": [
        {
          "output_type": "stream",
          "name": "stdout",
          "text": [
            "CSV size: 0 bytes\n",
            "JSON size: 0 bytes\n",
            "Parquet size: 1766 bytes\n"
          ]
        }
      ]
    },
    {
      "cell_type": "markdown",
      "source": [
        "4. Add total_revenue = price * quantity"
      ],
      "metadata": {
        "id": "N2gaN275Ynxl"
      }
    },
    {
      "cell_type": "code",
      "source": [
        "\n",
        "\n",
        "df = csv_df.withColumn(\"total_revenue\", col(\"price\") * col(\"quantity\"))\n",
        "df.show()"
      ],
      "metadata": {
        "colab": {
          "base_uri": "https://localhost:8080/"
        },
        "id": "bjtxbi-eYifW",
        "outputId": "6b2714d4-8356-4b35-d72c-325907d323be"
      },
      "execution_count": 10,
      "outputs": [
        {
          "output_type": "stream",
          "name": "stdout",
          "text": [
            "+----------+------------+-----------+-----+--------+-------------+\n",
            "|product_id|product_name|   category|price|quantity|total_revenue|\n",
            "+----------+------------+-----------+-----+--------+-------------+\n",
            "|       101|      Laptop|Electronics|55000|      10|       550000|\n",
            "|       102|  Smartphone|Electronics|30000|      25|       750000|\n",
            "|       103|       Chair|  Furniture| 2500|      50|       125000|\n",
            "|       104|        Book| Stationery|  400|     200|        80000|\n",
            "|       105|  Headphones|Electronics| 1500|     100|       150000|\n",
            "|       106|       Table|  Furniture| 3200|      40|       128000|\n",
            "|       107|         Pen| Stationery|   20|     500|        10000|\n",
            "|       108|     Monitor|Electronics|12000|      15|       180000|\n",
            "|       109|    Notebook| Stationery|   60|     300|        18000|\n",
            "|       110|        Sofa|  Furniture|45000|       5|       225000|\n",
            "+----------+------------+-----------+-----+--------+-------------+\n",
            "\n"
          ]
        }
      ]
    },
    {
      "cell_type": "markdown",
      "source": [
        "6. Top 3 Products by Revenue"
      ],
      "metadata": {
        "id": "B59t8XLsY2dH"
      }
    },
    {
      "cell_type": "code",
      "source": [
        "df.orderBy(col(\"total_revenue\").desc()).show(3)\n"
      ],
      "metadata": {
        "colab": {
          "base_uri": "https://localhost:8080/"
        },
        "id": "Wf_Lfr9nYr1u",
        "outputId": "4eb5be31-4d8b-456e-9a8c-34bb3998dea8"
      },
      "execution_count": 11,
      "outputs": [
        {
          "output_type": "stream",
          "name": "stdout",
          "text": [
            "+----------+------------+-----------+-----+--------+-------------+\n",
            "|product_id|product_name|   category|price|quantity|total_revenue|\n",
            "+----------+------------+-----------+-----+--------+-------------+\n",
            "|       102|  Smartphone|Electronics|30000|      25|       750000|\n",
            "|       101|      Laptop|Electronics|55000|      10|       550000|\n",
            "|       110|        Sofa|  Furniture|45000|       5|       225000|\n",
            "+----------+------------+-----------+-----+--------+-------------+\n",
            "only showing top 3 rows\n",
            "\n"
          ]
        }
      ]
    },
    {
      "cell_type": "markdown",
      "source": [
        "7. Furniture Products with Price > 3000\n"
      ],
      "metadata": {
        "id": "x5H3BPTxY9Dw"
      }
    },
    {
      "cell_type": "code",
      "source": [
        "df.filter((col(\"category\") == \"Furniture\") & (col(\"price\") > 3000)).show()"
      ],
      "metadata": {
        "colab": {
          "base_uri": "https://localhost:8080/"
        },
        "id": "9ZOfgM0kY6qO",
        "outputId": "25b5e999-3ff6-4797-b43d-bc600ba7b990"
      },
      "execution_count": 12,
      "outputs": [
        {
          "output_type": "stream",
          "name": "stdout",
          "text": [
            "+----------+------------+---------+-----+--------+-------------+\n",
            "|product_id|product_name| category|price|quantity|total_revenue|\n",
            "+----------+------------+---------+-----+--------+-------------+\n",
            "|       106|       Table|Furniture| 3200|      40|       128000|\n",
            "|       110|        Sofa|Furniture|45000|       5|       225000|\n",
            "+----------+------------+---------+-----+--------+-------------+\n",
            "\n"
          ]
        }
      ]
    },
    {
      "cell_type": "markdown",
      "source": [
        "8. Add price_band Column"
      ],
      "metadata": {
        "id": "A6B_8NxaZEHY"
      }
    },
    {
      "cell_type": "code",
      "source": [
        "df = df.withColumn(\"price_band\", when(col(\"price\") > 10000, \"High\")\n",
        "                                  .when((col(\"price\") > 3000) & (col(\"price\") <= 10000), \"Medium\")\n",
        "                                  .otherwise(\"Low\"))\n",
        "df.select(\"product_name\", \"price\", \"price_band\").show()"
      ],
      "metadata": {
        "colab": {
          "base_uri": "https://localhost:8080/"
        },
        "id": "wCPpnFrNZBdP",
        "outputId": "a7e7d87c-9ef3-4ec7-b45f-c6ad91c75958"
      },
      "execution_count": 13,
      "outputs": [
        {
          "output_type": "stream",
          "name": "stdout",
          "text": [
            "+------------+-----+----------+\n",
            "|product_name|price|price_band|\n",
            "+------------+-----+----------+\n",
            "|      Laptop|55000|      High|\n",
            "|  Smartphone|30000|      High|\n",
            "|       Chair| 2500|       Low|\n",
            "|        Book|  400|       Low|\n",
            "|  Headphones| 1500|       Low|\n",
            "|       Table| 3200|    Medium|\n",
            "|         Pen|   20|       Low|\n",
            "|     Monitor|12000|      High|\n",
            "|    Notebook|   60|       Low|\n",
            "|        Sofa|45000|      High|\n",
            "+------------+-----+----------+\n",
            "\n"
          ]
        }
      ]
    },
    {
      "cell_type": "markdown",
      "source": [
        "9. Group by Category - Total Quantity Sold"
      ],
      "metadata": {
        "id": "ETRhFMkLZLuQ"
      }
    },
    {
      "cell_type": "code",
      "source": [
        "df.groupBy(\"category\").sum(\"quantity\").withColumnRenamed(\"sum(quantity)\", \"total_quantity\").show()"
      ],
      "metadata": {
        "colab": {
          "base_uri": "https://localhost:8080/"
        },
        "id": "3Mp7ZR6pZHhn",
        "outputId": "194894e8-8241-4a9c-bcef-8538828b2b93"
      },
      "execution_count": 14,
      "outputs": [
        {
          "output_type": "stream",
          "name": "stdout",
          "text": [
            "+-----------+--------------+\n",
            "|   category|total_quantity|\n",
            "+-----------+--------------+\n",
            "| Stationery|          1000|\n",
            "|Electronics|           150|\n",
            "|  Furniture|            95|\n",
            "+-----------+--------------+\n",
            "\n"
          ]
        }
      ]
    },
    {
      "cell_type": "markdown",
      "source": [
        "10. Average Price by Category"
      ],
      "metadata": {
        "id": "qIFg6uSkZUaH"
      }
    },
    {
      "cell_type": "code",
      "source": [
        "df.groupBy(\"category\").avg(\"price\").withColumnRenamed(\"avg(price)\", \"avg_price\").show()"
      ],
      "metadata": {
        "colab": {
          "base_uri": "https://localhost:8080/"
        },
        "id": "-53DU-F3ZQko",
        "outputId": "86c33645-c810-4c4c-8a41-9092501dfec3"
      },
      "execution_count": 15,
      "outputs": [
        {
          "output_type": "stream",
          "name": "stdout",
          "text": [
            "+-----------+---------+\n",
            "|   category|avg_price|\n",
            "+-----------+---------+\n",
            "| Stationery|    160.0|\n",
            "|Electronics|  24625.0|\n",
            "|  Furniture|  16900.0|\n",
            "+-----------+---------+\n",
            "\n"
          ]
        }
      ]
    },
    {
      "cell_type": "markdown",
      "source": [
        "11. Count Products by Price Band"
      ],
      "metadata": {
        "id": "weJAt6XHZaLf"
      }
    },
    {
      "cell_type": "code",
      "source": [
        "df.groupBy(\"price_band\").count().show()"
      ],
      "metadata": {
        "colab": {
          "base_uri": "https://localhost:8080/"
        },
        "id": "daOkfO1aZWeH",
        "outputId": "c0fdee9c-eac6-41b0-d6fd-ace6fe04ef7c"
      },
      "execution_count": 16,
      "outputs": [
        {
          "output_type": "stream",
          "name": "stdout",
          "text": [
            "+----------+-----+\n",
            "|price_band|count|\n",
            "+----------+-----+\n",
            "|      High|    4|\n",
            "|       Low|    5|\n",
            "|    Medium|    1|\n",
            "+----------+-----+\n",
            "\n"
          ]
        }
      ]
    },
    {
      "cell_type": "markdown",
      "source": [
        "12. Filtered Electronics (price > 5000) to Parquet"
      ],
      "metadata": {
        "id": "i2Mvv1mmZvoV"
      }
    },
    {
      "cell_type": "code",
      "source": [
        "df.filter((col(\"category\") == \"Electronics\") & (col(\"price\") > 5000)) \\\n",
        "  .write.mode(\"overwrite\").parquet(\"filtered_electronics.parquet\")"
      ],
      "metadata": {
        "id": "VzXo0nGEZr8R"
      },
      "execution_count": 17,
      "outputs": []
    },
    {
      "cell_type": "markdown",
      "source": [
        "13. Stationery Products to JSON"
      ],
      "metadata": {
        "id": "vriYeBtcZ1VZ"
      }
    },
    {
      "cell_type": "code",
      "source": [
        "df.filter(col(\"category\") == \"Stationery\") \\\n",
        "  .write.mode(\"overwrite\").json(\"stationery_products.json\")"
      ],
      "metadata": {
        "id": "_ejSAAqfZxrY"
      },
      "execution_count": null,
      "outputs": []
    },
    {
      "cell_type": "markdown",
      "source": [
        "14. Load Parquet & Find Category with Highest Revenue\n"
      ],
      "metadata": {
        "id": "Td9vv97_Z9RB"
      }
    },
    {
      "cell_type": "code",
      "source": [
        "parquet_df = spark.read.parquet(\"products_parquet\")\n",
        "parquet_df = parquet_df.withColumn(\"total_revenue\", col(\"price\") * col(\"quantity\"))\n",
        "\n",
        "parquet_df.groupBy(\"category\").sum(\"total_revenue\") \\\n",
        "  .withColumnRenamed(\"sum(total_revenue)\", \"category_revenue\") \\\n",
        "  .orderBy(col(\"category_revenue\").desc()).show(1)"
      ],
      "metadata": {
        "id": "Yf8vISdnZ3_i"
      },
      "execution_count": null,
      "outputs": []
    },
    {
      "cell_type": "markdown",
      "source": [
        "15. BONUS: Temp View + SQL for Quantity > 100 and Price < 1000"
      ],
      "metadata": {
        "id": "in1OV5JvaEiq"
      }
    },
    {
      "cell_type": "code",
      "source": [
        "df.createOrReplaceTempView(\"products\")\n",
        "spark.sql(\"\"\"\n",
        "    SELECT * FROM products\n",
        "    WHERE quantity > 100 AND price < 1000\n",
        "\"\"\").show()\n"
      ],
      "metadata": {
        "colab": {
          "base_uri": "https://localhost:8080/"
        },
        "id": "iVmQ6wSHaAwi",
        "outputId": "7ddec714-eef4-4836-a1f6-bae636157271"
      },
      "execution_count": 18,
      "outputs": [
        {
          "output_type": "stream",
          "name": "stdout",
          "text": [
            "+----------+------------+----------+-----+--------+-------------+----------+\n",
            "|product_id|product_name|  category|price|quantity|total_revenue|price_band|\n",
            "+----------+------------+----------+-----+--------+-------------+----------+\n",
            "|       104|        Book|Stationery|  400|     200|        80000|       Low|\n",
            "|       107|         Pen|Stationery|   20|     500|        10000|       Low|\n",
            "|       109|    Notebook|Stationery|   60|     300|        18000|       Low|\n",
            "+----------+------------+----------+-----+--------+-------------+----------+\n",
            "\n"
          ]
        }
      ]
    }
  ]
}