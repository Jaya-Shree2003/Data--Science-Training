{
  "nbformat": 4,
  "nbformat_minor": 0,
  "metadata": {
    "colab": {
      "provenance": []
    },
    "kernelspec": {
      "name": "python3",
      "display_name": "Python 3"
    },
    "language_info": {
      "name": "python"
    }
  },
  "cells": [
    {
      "cell_type": "code",
      "source": [
        "import pandas as pd\n",
        "import numpy as np\n",
        "\n",
        "# Load expenses and categories\n",
        "expenses_df = pd.read_csv('expenses.csv')\n",
        "categories_df = pd.read_csv('categories.csv')\n",
        "\n",
        "# Merge on category_id to get category names\n",
        "df = pd.merge(expenses_df, categories_df, on='category_id', how='left')\n",
        "\n",
        "# Clean and standardize data\n",
        "df['amount'] = df['amount'].replace('[\\$,]', '', regex=True).astype(float)\n",
        "df['expense_date'] = pd.to_datetime(df['expense_date'])\n",
        "df['month'] = df['expense_date'].dt.to_period('M')\n",
        "\n",
        "# Rename 'name' from categories table to 'category'\n",
        "df.rename(columns={'name': 'category'}, inplace=True)\n",
        "\n",
        "# Calculate monthly totals and averages\n",
        "monthly_totals = df.groupby('month')['amount'].sum()\n",
        "monthly_avg = np.round(df.groupby('month')['amount'].mean(), 2)\n",
        "\n",
        "# Create category-wise breakdown\n",
        "category_breakdown = df.groupby(['month', 'category'])['amount'].sum().unstack().fillna(0)\n",
        "\n",
        "# Save category-wise monthly breakdown as CSV\n",
        "category_breakdown.to_csv('monthly_expense_report.csv')\n",
        "\n",
        "print(\"Report saved as 'monthly_expense_report.csv'\")\n"
      ],
      "metadata": {
        "colab": {
          "base_uri": "https://localhost:8080/"
        },
        "id": "jcZiKUBQqlr-",
        "outputId": "6546a5eb-f6e4-408d-a342-4291de5fae10"
      },
      "execution_count": 5,
      "outputs": [
        {
          "output_type": "stream",
          "name": "stdout",
          "text": [
            "Report saved as 'monthly_expense_report.csv'\n"
          ]
        }
      ]
    }
  ]
}